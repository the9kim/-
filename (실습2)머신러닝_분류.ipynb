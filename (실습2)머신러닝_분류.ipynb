{
  "nbformat": 4,
  "nbformat_minor": 0,
  "metadata": {
    "colab": {
      "name": "(실습2)머신러닝_분류.ipynb",
      "provenance": []
    },
    "kernelspec": {
      "name": "python3",
      "display_name": "Python 3"
    },
    "language_info": {
      "name": "python"
    }
  },
  "cells": [
    {
      "cell_type": "code",
      "execution_count": null,
      "metadata": {
        "id": "z7dO5Vi6Zqt1"
      },
      "outputs": [],
      "source": [
        ""
      ]
    },
    {
      "cell_type": "markdown",
      "source": [
        "# 2-11 프로젝트(1) load_digits: 손글씨를 분류해봅시다\n",
        "\n"
      ],
      "metadata": {
        "id": "PSJnkvsZmZeM"
      }
    },
    {
      "cell_type": "code",
      "source": [
        "# 모듈 import하기\n",
        "\n",
        "from sklearn.datasets import load_digits\n",
        "from sklearn.model_selection import train_test_split\n",
        "from sklearn.metrics import classification_report\n"
      ],
      "metadata": {
        "id": "CivMfsPRmkzD"
      },
      "execution_count": null,
      "outputs": []
    },
    {
      "cell_type": "code",
      "source": [
        "# 데이터 준비 : load_digits\n",
        "digits = load_digits()\n",
        "print(dir(digits))"
      ],
      "metadata": {
        "colab": {
          "base_uri": "https://localhost:8080/"
        },
        "id": "QZXOi0Mnpdsw",
        "outputId": "333f28ec-6bbd-43de-cb3a-80bd6618b977"
      },
      "execution_count": null,
      "outputs": [
        {
          "output_type": "stream",
          "name": "stdout",
          "text": [
            "['DESCR', 'data', 'feature_names', 'frame', 'images', 'target', 'target_names']\n"
          ]
        }
      ]
    },
    {
      "cell_type": "code",
      "source": [
        "# 데이터 이해하기\n",
        "digits_data = digits.data         # Feature Data 지정\n",
        "digits_label = digits.target      # Label Data 지정\n",
        "digits.target_names               # Target Names 출력\n",
        "print(digits.DESCR)               # Feature Data 지정"
      ],
      "metadata": {
        "colab": {
          "base_uri": "https://localhost:8080/"
        },
        "id": "0FYDwXmEqKDT",
        "outputId": "073733e5-1908-4318-c545-53f236f74df7"
      },
      "execution_count": null,
      "outputs": [
        {
          "output_type": "stream",
          "name": "stdout",
          "text": [
            ".. _digits_dataset:\n",
            "\n",
            "Optical recognition of handwritten digits dataset\n",
            "--------------------------------------------------\n",
            "\n",
            "**Data Set Characteristics:**\n",
            "\n",
            "    :Number of Instances: 1797\n",
            "    :Number of Attributes: 64\n",
            "    :Attribute Information: 8x8 image of integer pixels in the range 0..16.\n",
            "    :Missing Attribute Values: None\n",
            "    :Creator: E. Alpaydin (alpaydin '@' boun.edu.tr)\n",
            "    :Date: July; 1998\n",
            "\n",
            "This is a copy of the test set of the UCI ML hand-written digits datasets\n",
            "https://archive.ics.uci.edu/ml/datasets/Optical+Recognition+of+Handwritten+Digits\n",
            "\n",
            "The data set contains images of hand-written digits: 10 classes where\n",
            "each class refers to a digit.\n",
            "\n",
            "Preprocessing programs made available by NIST were used to extract\n",
            "normalized bitmaps of handwritten digits from a preprinted form. From a\n",
            "total of 43 people, 30 contributed to the training set and different 13\n",
            "to the test set. 32x32 bitmaps are divided into nonoverlapping blocks of\n",
            "4x4 and the number of on pixels are counted in each block. This generates\n",
            "an input matrix of 8x8 where each element is an integer in the range\n",
            "0..16. This reduces dimensionality and gives invariance to small\n",
            "distortions.\n",
            "\n",
            "For info on NIST preprocessing routines, see M. D. Garris, J. L. Blue, G.\n",
            "T. Candela, D. L. Dimmick, J. Geist, P. J. Grother, S. A. Janet, and C.\n",
            "L. Wilson, NIST Form-Based Handprint Recognition System, NISTIR 5469,\n",
            "1994.\n",
            "\n",
            ".. topic:: References\n",
            "\n",
            "  - C. Kaynak (1995) Methods of Combining Multiple Classifiers and Their\n",
            "    Applications to Handwritten Digit Recognition, MSc Thesis, Institute of\n",
            "    Graduate Studies in Science and Engineering, Bogazici University.\n",
            "  - E. Alpaydin, C. Kaynak (1998) Cascading Classifiers, Kybernetika.\n",
            "  - Ken Tang and Ponnuthurai N. Suganthan and Xi Yao and A. Kai Qin.\n",
            "    Linear dimensionalityreduction using relevance weighted LDA. School of\n",
            "    Electrical and Electronic Engineering Nanyang Technological University.\n",
            "    2005.\n",
            "  - Claudio Gentile. A New Approximate Maximal Margin Classification\n",
            "    Algorithm. NIPS. 2000.\n",
            "\n"
          ]
        }
      ]
    },
    {
      "cell_type": "code",
      "source": [
        "# train, test 데이터 분리\n",
        "x_train, x_test, y_train, y_test = train_test_split(digits_data, digits_label, test_size=0.2, random_state=21)\n"
      ],
      "metadata": {
        "id": "gpY8tyXLqNWy"
      },
      "execution_count": null,
      "outputs": []
    },
    {
      "cell_type": "code",
      "source": [
        "# 모델 학습 - Decision Tree\n",
        "from sklearn.tree import DecisionTreeClassifier\n",
        "\n",
        "digits_model = DecisionTreeClassifier(random_state=64)\n",
        "digits_model.fit(x_train, y_train)\n",
        "digits_model"
      ],
      "metadata": {
        "colab": {
          "base_uri": "https://localhost:8080/"
        },
        "id": "SomEkrJJqTYi",
        "outputId": "d7c355ec-1b58-485c-e8d1-20b3e8cc0839"
      },
      "execution_count": null,
      "outputs": [
        {
          "output_type": "execute_result",
          "data": {
            "text/plain": [
              "DecisionTreeClassifier(random_state=64)"
            ]
          },
          "metadata": {},
          "execution_count": 11
        }
      ]
    },
    {
      "cell_type": "code",
      "source": [
        "#모델 테스트 - Decision Tree\n",
        "y_pred = digits_model.predict(x_test)\n",
        "y_pred\n"
      ],
      "metadata": {
        "colab": {
          "base_uri": "https://localhost:8080/"
        },
        "id": "3OZBu-UmqUfj",
        "outputId": "49865871-24f7-42c3-e844-e7b29d3b1478"
      },
      "execution_count": null,
      "outputs": [
        {
          "output_type": "execute_result",
          "data": {
            "text/plain": [
              "array([6, 8, 1, 7, 4, 5, 5, 5, 0, 3, 4, 6, 6, 9, 2, 3, 8, 2, 8, 2, 8, 2,\n",
              "       3, 5, 7, 5, 5, 7, 0, 3, 2, 7, 3, 6, 5, 0, 3, 7, 4, 7, 9, 9, 0, 3,\n",
              "       9, 8, 0, 2, 5, 5, 8, 7, 6, 9, 5, 5, 2, 9, 0, 4, 8, 9, 8, 2, 4, 5,\n",
              "       5, 2, 2, 8, 5, 3, 2, 5, 3, 0, 3, 1, 5, 4, 0, 0, 4, 8, 1, 8, 3, 3,\n",
              "       0, 3, 0, 3, 3, 3, 4, 3, 4, 6, 8, 4, 5, 2, 3, 3, 1, 8, 0, 1, 5, 4,\n",
              "       5, 4, 4, 1, 3, 0, 7, 0, 8, 5, 3, 6, 7, 6, 6, 3, 0, 0, 3, 7, 0, 2,\n",
              "       8, 3, 2, 4, 0, 9, 9, 2, 0, 5, 8, 3, 5, 2, 3, 8, 8, 9, 3, 7, 9, 5,\n",
              "       1, 2, 9, 2, 6, 1, 1, 4, 8, 0, 7, 7, 8, 1, 9, 5, 0, 7, 4, 7, 6, 7,\n",
              "       5, 1, 3, 6, 3, 0, 5, 7, 6, 7, 3, 8, 4, 0, 1, 4, 1, 6, 7, 3, 8, 5,\n",
              "       3, 0, 7, 7, 5, 3, 9, 8, 4, 2, 0, 5, 0, 9, 8, 7, 7, 4, 0, 2, 9, 8,\n",
              "       5, 7, 7, 4, 0, 2, 6, 2, 6, 8, 9, 3, 0, 4, 5, 3, 7, 1, 9, 5, 1, 8,\n",
              "       8, 0, 8, 6, 0, 8, 5, 6, 7, 3, 8, 5, 1, 9, 3, 6, 1, 9, 2, 3, 7, 6,\n",
              "       1, 5, 2, 8, 7, 9, 5, 0, 3, 8, 8, 6, 4, 7, 6, 8, 4, 3, 1, 8, 7, 0,\n",
              "       4, 6, 7, 2, 8, 3, 8, 3, 7, 0, 4, 0, 6, 5, 4, 4, 6, 7, 8, 8, 5, 1,\n",
              "       3, 7, 6, 2, 8, 9, 1, 8, 9, 8, 8, 6, 9, 8, 1, 6, 9, 4, 6, 7, 6, 2,\n",
              "       8, 7, 5, 7, 9, 3, 4, 3, 8, 8, 9, 1, 5, 7, 4, 9, 6, 1, 9, 3, 1, 5,\n",
              "       4, 3, 7, 2, 3, 5, 3, 7])"
            ]
          },
          "metadata": {},
          "execution_count": 12
        }
      ]
    },
    {
      "cell_type": "code",
      "source": [
        "# 모델 평가 - Decision Tree\n",
        "print(classification_report(y_test, y_pred))"
      ],
      "metadata": {
        "colab": {
          "base_uri": "https://localhost:8080/"
        },
        "id": "ruD1uHOfvARK",
        "outputId": "57b6d9fb-2420-40f2-97a9-09320d2fc680"
      },
      "execution_count": null,
      "outputs": [
        {
          "output_type": "stream",
          "name": "stdout",
          "text": [
            "              precision    recall  f1-score   support\n",
            "\n",
            "           0       0.86      0.94      0.90        32\n",
            "           1       0.96      0.67      0.79        36\n",
            "           2       0.82      0.77      0.79        30\n",
            "           3       0.71      0.85      0.78        41\n",
            "           4       0.81      0.81      0.81        32\n",
            "           5       0.98      0.89      0.93        46\n",
            "           6       0.90      0.88      0.89        32\n",
            "           7       0.90      0.93      0.91        40\n",
            "           8       0.75      0.86      0.80        42\n",
            "           9       0.72      0.72      0.72        29\n",
            "\n",
            "    accuracy                           0.84       360\n",
            "   macro avg       0.84      0.83      0.83       360\n",
            "weighted avg       0.85      0.84      0.84       360\n",
            "\n"
          ]
        }
      ]
    },
    {
      "cell_type": "code",
      "source": [
        "# 모델 학습 - Random Forest\n",
        "\n",
        "from sklearn.ensemble import RandomForestClassifier\n",
        "\n",
        "digits_model = RandomForestClassifier(random_state=32)\n",
        "digits_model.fit(x_train, y_train)"
      ],
      "metadata": {
        "colab": {
          "base_uri": "https://localhost:8080/"
        },
        "id": "EnF-8TzIfYh0",
        "outputId": "26b2f987-9539-4c32-f61d-9a355cb8b38a"
      },
      "execution_count": null,
      "outputs": [
        {
          "output_type": "execute_result",
          "data": {
            "text/plain": [
              "RandomForestClassifier(random_state=32)"
            ]
          },
          "metadata": {},
          "execution_count": 21
        }
      ]
    },
    {
      "cell_type": "code",
      "source": [
        "# 모델 테스트 및 결과 - Random Forest\n",
        "\n",
        "y_pred=digits_model.predict(x_test)\n",
        "print(classification_report(y_test, y_pred))"
      ],
      "metadata": {
        "colab": {
          "base_uri": "https://localhost:8080/"
        },
        "id": "VfY5YNnpiSTj",
        "outputId": "5b0573aa-ebd6-489b-eb0b-32d4cce99c08"
      },
      "execution_count": null,
      "outputs": [
        {
          "output_type": "stream",
          "name": "stdout",
          "text": [
            "              precision    recall  f1-score   support\n",
            "\n",
            "           0       0.97      0.94      0.95        32\n",
            "           1       0.97      1.00      0.99        36\n",
            "           2       1.00      1.00      1.00        30\n",
            "           3       0.98      0.98      0.98        41\n",
            "           4       0.94      0.97      0.95        32\n",
            "           5       1.00      0.98      0.99        46\n",
            "           6       1.00      0.97      0.98        32\n",
            "           7       0.98      1.00      0.99        40\n",
            "           8       0.93      0.98      0.95        42\n",
            "           9       1.00      0.93      0.96        29\n",
            "\n",
            "    accuracy                           0.97       360\n",
            "   macro avg       0.98      0.97      0.97       360\n",
            "weighted avg       0.98      0.97      0.98       360\n",
            "\n"
          ]
        }
      ]
    },
    {
      "cell_type": "code",
      "source": [
        "# 모델 학습 - SupportVector Machine\n",
        "\n",
        "from sklearn import svm\n",
        "\n",
        "svm_model = svm.SVC()\n",
        "svm_model.fit(x_train, y_train)"
      ],
      "metadata": {
        "colab": {
          "base_uri": "https://localhost:8080/"
        },
        "id": "iNKm84Dki8PA",
        "outputId": "05c7bce3-c322-4bb5-f8fc-895f64b78534"
      },
      "execution_count": null,
      "outputs": [
        {
          "output_type": "execute_result",
          "data": {
            "text/plain": [
              "SVC()"
            ]
          },
          "metadata": {},
          "execution_count": 24
        }
      ]
    },
    {
      "cell_type": "code",
      "source": [
        "# 모델 테스트 및 평가 - SupportVector Machine\n",
        "\n",
        "y_pred = svm_model.predict(x_test)\n",
        "print(classification_report(y_test, y_pred))\n"
      ],
      "metadata": {
        "colab": {
          "base_uri": "https://localhost:8080/"
        },
        "id": "KCBaBHHijiW4",
        "outputId": "f4d2657c-3ad6-42e0-c596-af07caa1e94f"
      },
      "execution_count": null,
      "outputs": [
        {
          "output_type": "stream",
          "name": "stdout",
          "text": [
            "              precision    recall  f1-score   support\n",
            "\n",
            "           0       1.00      0.97      0.98        32\n",
            "           1       0.95      1.00      0.97        36\n",
            "           2       1.00      1.00      1.00        30\n",
            "           3       1.00      1.00      1.00        41\n",
            "           4       0.97      1.00      0.98        32\n",
            "           5       0.98      1.00      0.99        46\n",
            "           6       1.00      1.00      1.00        32\n",
            "           7       1.00      1.00      1.00        40\n",
            "           8       0.98      0.95      0.96        42\n",
            "           9       1.00      0.93      0.96        29\n",
            "\n",
            "    accuracy                           0.99       360\n",
            "   macro avg       0.99      0.99      0.99       360\n",
            "weighted avg       0.99      0.99      0.99       360\n",
            "\n"
          ]
        }
      ]
    },
    {
      "cell_type": "code",
      "source": [
        "# 모델 학습 - Stochastic Gradient Decsent Classfier(SDGClassifier)\n",
        "\n",
        "from sklearn.linear_model import SGDClassifier\n",
        "\n",
        "digits_model = SGDClassifier()\n",
        "digits_model.fit(x_train, y_train)\n"
      ],
      "metadata": {
        "colab": {
          "base_uri": "https://localhost:8080/"
        },
        "id": "20hGPEA5kOBR",
        "outputId": "0ee3efd3-cf83-4ee5-8e3c-e3bc949eb836"
      },
      "execution_count": null,
      "outputs": [
        {
          "output_type": "execute_result",
          "data": {
            "text/plain": [
              "SGDClassifier()"
            ]
          },
          "metadata": {},
          "execution_count": 30
        }
      ]
    },
    {
      "cell_type": "code",
      "source": [
        "# 테스트 및 평가 - Stochastic Gradient Decsent Classfier(SDGClassifier)\n",
        "\n",
        "y_pred = digits_model.predict(x_test)\n",
        "print(classification_report(y_test, y_pred))"
      ],
      "metadata": {
        "colab": {
          "base_uri": "https://localhost:8080/"
        },
        "id": "YprcC4zLkwyw",
        "outputId": "cf7182ed-3381-4638-9392-42f14beaab37"
      },
      "execution_count": null,
      "outputs": [
        {
          "output_type": "stream",
          "name": "stdout",
          "text": [
            "              precision    recall  f1-score   support\n",
            "\n",
            "           0       1.00      0.94      0.97        32\n",
            "           1       0.94      0.92      0.93        36\n",
            "           2       1.00      1.00      1.00        30\n",
            "           3       0.93      1.00      0.96        41\n",
            "           4       0.89      1.00      0.94        32\n",
            "           5       0.96      0.93      0.95        46\n",
            "           6       1.00      0.94      0.97        32\n",
            "           7       1.00      0.95      0.97        40\n",
            "           8       0.98      0.95      0.96        42\n",
            "           9       0.90      0.97      0.93        29\n",
            "\n",
            "    accuracy                           0.96       360\n",
            "   macro avg       0.96      0.96      0.96       360\n",
            "weighted avg       0.96      0.96      0.96       360\n",
            "\n"
          ]
        }
      ]
    },
    {
      "cell_type": "code",
      "source": [
        "# 모델 학습 - Logistic Regression\n",
        "\n",
        "from sklearn.linear_model import LogisticRegression\n",
        "\n",
        "digits_model = LogisticRegression()\n",
        "digits_model.fit(x_train, y_train)\n",
        "\n"
      ],
      "metadata": {
        "colab": {
          "base_uri": "https://localhost:8080/"
        },
        "id": "Izc2VTA0lGvP",
        "outputId": "3989ebdf-d544-4698-999f-fa9540af8c78"
      },
      "execution_count": null,
      "outputs": [
        {
          "output_type": "stream",
          "name": "stderr",
          "text": [
            "/usr/local/lib/python3.7/dist-packages/sklearn/linear_model/_logistic.py:818: ConvergenceWarning: lbfgs failed to converge (status=1):\n",
            "STOP: TOTAL NO. of ITERATIONS REACHED LIMIT.\n",
            "\n",
            "Increase the number of iterations (max_iter) or scale the data as shown in:\n",
            "    https://scikit-learn.org/stable/modules/preprocessing.html\n",
            "Please also refer to the documentation for alternative solver options:\n",
            "    https://scikit-learn.org/stable/modules/linear_model.html#logistic-regression\n",
            "  extra_warning_msg=_LOGISTIC_SOLVER_CONVERGENCE_MSG,\n"
          ]
        },
        {
          "output_type": "execute_result",
          "data": {
            "text/plain": [
              "LogisticRegression()"
            ]
          },
          "metadata": {},
          "execution_count": 39
        }
      ]
    },
    {
      "cell_type": "code",
      "source": [
        "# 모델 테스트 및 평가 - Logistic Regression\n",
        "\n",
        "y_pred = digits_model.predict(x_test)\n",
        "print(classification_report(y_test, y_pred))\n"
      ],
      "metadata": {
        "colab": {
          "base_uri": "https://localhost:8080/"
        },
        "id": "p5SV1sIcl06T",
        "outputId": "6f4fd661-43e5-493b-b725-d913ed6e8e9a"
      },
      "execution_count": null,
      "outputs": [
        {
          "output_type": "stream",
          "name": "stdout",
          "text": [
            "              precision    recall  f1-score   support\n",
            "\n",
            "           0       1.00      1.00      1.00        32\n",
            "           1       0.95      0.97      0.96        36\n",
            "           2       1.00      1.00      1.00        30\n",
            "           3       0.98      1.00      0.99        41\n",
            "           4       0.94      0.97      0.95        32\n",
            "           5       0.98      0.98      0.98        46\n",
            "           6       1.00      1.00      1.00        32\n",
            "           7       0.97      0.97      0.97        40\n",
            "           8       1.00      0.95      0.98        42\n",
            "           9       0.96      0.93      0.95        29\n",
            "\n",
            "    accuracy                           0.98       360\n",
            "   macro avg       0.98      0.98      0.98       360\n",
            "weighted avg       0.98      0.98      0.98       360\n",
            "\n"
          ]
        }
      ]
    },
    {
      "cell_type": "markdown",
      "source": [
        "# 2-12. 프로젝트 (2) load_wine : 와인을 분류해 봅시다\n"
      ],
      "metadata": {
        "id": "p5gmX-wm_nGZ"
      }
    },
    {
      "cell_type": "code",
      "source": [
        "# 1. 데이터 준비 \n",
        "\n",
        "from sklearn.datasets import load_wine\n",
        "\n",
        "wine = load_wine()\n",
        "print(dir(wine))"
      ],
      "metadata": {
        "colab": {
          "base_uri": "https://localhost:8080/"
        },
        "id": "VbGaG8wk_xfK",
        "outputId": "0fb9bad0-410f-48a0-d5f2-de746fac4151"
      },
      "execution_count": null,
      "outputs": [
        {
          "output_type": "stream",
          "name": "stdout",
          "text": [
            "['DESCR', 'data', 'feature_names', 'frame', 'target', 'target_names']\n"
          ]
        }
      ]
    },
    {
      "cell_type": "code",
      "source": [
        "# 2. 데이터 이해하기\n",
        "\n",
        "# Feature Data 지정\n",
        "wine_data = wine.data\n",
        "\n",
        "# Label Data 지정\n",
        "wine_label = wine.target\n",
        "\n",
        "# target_names 출력\n",
        "print(wine.target_names)\n",
        "\n",
        "# 데이터 Describe\n",
        "print(wine.DESCR)\n",
        "\n"
      ],
      "metadata": {
        "colab": {
          "base_uri": "https://localhost:8080/"
        },
        "id": "q5PEUlemAXgx",
        "outputId": "c231221a-e75a-48f1-806a-f41f53bb89c9"
      },
      "execution_count": null,
      "outputs": [
        {
          "output_type": "stream",
          "name": "stdout",
          "text": [
            "['class_0' 'class_1' 'class_2']\n",
            ".. _wine_dataset:\n",
            "\n",
            "Wine recognition dataset\n",
            "------------------------\n",
            "\n",
            "**Data Set Characteristics:**\n",
            "\n",
            "    :Number of Instances: 178 (50 in each of three classes)\n",
            "    :Number of Attributes: 13 numeric, predictive attributes and the class\n",
            "    :Attribute Information:\n",
            " \t\t- Alcohol\n",
            " \t\t- Malic acid\n",
            " \t\t- Ash\n",
            "\t\t- Alcalinity of ash  \n",
            " \t\t- Magnesium\n",
            "\t\t- Total phenols\n",
            " \t\t- Flavanoids\n",
            " \t\t- Nonflavanoid phenols\n",
            " \t\t- Proanthocyanins\n",
            "\t\t- Color intensity\n",
            " \t\t- Hue\n",
            " \t\t- OD280/OD315 of diluted wines\n",
            " \t\t- Proline\n",
            "\n",
            "    - class:\n",
            "            - class_0\n",
            "            - class_1\n",
            "            - class_2\n",
            "\t\t\n",
            "    :Summary Statistics:\n",
            "    \n",
            "    ============================= ==== ===== ======= =====\n",
            "                                   Min   Max   Mean     SD\n",
            "    ============================= ==== ===== ======= =====\n",
            "    Alcohol:                      11.0  14.8    13.0   0.8\n",
            "    Malic Acid:                   0.74  5.80    2.34  1.12\n",
            "    Ash:                          1.36  3.23    2.36  0.27\n",
            "    Alcalinity of Ash:            10.6  30.0    19.5   3.3\n",
            "    Magnesium:                    70.0 162.0    99.7  14.3\n",
            "    Total Phenols:                0.98  3.88    2.29  0.63\n",
            "    Flavanoids:                   0.34  5.08    2.03  1.00\n",
            "    Nonflavanoid Phenols:         0.13  0.66    0.36  0.12\n",
            "    Proanthocyanins:              0.41  3.58    1.59  0.57\n",
            "    Colour Intensity:              1.3  13.0     5.1   2.3\n",
            "    Hue:                          0.48  1.71    0.96  0.23\n",
            "    OD280/OD315 of diluted wines: 1.27  4.00    2.61  0.71\n",
            "    Proline:                       278  1680     746   315\n",
            "    ============================= ==== ===== ======= =====\n",
            "\n",
            "    :Missing Attribute Values: None\n",
            "    :Class Distribution: class_0 (59), class_1 (71), class_2 (48)\n",
            "    :Creator: R.A. Fisher\n",
            "    :Donor: Michael Marshall (MARSHALL%PLU@io.arc.nasa.gov)\n",
            "    :Date: July, 1988\n",
            "\n",
            "This is a copy of UCI ML Wine recognition datasets.\n",
            "https://archive.ics.uci.edu/ml/machine-learning-databases/wine/wine.data\n",
            "\n",
            "The data is the results of a chemical analysis of wines grown in the same\n",
            "region in Italy by three different cultivators. There are thirteen different\n",
            "measurements taken for different constituents found in the three types of\n",
            "wine.\n",
            "\n",
            "Original Owners: \n",
            "\n",
            "Forina, M. et al, PARVUS - \n",
            "An Extendible Package for Data Exploration, Classification and Correlation. \n",
            "Institute of Pharmaceutical and Food Analysis and Technologies,\n",
            "Via Brigata Salerno, 16147 Genoa, Italy.\n",
            "\n",
            "Citation:\n",
            "\n",
            "Lichman, M. (2013). UCI Machine Learning Repository\n",
            "[https://archive.ics.uci.edu/ml]. Irvine, CA: University of California,\n",
            "School of Information and Computer Science. \n",
            "\n",
            ".. topic:: References\n",
            "\n",
            "  (1) S. Aeberhard, D. Coomans and O. de Vel, \n",
            "  Comparison of Classifiers in High Dimensional Settings, \n",
            "  Tech. Rep. no. 92-02, (1992), Dept. of Computer Science and Dept. of  \n",
            "  Mathematics and Statistics, James Cook University of North Queensland. \n",
            "  (Also submitted to Technometrics). \n",
            "\n",
            "  The data was used with many others for comparing various \n",
            "  classifiers. The classes are separable, though only RDA \n",
            "  has achieved 100% correct classification. \n",
            "  (RDA : 100%, QDA 99.4%, LDA 98.9%, 1NN 96.1% (z-transformed data)) \n",
            "  (All results using the leave-one-out technique) \n",
            "\n",
            "  (2) S. Aeberhard, D. Coomans and O. de Vel, \n",
            "  \"THE CLASSIFICATION PERFORMANCE OF RDA\" \n",
            "  Tech. Rep. no. 92-01, (1992), Dept. of Computer Science and Dept. of \n",
            "  Mathematics and Statistics, James Cook University of North Queensland. \n",
            "  (Also submitted to Journal of Chemometrics).\n",
            "\n"
          ]
        }
      ]
    },
    {
      "cell_type": "code",
      "source": [
        "# 3. train, test 데이터 분리\n",
        "\n",
        "from sklearn.model_selection import train_test_split\n",
        "\n",
        "x_train, x_test, y_train, y_test = train_test_split(wine_data, wine_label, test_size=0.2, random_state=31)\n",
        "\n",
        "print(x_train)\n",
        "print(y_train)"
      ],
      "metadata": {
        "colab": {
          "base_uri": "https://localhost:8080/"
        },
        "id": "Wn4tJxGBBox9",
        "outputId": "2eb12b15-336e-41fe-c5bb-fce7834ecdf0"
      },
      "execution_count": null,
      "outputs": [
        {
          "output_type": "stream",
          "name": "stdout",
          "text": [
            "[[1.358e+01 2.580e+00 2.690e+00 ... 7.400e-01 1.800e+00 7.500e+02]\n",
            " [1.376e+01 1.530e+00 2.700e+00 ... 1.250e+00 3.000e+00 1.235e+03]\n",
            " [1.475e+01 1.730e+00 2.390e+00 ... 1.250e+00 2.730e+00 1.150e+03]\n",
            " ...\n",
            " [1.243e+01 1.530e+00 2.290e+00 ... 6.900e-01 2.840e+00 3.520e+02]\n",
            " [1.430e+01 1.920e+00 2.720e+00 ... 1.070e+00 2.650e+00 1.280e+03]\n",
            " [1.165e+01 1.670e+00 2.620e+00 ... 1.360e+00 3.210e+00 5.620e+02]]\n",
            "[2 0 0 0 2 2 2 2 1 0 0 0 1 2 2 0 1 0 1 2 0 2 0 1 0 0 2 0 0 1 1 1 1 0 1 2 1\n",
            " 1 0 2 0 0 1 0 1 0 2 1 0 0 1 2 0 2 0 1 0 1 1 0 1 2 0 1 1 0 1 0 1 1 0 2 1 2\n",
            " 1 2 2 0 0 1 2 0 2 1 0 0 1 1 0 0 0 1 0 2 2 0 1 1 1 2 0 2 2 1 0 2 1 1 0 2 1\n",
            " 2 0 1 1 1 1 2 2 2 1 2 1 2 2 1 2 1 0 2 1 0 0 1 1 0 0 2 1 1 0 1]\n"
          ]
        }
      ]
    },
    {
      "cell_type": "code",
      "source": [
        "# 4. 다양한 모델로 학습시켜보기(Decision Tree)\n",
        "\n",
        "from sklearn.tree import DecisionTreeClassifier\n",
        "\n",
        "wine_model = DecisionTreeClassifier()\n",
        "wine_model.fit(x_train, y_train)"
      ],
      "metadata": {
        "colab": {
          "base_uri": "https://localhost:8080/"
        },
        "id": "J0X7XRZ6Dg80",
        "outputId": "4303ef3c-5e3c-434e-a390-37a295ce78ba"
      },
      "execution_count": null,
      "outputs": [
        {
          "output_type": "execute_result",
          "data": {
            "text/plain": [
              "DecisionTreeClassifier()"
            ]
          },
          "metadata": {},
          "execution_count": 27
        }
      ]
    },
    {
      "cell_type": "code",
      "source": [
        "# 5. 모델 테스트 및 평가 (Decision Tree)\n",
        "\n",
        "from sklearn.metrics import classification_report\n",
        "\n",
        "y_pred = wine_model.predict(x_test)\n",
        "print(classification_report(y_test, y_pred))\n"
      ],
      "metadata": {
        "colab": {
          "base_uri": "https://localhost:8080/"
        },
        "id": "siURUcwCEPZW",
        "outputId": "740a6b9e-c5a4-454a-889c-d5753ee83b0b"
      },
      "execution_count": null,
      "outputs": [
        {
          "output_type": "stream",
          "name": "stdout",
          "text": [
            "              precision    recall  f1-score   support\n",
            "\n",
            "           0       0.69      1.00      0.82         9\n",
            "           1       0.87      0.72      0.79        18\n",
            "           2       0.88      0.78      0.82         9\n",
            "\n",
            "    accuracy                           0.81        36\n",
            "   macro avg       0.81      0.83      0.81        36\n",
            "weighted avg       0.83      0.81      0.80        36\n",
            "\n"
          ]
        }
      ]
    },
    {
      "cell_type": "code",
      "source": [
        "# 4. 다양한 모델로 학습시켜보기(Random Froest)\n",
        "\n",
        "from sklearn.ensemble import RandomForestClassifier\n",
        "\n",
        "wine_model = RandomForestClassifier()\n",
        "wine_model.fit(x_train, y_train)"
      ],
      "metadata": {
        "colab": {
          "base_uri": "https://localhost:8080/"
        },
        "id": "jw3kKkejFLef",
        "outputId": "7e676108-a6b6-4afd-ea1f-a9b032d594a8"
      },
      "execution_count": null,
      "outputs": [
        {
          "output_type": "execute_result",
          "data": {
            "text/plain": [
              "RandomForestClassifier()"
            ]
          },
          "metadata": {},
          "execution_count": 35
        }
      ]
    },
    {
      "cell_type": "code",
      "source": [
        "# 5. 모델 테스트 및 평가(Random Forest)\n",
        "\n",
        "y_pred = wine_model.predict(x_test)\n",
        "print(classification_report(y_test, y_pred))"
      ],
      "metadata": {
        "colab": {
          "base_uri": "https://localhost:8080/"
        },
        "id": "Fgp0GqBRG7pv",
        "outputId": "701c9ce2-b5e3-4968-f7fc-6c91f3e14ce8"
      },
      "execution_count": null,
      "outputs": [
        {
          "output_type": "stream",
          "name": "stdout",
          "text": [
            "              precision    recall  f1-score   support\n",
            "\n",
            "           0       1.00      1.00      1.00         9\n",
            "           1       1.00      1.00      1.00        18\n",
            "           2       1.00      1.00      1.00         9\n",
            "\n",
            "    accuracy                           1.00        36\n",
            "   macro avg       1.00      1.00      1.00        36\n",
            "weighted avg       1.00      1.00      1.00        36\n",
            "\n"
          ]
        }
      ]
    },
    {
      "cell_type": "code",
      "source": [
        "# 4. 다양한 모델로 학습시키기(SVM)\n",
        "\n",
        "from sklearn import svm\n",
        "\n",
        "wine_model = svm.SVC()\n",
        "wine_model.fit(x_train, y_train)"
      ],
      "metadata": {
        "colab": {
          "base_uri": "https://localhost:8080/"
        },
        "id": "9HlNGNOWHrEq",
        "outputId": "2d528ce3-5529-4b4b-b4ac-305d0b45ea45"
      },
      "execution_count": null,
      "outputs": [
        {
          "output_type": "execute_result",
          "data": {
            "text/plain": [
              "SVC()"
            ]
          },
          "metadata": {},
          "execution_count": 42
        }
      ]
    },
    {
      "cell_type": "code",
      "source": [
        "# 5. 모델 테스트 및 평가하기(SVM)\n",
        "\n",
        "y_pred = wine_model.predict(x_test)\n",
        "print(classification_report(y_test, y_pred))"
      ],
      "metadata": {
        "colab": {
          "base_uri": "https://localhost:8080/"
        },
        "id": "pxMBR2gJI1yq",
        "outputId": "35c46815-6683-4033-dff0-7b4bdcef2b95"
      },
      "execution_count": null,
      "outputs": [
        {
          "output_type": "stream",
          "name": "stdout",
          "text": [
            "              precision    recall  f1-score   support\n",
            "\n",
            "           0       0.80      0.89      0.84         9\n",
            "           1       0.60      0.50      0.55        18\n",
            "           2       0.27      0.33      0.30         9\n",
            "\n",
            "    accuracy                           0.56        36\n",
            "   macro avg       0.56      0.57      0.56        36\n",
            "weighted avg       0.57      0.56      0.56        36\n",
            "\n"
          ]
        }
      ]
    },
    {
      "cell_type": "code",
      "source": [
        "# 4. 다양한 모델로 학습시키기(SGD classifier)\n",
        "\n",
        "from sklearn.linear_model import SGDClassifier\n",
        "wine_model = SGDClassifier()\n",
        "wine_model.fit(x_train, y_train)\n"
      ],
      "metadata": {
        "colab": {
          "base_uri": "https://localhost:8080/"
        },
        "id": "xLlQWdoWJv-H",
        "outputId": "5e24c5a8-8357-48b0-cf1e-821085590506"
      },
      "execution_count": null,
      "outputs": [
        {
          "output_type": "execute_result",
          "data": {
            "text/plain": [
              "SGDClassifier()"
            ]
          },
          "metadata": {},
          "execution_count": 51
        }
      ]
    },
    {
      "cell_type": "code",
      "source": [
        "# 5. 모델 테스트 및 평가(SGD Classivier)\n",
        "\n",
        "y_pred = wine_model.predict(x_test)\n",
        "print(classification_report(y_test, y_pred))"
      ],
      "metadata": {
        "colab": {
          "base_uri": "https://localhost:8080/"
        },
        "id": "lwdBVXmyKVCZ",
        "outputId": "abecc8e1-1ced-44ed-fb2a-b84b35535272"
      },
      "execution_count": null,
      "outputs": [
        {
          "output_type": "stream",
          "name": "stdout",
          "text": [
            "              precision    recall  f1-score   support\n",
            "\n",
            "           0       0.50      1.00      0.67         9\n",
            "           1       1.00      0.28      0.43        18\n",
            "           2       0.54      0.78      0.64         9\n",
            "\n",
            "    accuracy                           0.58        36\n",
            "   macro avg       0.68      0.69      0.58        36\n",
            "weighted avg       0.76      0.58      0.54        36\n",
            "\n"
          ]
        }
      ]
    },
    {
      "cell_type": "code",
      "source": [
        "# 4. 다양한 모델로 학습시키기(Logistic Regression)\n",
        "\n",
        "from sklearn.linear_model import LogisticRegression\n",
        "\n",
        "wine_model = LogisticRegression()\n",
        "wine_model.fit(x_train, y_train)"
      ],
      "metadata": {
        "colab": {
          "base_uri": "https://localhost:8080/"
        },
        "id": "6QX8DUlHKlw8",
        "outputId": "2356a7f0-ee28-4136-d607-409f0f1358c8"
      },
      "execution_count": null,
      "outputs": [
        {
          "output_type": "stream",
          "name": "stderr",
          "text": [
            "/usr/local/lib/python3.7/dist-packages/sklearn/linear_model/_logistic.py:818: ConvergenceWarning: lbfgs failed to converge (status=1):\n",
            "STOP: TOTAL NO. of ITERATIONS REACHED LIMIT.\n",
            "\n",
            "Increase the number of iterations (max_iter) or scale the data as shown in:\n",
            "    https://scikit-learn.org/stable/modules/preprocessing.html\n",
            "Please also refer to the documentation for alternative solver options:\n",
            "    https://scikit-learn.org/stable/modules/linear_model.html#logistic-regression\n",
            "  extra_warning_msg=_LOGISTIC_SOLVER_CONVERGENCE_MSG,\n"
          ]
        },
        {
          "output_type": "execute_result",
          "data": {
            "text/plain": [
              "LogisticRegression()"
            ]
          },
          "metadata": {},
          "execution_count": 58
        }
      ]
    },
    {
      "cell_type": "code",
      "source": [
        "# 5. 모델 테스트 및 평가(Logistic Regression)\n",
        "\n",
        "y_pred = wine_model.predict(x_test)\n",
        "print(classification_report(y_test, y_pred))"
      ],
      "metadata": {
        "colab": {
          "base_uri": "https://localhost:8080/"
        },
        "id": "xJBokT1LLP0I",
        "outputId": "144fcb93-00b2-4e27-b640-670e74d58b14"
      },
      "execution_count": null,
      "outputs": [
        {
          "output_type": "stream",
          "name": "stdout",
          "text": [
            "              precision    recall  f1-score   support\n",
            "\n",
            "           0       0.82      1.00      0.90         9\n",
            "           1       0.89      0.89      0.89        18\n",
            "           2       1.00      0.78      0.88         9\n",
            "\n",
            "    accuracy                           0.89        36\n",
            "   macro avg       0.90      0.89      0.89        36\n",
            "weighted avg       0.90      0.89      0.89        36\n",
            "\n"
          ]
        }
      ]
    },
    {
      "cell_type": "markdown",
      "source": [
        "# 2-13. 프로젝트 (3) load_breast_cancer : 유방암 여부를 진단해 봅시다\n"
      ],
      "metadata": {
        "id": "Kqmbal-gL7Nn"
      }
    },
    {
      "cell_type": "code",
      "source": [
        "# 1. 데이터 준비하기\n",
        "\n",
        "from sklearn.datasets import load_breast_cancer\n",
        "\n",
        "cancer = load_breast_cancer()\n",
        "print(dir(cancer))"
      ],
      "metadata": {
        "colab": {
          "base_uri": "https://localhost:8080/"
        },
        "id": "FHfH7ywNL-Jx",
        "outputId": "93e48e9d-711c-4384-e2eb-08bcce213b80"
      },
      "execution_count": null,
      "outputs": [
        {
          "output_type": "stream",
          "name": "stdout",
          "text": [
            "['DESCR', 'data', 'data_module', 'feature_names', 'filename', 'frame', 'target', 'target_names']\n"
          ]
        }
      ]
    },
    {
      "cell_type": "code",
      "source": [
        "# 2. 데이터 이해하기\n",
        "\n",
        "# Feature Data 지정하기\n",
        "cancer_data = cancer.data\n",
        "\n",
        "# Label Data 지정하기\n",
        "cancer_label = cancer.target\n",
        "\n",
        "# Target Names 출력하기\n",
        "print(cancer.target_names)\n",
        "\n",
        "# 데이터 Describe 해 보기\n",
        "print(cancer.DESCR)"
      ],
      "metadata": {
        "colab": {
          "base_uri": "https://localhost:8080/"
        },
        "id": "u-sSXeOUMiPK",
        "outputId": "c68859b1-1169-462e-abfe-323fdd9a0694"
      },
      "execution_count": null,
      "outputs": [
        {
          "output_type": "stream",
          "name": "stdout",
          "text": [
            "['malignant' 'benign']\n",
            ".. _breast_cancer_dataset:\n",
            "\n",
            "Breast cancer wisconsin (diagnostic) dataset\n",
            "--------------------------------------------\n",
            "\n",
            "**Data Set Characteristics:**\n",
            "\n",
            "    :Number of Instances: 569\n",
            "\n",
            "    :Number of Attributes: 30 numeric, predictive attributes and the class\n",
            "\n",
            "    :Attribute Information:\n",
            "        - radius (mean of distances from center to points on the perimeter)\n",
            "        - texture (standard deviation of gray-scale values)\n",
            "        - perimeter\n",
            "        - area\n",
            "        - smoothness (local variation in radius lengths)\n",
            "        - compactness (perimeter^2 / area - 1.0)\n",
            "        - concavity (severity of concave portions of the contour)\n",
            "        - concave points (number of concave portions of the contour)\n",
            "        - symmetry\n",
            "        - fractal dimension (\"coastline approximation\" - 1)\n",
            "\n",
            "        The mean, standard error, and \"worst\" or largest (mean of the three\n",
            "        worst/largest values) of these features were computed for each image,\n",
            "        resulting in 30 features.  For instance, field 0 is Mean Radius, field\n",
            "        10 is Radius SE, field 20 is Worst Radius.\n",
            "\n",
            "        - class:\n",
            "                - WDBC-Malignant\n",
            "                - WDBC-Benign\n",
            "\n",
            "    :Summary Statistics:\n",
            "\n",
            "    ===================================== ====== ======\n",
            "                                           Min    Max\n",
            "    ===================================== ====== ======\n",
            "    radius (mean):                        6.981  28.11\n",
            "    texture (mean):                       9.71   39.28\n",
            "    perimeter (mean):                     43.79  188.5\n",
            "    area (mean):                          143.5  2501.0\n",
            "    smoothness (mean):                    0.053  0.163\n",
            "    compactness (mean):                   0.019  0.345\n",
            "    concavity (mean):                     0.0    0.427\n",
            "    concave points (mean):                0.0    0.201\n",
            "    symmetry (mean):                      0.106  0.304\n",
            "    fractal dimension (mean):             0.05   0.097\n",
            "    radius (standard error):              0.112  2.873\n",
            "    texture (standard error):             0.36   4.885\n",
            "    perimeter (standard error):           0.757  21.98\n",
            "    area (standard error):                6.802  542.2\n",
            "    smoothness (standard error):          0.002  0.031\n",
            "    compactness (standard error):         0.002  0.135\n",
            "    concavity (standard error):           0.0    0.396\n",
            "    concave points (standard error):      0.0    0.053\n",
            "    symmetry (standard error):            0.008  0.079\n",
            "    fractal dimension (standard error):   0.001  0.03\n",
            "    radius (worst):                       7.93   36.04\n",
            "    texture (worst):                      12.02  49.54\n",
            "    perimeter (worst):                    50.41  251.2\n",
            "    area (worst):                         185.2  4254.0\n",
            "    smoothness (worst):                   0.071  0.223\n",
            "    compactness (worst):                  0.027  1.058\n",
            "    concavity (worst):                    0.0    1.252\n",
            "    concave points (worst):               0.0    0.291\n",
            "    symmetry (worst):                     0.156  0.664\n",
            "    fractal dimension (worst):            0.055  0.208\n",
            "    ===================================== ====== ======\n",
            "\n",
            "    :Missing Attribute Values: None\n",
            "\n",
            "    :Class Distribution: 212 - Malignant, 357 - Benign\n",
            "\n",
            "    :Creator:  Dr. William H. Wolberg, W. Nick Street, Olvi L. Mangasarian\n",
            "\n",
            "    :Donor: Nick Street\n",
            "\n",
            "    :Date: November, 1995\n",
            "\n",
            "This is a copy of UCI ML Breast Cancer Wisconsin (Diagnostic) datasets.\n",
            "https://goo.gl/U2Uwz2\n",
            "\n",
            "Features are computed from a digitized image of a fine needle\n",
            "aspirate (FNA) of a breast mass.  They describe\n",
            "characteristics of the cell nuclei present in the image.\n",
            "\n",
            "Separating plane described above was obtained using\n",
            "Multisurface Method-Tree (MSM-T) [K. P. Bennett, \"Decision Tree\n",
            "Construction Via Linear Programming.\" Proceedings of the 4th\n",
            "Midwest Artificial Intelligence and Cognitive Science Society,\n",
            "pp. 97-101, 1992], a classification method which uses linear\n",
            "programming to construct a decision tree.  Relevant features\n",
            "were selected using an exhaustive search in the space of 1-4\n",
            "features and 1-3 separating planes.\n",
            "\n",
            "The actual linear program used to obtain the separating plane\n",
            "in the 3-dimensional space is that described in:\n",
            "[K. P. Bennett and O. L. Mangasarian: \"Robust Linear\n",
            "Programming Discrimination of Two Linearly Inseparable Sets\",\n",
            "Optimization Methods and Software 1, 1992, 23-34].\n",
            "\n",
            "This database is also available through the UW CS ftp server:\n",
            "\n",
            "ftp ftp.cs.wisc.edu\n",
            "cd math-prog/cpo-dataset/machine-learn/WDBC/\n",
            "\n",
            ".. topic:: References\n",
            "\n",
            "   - W.N. Street, W.H. Wolberg and O.L. Mangasarian. Nuclear feature extraction \n",
            "     for breast tumor diagnosis. IS&T/SPIE 1993 International Symposium on \n",
            "     Electronic Imaging: Science and Technology, volume 1905, pages 861-870,\n",
            "     San Jose, CA, 1993.\n",
            "   - O.L. Mangasarian, W.N. Street and W.H. Wolberg. Breast cancer diagnosis and \n",
            "     prognosis via linear programming. Operations Research, 43(4), pages 570-577, \n",
            "     July-August 1995.\n",
            "   - W.H. Wolberg, W.N. Street, and O.L. Mangasarian. Machine learning techniques\n",
            "     to diagnose breast cancer from fine-needle aspirates. Cancer Letters 77 (1994) \n",
            "     163-171.\n"
          ]
        }
      ]
    },
    {
      "cell_type": "code",
      "source": [
        "# 3. train, test 데이터 분리\n",
        "\n",
        "from sklearn.model_selection import train_test_split\n",
        "\n",
        "x_train, x_test, y_train, y_test = train_test_split(cancer_data, cancer_label, test_size = 0.2, random_state=31)\n",
        "\n",
        "print(x_train)\n",
        "print(y_train)"
      ],
      "metadata": {
        "colab": {
          "base_uri": "https://localhost:8080/"
        },
        "id": "8QBYmhc7NvOd",
        "outputId": "1f29daec-3d4a-4946-d3e8-7b6c3418041e"
      },
      "execution_count": null,
      "outputs": [
        {
          "output_type": "stream",
          "name": "stdout",
          "text": [
            "[[1.760e+01 2.333e+01 1.190e+02 ... 1.996e-01 2.301e-01 1.224e-01]\n",
            " [1.281e+01 1.306e+01 8.129e+01 ... 3.990e-02 1.783e-01 7.319e-02]\n",
            " [8.726e+00 1.583e+01 5.584e+01 ... 1.050e-01 2.926e-01 1.017e-01]\n",
            " ...\n",
            " [1.973e+01 1.982e+01 1.307e+02 ... 2.507e-01 2.749e-01 1.297e-01]\n",
            " [1.530e+01 2.527e+01 1.024e+02 ... 2.024e-01 4.027e-01 9.876e-02]\n",
            " [1.468e+01 2.013e+01 9.474e+01 ... 1.609e-01 3.029e-01 8.216e-02]]\n",
            "[0 1 1 0 1 1 0 0 1 1 1 0 0 1 1 1 0 1 1 0 0 1 1 1 1 1 1 1 1 1 1 0 0 1 1 0 1\n",
            " 1 1 1 1 1 1 1 1 1 1 1 1 0 0 1 1 1 1 0 1 0 0 0 1 1 0 1 1 1 0 1 0 1 0 0 1 1\n",
            " 1 1 1 1 0 1 1 1 0 0 0 0 1 0 0 1 1 0 1 1 1 1 0 1 1 1 1 1 1 1 1 1 1 1 0 1 1\n",
            " 1 0 0 1 1 1 1 1 1 0 1 1 1 0 1 0 1 1 0 1 1 1 1 0 0 0 1 1 1 1 0 1 1 1 1 1 0\n",
            " 0 0 0 0 0 0 0 0 1 1 1 0 0 0 0 1 0 0 0 0 1 1 1 1 1 1 0 0 1 1 1 1 1 0 1 0 1\n",
            " 1 1 0 1 0 1 1 0 1 0 1 0 1 0 1 1 0 1 1 1 0 1 1 0 1 1 1 1 1 1 0 1 1 1 1 1 1\n",
            " 1 1 0 0 0 0 1 0 0 0 0 1 1 1 1 0 1 0 1 0 1 0 1 1 1 0 0 0 0 1 1 1 0 0 0 1 0\n",
            " 1 1 0 0 1 0 1 1 1 0 1 1 0 1 0 0 0 1 0 1 0 1 1 0 0 1 0 1 1 1 1 0 1 1 1 1 1\n",
            " 1 1 1 1 1 0 0 1 0 0 0 0 1 1 0 0 0 1 1 1 0 1 0 0 1 1 1 1 0 0 0 1 0 1 0 1 1\n",
            " 1 0 1 1 1 1 1 0 0 1 1 1 1 0 0 1 0 0 0 1 1 0 0 1 1 0 1 1 0 1 1 0 1 1 0 1 0\n",
            " 1 0 1 1 1 1 0 0 1 1 1 1 1 0 1 1 1 1 1 1 0 1 1 0 0 1 1 0 1 1 1 1 1 1 1 1 1\n",
            " 1 1 1 1 1 0 1 1 1 0 1 1 1 1 0 0 0 0 1 1 0 1 0 1 1 1 0 0 1 1 0 1 1 1 1 1 1\n",
            " 1 1 0 0 1 0 1 1 0 0 0]\n"
          ]
        }
      ]
    },
    {
      "cell_type": "code",
      "source": [
        "# 4. 다양한 모델로 학습시켜보기(Decision Tree)\n",
        "\n",
        "from sklearn.tree import DecisionTreeClassifier\n",
        "\n",
        "cancer_model = DecisionTreeClassifier()\n",
        "cancer_model.fit(x_train, y_train)"
      ],
      "metadata": {
        "colab": {
          "base_uri": "https://localhost:8080/"
        },
        "id": "_1j9Kj78O8AO",
        "outputId": "78da3601-b3b3-4c33-e4e4-02ccfbd1bea3"
      },
      "execution_count": null,
      "outputs": [
        {
          "output_type": "execute_result",
          "data": {
            "text/plain": [
              "DecisionTreeClassifier()"
            ]
          },
          "metadata": {},
          "execution_count": 92
        }
      ]
    },
    {
      "cell_type": "code",
      "source": [
        "# 4. 다양한 모델로 학습시켜보기(Random Foreset)\n",
        "\n",
        "from sklearn.ensemble import RandomForestClassifier\n",
        "\n",
        "cancer_model = RandomForestClassifier()\n",
        "cancer_model.fit(x_train, y_train)"
      ],
      "metadata": {
        "colab": {
          "base_uri": "https://localhost:8080/"
        },
        "id": "IBYOcxr2QAsh",
        "outputId": "195059ba-d7c0-4665-aadd-b81070b7d4f2"
      },
      "execution_count": null,
      "outputs": [
        {
          "output_type": "execute_result",
          "data": {
            "text/plain": [
              "RandomForestClassifier()"
            ]
          },
          "metadata": {},
          "execution_count": 98
        }
      ]
    },
    {
      "cell_type": "code",
      "source": [
        "# 4. 다양한 모델로 학습시켜보기(SVM)\n",
        "\n",
        "from sklearn import svm\n",
        "\n",
        "cancer_model = svm.SVC()\n",
        "cancer_model.fit(x_train, y_train)"
      ],
      "metadata": {
        "colab": {
          "base_uri": "https://localhost:8080/"
        },
        "id": "r7SUmnvTQNXa",
        "outputId": "30d9eafc-e0d7-4b05-9d12-53835442f085"
      },
      "execution_count": null,
      "outputs": [
        {
          "output_type": "execute_result",
          "data": {
            "text/plain": [
              "SVC()"
            ]
          },
          "metadata": {},
          "execution_count": 105
        }
      ]
    },
    {
      "cell_type": "code",
      "source": [
        "# 4. 다양한 모델로 학습시켜보기(SGD Classifier)\n",
        "\n",
        "from sklearn.linear_model import SGDClassifier\n",
        "\n",
        "cancer_model = svm.SVC()\n",
        "cancer_model.fit(x_train, y_train)\n"
      ],
      "metadata": {
        "colab": {
          "base_uri": "https://localhost:8080/"
        },
        "id": "tqUR7vWORabZ",
        "outputId": "1abb44c4-946e-48b9-b96b-6919911015d3"
      },
      "execution_count": null,
      "outputs": [
        {
          "output_type": "execute_result",
          "data": {
            "text/plain": [
              "SVC()"
            ]
          },
          "metadata": {},
          "execution_count": 108
        }
      ]
    },
    {
      "cell_type": "code",
      "source": [
        "# 4. 다양한 모델로 학습시켜보기(Logistic Regression)\n",
        "\n",
        "from sklearn.linear_model import LogisticRegression\n",
        "\n",
        "cancer_model = LogisticRegression()\n",
        "cancer_model.fit(x_train, y_train)\n",
        "\n"
      ],
      "metadata": {
        "colab": {
          "base_uri": "https://localhost:8080/"
        },
        "id": "SJfHULrnSv9l",
        "outputId": "ee6fb2ba-0dc4-4201-fe72-1a1574da1157"
      },
      "execution_count": null,
      "outputs": [
        {
          "output_type": "stream",
          "name": "stderr",
          "text": [
            "/usr/local/lib/python3.7/dist-packages/sklearn/linear_model/_logistic.py:818: ConvergenceWarning: lbfgs failed to converge (status=1):\n",
            "STOP: TOTAL NO. of ITERATIONS REACHED LIMIT.\n",
            "\n",
            "Increase the number of iterations (max_iter) or scale the data as shown in:\n",
            "    https://scikit-learn.org/stable/modules/preprocessing.html\n",
            "Please also refer to the documentation for alternative solver options:\n",
            "    https://scikit-learn.org/stable/modules/linear_model.html#logistic-regression\n",
            "  extra_warning_msg=_LOGISTIC_SOLVER_CONVERGENCE_MSG,\n"
          ]
        },
        {
          "output_type": "execute_result",
          "data": {
            "text/plain": [
              "LogisticRegression()"
            ]
          },
          "metadata": {},
          "execution_count": 113
        }
      ]
    },
    {
      "cell_type": "code",
      "source": [
        "# 5. 모델 테스트 및 평가(Decision Tree)\n",
        "\n",
        "y_pred = cancer_model.predict(x_test)\n",
        "print(classification_report(y_test, y_pred))\n",
        "\n"
      ],
      "metadata": {
        "colab": {
          "base_uri": "https://localhost:8080/"
        },
        "id": "-omjbx6ETdUe",
        "outputId": "9f9a9a2a-d486-45eb-821a-bb16bb256401"
      },
      "execution_count": null,
      "outputs": [
        {
          "output_type": "stream",
          "name": "stdout",
          "text": [
            "              precision    recall  f1-score   support\n",
            "\n",
            "           0       0.93      0.81      0.86        47\n",
            "           1       0.88      0.96      0.91        67\n",
            "\n",
            "    accuracy                           0.89       114\n",
            "   macro avg       0.90      0.88      0.89       114\n",
            "weighted avg       0.90      0.89      0.89       114\n",
            "\n"
          ]
        }
      ]
    },
    {
      "cell_type": "code",
      "source": [
        "# 5. 모델 테스트 및 평가(Random Forest)\n",
        "\n",
        "y_pred = cancer_model.predict(x_test)\n",
        "print(classification_report(y_test, y_pred))"
      ],
      "metadata": {
        "colab": {
          "base_uri": "https://localhost:8080/"
        },
        "id": "nYBIGSbMUCNj",
        "outputId": "9f719d85-3cdd-4baa-9c44-a3ae34246185"
      },
      "execution_count": null,
      "outputs": [
        {
          "output_type": "stream",
          "name": "stdout",
          "text": [
            "              precision    recall  f1-score   support\n",
            "\n",
            "           0       0.93      0.81      0.86        47\n",
            "           1       0.88      0.96      0.91        67\n",
            "\n",
            "    accuracy                           0.89       114\n",
            "   macro avg       0.90      0.88      0.89       114\n",
            "weighted avg       0.90      0.89      0.89       114\n",
            "\n"
          ]
        }
      ]
    },
    {
      "cell_type": "code",
      "source": [
        "# 6. 모델 테스트 및 평가(SVM)\n",
        "\n",
        "y_pred = cancer_model.predict(x_test)\n",
        "print(classification_report(y_test, y_pred))"
      ],
      "metadata": {
        "colab": {
          "base_uri": "https://localhost:8080/"
        },
        "id": "akiRKi-yUoJp",
        "outputId": "be5bb524-20c2-47e9-f047-c804e5a09179"
      },
      "execution_count": null,
      "outputs": [
        {
          "output_type": "stream",
          "name": "stdout",
          "text": [
            "              precision    recall  f1-score   support\n",
            "\n",
            "           0       0.93      0.81      0.86        47\n",
            "           1       0.88      0.96      0.91        67\n",
            "\n",
            "    accuracy                           0.89       114\n",
            "   macro avg       0.90      0.88      0.89       114\n",
            "weighted avg       0.90      0.89      0.89       114\n",
            "\n"
          ]
        }
      ]
    },
    {
      "cell_type": "code",
      "source": [
        "# 6. 모델 테스트 및 평가(SGD Classifier)\n",
        "\n",
        "y_pred = cancer_model.predict(x_test)\n",
        "print(classification_report(y_test, y_pred))"
      ],
      "metadata": {
        "colab": {
          "base_uri": "https://localhost:8080/"
        },
        "id": "SWgzmow9VGBo",
        "outputId": "62437539-23d8-433d-c6ef-59117f378a87"
      },
      "execution_count": null,
      "outputs": [
        {
          "output_type": "stream",
          "name": "stdout",
          "text": [
            "              precision    recall  f1-score   support\n",
            "\n",
            "           0       0.93      0.81      0.86        47\n",
            "           1       0.88      0.96      0.91        67\n",
            "\n",
            "    accuracy                           0.89       114\n",
            "   macro avg       0.90      0.88      0.89       114\n",
            "weighted avg       0.90      0.89      0.89       114\n",
            "\n"
          ]
        }
      ]
    }
  ]
}