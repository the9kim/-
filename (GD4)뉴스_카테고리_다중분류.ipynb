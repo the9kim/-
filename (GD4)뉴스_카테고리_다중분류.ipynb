{
  "nbformat": 4,
  "nbformat_minor": 0,
  "metadata": {
    "colab": {
      "name": "(GD4)뉴스 카테고리 다중분류.ipynb",
      "provenance": [],
      "collapsed_sections": [
        "YFbxz6kkB0ov"
      ]
    },
    "kernelspec": {
      "name": "python3",
      "display_name": "Python 3"
    },
    "language_info": {
      "name": "python"
    },
    "accelerator": "GPU"
  },
  "cells": [
    {
      "cell_type": "markdown",
      "source": [
        "# 4-1 학습목표 및 실습 결론 요약\n",
        "\n",
        "- 학습 목표\n",
        "  - 로이터 뉴스 데이터 이해\n",
        "  - F1-score와 confusion matrix 출력해보기\n",
        "  - 여러 머신러닝 모델에 대해서 성능 비교해보기\n",
        "  - 단어 수에 따른 성능 비교해보기\n",
        "\n",
        "- 실습 결론 요약\n",
        "  - 뉴스 카테고리 분류 문제에 관해서 다양한 머신러닝 모델(로지스틱 회귀, 랜덤포레스트, 그레디언트 부스팅 트리, 보팅) 중 보팅의 성능이 가장 뛰어났음\n",
        "  - vocab_size를 모든 단어, 10,000개, 5,000개, 1000개로 조정하며 실습한 결과, 모든 단어를 다 사용했을 때 (보팅) 모델의 성능이 가장 뛰어남 \n",
        "  - LSTM 모델의 경우 정확도가 약 70%를 기록했으며 머신러닝 모델에 조금 못미치는 수준임"
      ],
      "metadata": {
        "id": "RzG4ZfIod1Yb"
      }
    },
    {
      "cell_type": "markdown",
      "source": [
        "# 4-2 데이터 확인하기 - 로이터 뉴스 데이터"
      ],
      "metadata": {
        "id": "tyQJLE93sZyt"
      }
    },
    {
      "cell_type": "markdown",
      "source": [
        "## 데이터 로드"
      ],
      "metadata": {
        "id": "Llzd3SbZvUPV"
      }
    },
    {
      "cell_type": "code",
      "source": [
        "# 1. 데이터 다운로드\n",
        "\n",
        "from tensorflow.keras.datasets import reuters\n",
        "import matplotlib.pyplot as plt\n",
        "import seaborn as sns\n",
        "import numpy as np\n",
        "import pandas as pd"
      ],
      "metadata": {
        "id": "02V7nMtIskmP"
      },
      "execution_count": 3,
      "outputs": []
    },
    {
      "cell_type": "code",
      "source": [
        "# 2. 훈련 데이터와 테스트 데이터 로드\n",
        "\n",
        "(x_train, y_train), (x_test, y_test) = reuters.load_data(num_words=10000, test_split=0.2)\n",
        "\n"
      ],
      "metadata": {
        "colab": {
          "base_uri": "https://localhost:8080/"
        },
        "id": "m6tsd-_JtB1t",
        "outputId": "8e914e0b-30c7-43c6-9df9-dc6135805cfb"
      },
      "execution_count": 4,
      "outputs": [
        {
          "output_type": "stream",
          "name": "stdout",
          "text": [
            "Downloading data from https://storage.googleapis.com/tensorflow/tf-keras-datasets/reuters.npz\n",
            "2113536/2110848 [==============================] - 0s 0us/step\n",
            "2121728/2110848 [==============================] - 0s 0us/step\n"
          ]
        }
      ]
    },
    {
      "cell_type": "markdown",
      "source": [
        "## 데이터 출력"
      ],
      "metadata": {
        "id": "Ibux70BjvYHR"
      }
    },
    {
      "cell_type": "code",
      "source": [
        "# 3. 데이터 확인\n",
        "print('훈련 샘플의 수: {}'.format(len(x_train)))\n",
        "print('테스트 샘플의 수: {}'.format(len(x_test)))\n",
        "\n",
        "print(x_train[0])\n",
        "print(x_test[0])\n",
        "\n",
        "print(y_train[0])\n",
        "print(y_test[0])\n",
        "\n",
        "num_classes = max(y_train) + 1\n",
        "print('클래스 개수: {}'.format(num_classes))"
      ],
      "metadata": {
        "colab": {
          "base_uri": "https://localhost:8080/"
        },
        "id": "Udz5UCF4t6Uy",
        "outputId": "be3394ab-290b-4034-84d9-ce696ef26dd4"
      },
      "execution_count": 5,
      "outputs": [
        {
          "output_type": "stream",
          "name": "stdout",
          "text": [
            "훈련 샘플의 수: 8982\n",
            "테스트 샘플의 수: 2246\n",
            "[1, 2, 2, 8, 43, 10, 447, 5, 25, 207, 270, 5, 3095, 111, 16, 369, 186, 90, 67, 7, 89, 5, 19, 102, 6, 19, 124, 15, 90, 67, 84, 22, 482, 26, 7, 48, 4, 49, 8, 864, 39, 209, 154, 6, 151, 6, 83, 11, 15, 22, 155, 11, 15, 7, 48, 9, 4579, 1005, 504, 6, 258, 6, 272, 11, 15, 22, 134, 44, 11, 15, 16, 8, 197, 1245, 90, 67, 52, 29, 209, 30, 32, 132, 6, 109, 15, 17, 12]\n",
            "[1, 4, 1378, 2025, 9, 697, 4622, 111, 8, 25, 109, 29, 3650, 11, 150, 244, 364, 33, 30, 30, 1398, 333, 6, 2, 159, 9, 1084, 363, 13, 2, 71, 9, 2, 71, 117, 4, 225, 78, 206, 10, 9, 1214, 8, 4, 270, 5, 2, 7, 748, 48, 9, 2, 7, 207, 1451, 966, 1864, 793, 97, 133, 336, 7, 4, 493, 98, 273, 104, 284, 25, 39, 338, 22, 905, 220, 3465, 644, 59, 20, 6, 119, 61, 11, 15, 58, 579, 26, 10, 67, 7, 4, 738, 98, 43, 88, 333, 722, 12, 20, 6, 19, 746, 35, 15, 10, 9, 1214, 855, 129, 783, 21, 4, 2280, 244, 364, 51, 16, 299, 452, 16, 515, 4, 99, 29, 5, 4, 364, 281, 48, 10, 9, 1214, 23, 644, 47, 20, 324, 27, 56, 2, 2, 5, 192, 510, 17, 12]\n",
            "3\n",
            "3\n",
            "클래스 개수: 46\n"
          ]
        }
      ]
    },
    {
      "cell_type": "markdown",
      "source": [
        "## 데이터 분포 확인"
      ],
      "metadata": {
        "id": "o97stD7BvNVj"
      }
    },
    {
      "cell_type": "code",
      "source": [
        "# 4. 데이터 길이 분포 확인\n",
        "\n",
        "print('훈련용 뉴스의 최대 길이: {}'.format(max(len(l) for l in x_train)))\n",
        "print('훈련용 뉴스의 평균 길이: {}'.format(sum(map(len, x_train))/len(x_train)))\n",
        "\n",
        "plt.hist([len(s) for s in x_train], bins=50)\n",
        "plt.xlabel('length of samples')\n",
        "plt.ylabel('number of samples')\n",
        "plt.show()"
      ],
      "metadata": {
        "colab": {
          "base_uri": "https://localhost:8080/",
          "height": 314
        },
        "id": "DZgqBEN1veNq",
        "outputId": "2b41f3c0-542f-4089-d927-290b50551a21"
      },
      "execution_count": 6,
      "outputs": [
        {
          "output_type": "stream",
          "name": "stdout",
          "text": [
            "훈련용 뉴스의 최대 길이: 2376\n",
            "훈련용 뉴스의 평균 길이: 145.5398574927633\n"
          ]
        },
        {
          "output_type": "display_data",
          "data": {
            "text/plain": [
              "<Figure size 432x288 with 1 Axes>"
            ],
            "image/png": "[encoded data removed]"
          },
          "metadata": {
            "needs_background": "light"
          }
        }
      ]
    },
    {
      "cell_type": "code",
      "source": [
        "# 5. 클래스 분포 확인 : 클래스 별 데이터 개수 시각화\n",
        "\n",
        "fig, axe = plt.subplots(ncols=1)\n",
        "fig.set_size_inches(11,5)\n",
        "sns.countplot(x=y_train)\n",
        "plt.show()\n"
      ],
      "metadata": {
        "colab": {
          "base_uri": "https://localhost:8080/",
          "height": 300
        },
        "id": "Stu6qQvqx7HN",
        "outputId": "5cfd7f76-7739-44a1-e559-2a627c400c11"
      },
      "execution_count": 7,
      "outputs": [
        {
          "output_type": "display_data",
          "data": {
            "text/plain": [
              "<Figure size 792x360 with 1 Axes>"
            ],
            "image/png": "[encoded data removed]"
          },
          "metadata": {
            "needs_background": "light"
          }
        }
      ]
    },
    {
      "cell_type": "code",
      "source": [
        "# 6. 클래스별 빈도수 계산: np.unique()\n",
        "\n",
        "unique_elements, counts_elements = np.unique(y_train, return_counts=True)\n",
        "print(\"각 클래스 빈도수:\")\n",
        "print(np.asarray((unique_elements, counts_elements)))\n"
      ],
      "metadata": {
        "colab": {
          "base_uri": "https://localhost:8080/"
        },
        "id": "uDXbPcqVy2Ee",
        "outputId": "89b4d8b9-7389-4c1f-e2f1-f49141cccfa8"
      },
      "execution_count": 8,
      "outputs": [
        {
          "output_type": "stream",
          "name": "stdout",
          "text": [
            "각 클래스 빈도수:\n",
            "[[   0    1    2    3    4    5    6    7    8    9   10   11   12   13\n",
            "    14   15   16   17   18   19   20   21   22   23   24   25   26   27\n",
            "    28   29   30   31   32   33   34   35   36   37   38   39   40   41\n",
            "    42   43   44   45]\n",
            " [  55  432   74 3159 1949   17   48   16  139  101  124  390   49  172\n",
            "    26   20  444   39   66  549  269  100   15   41   62   92   24   15\n",
            "    48   19   45   39   32   11   50   10   49   19   19   24   36   30\n",
            "    13   21   12   18]]\n"
          ]
        }
      ]
    },
    {
      "cell_type": "markdown",
      "source": [
        "# 4-3 데이터 복원하기 - 로이터 뉴스 데이터2"
      ],
      "metadata": {
        "id": "rEi5WHKSz_vA"
      }
    },
    {
      "cell_type": "markdown",
      "source": [
        "## 원본 뉴스 데이터로 복원하기\n"
      ],
      "metadata": {
        "id": "vYh3n9Tz1PTv"
      }
    },
    {
      "cell_type": "code",
      "source": [
        "# 6. dictionary 다운 - 단어:key, 고유한 정수:value\n",
        "\n",
        "word_index = reuters.get_word_index(path=\"reuters_word_index.json\")\n",
        "\n",
        "  # dictionary 변경: index_to_word 구하기\n",
        "    # 1. key, value 위치 바꾸기\n",
        "    # 2. word_index에 있는 수에 +3 - 해당 숫자가 실제 고유한 정수값임\n",
        "print(word_index['the'])\n",
        "print(word_index['it'])\n",
        "\n",
        "index_to_word = { index+3: word for word, index in word_index.items()}  # dictionary.items(): 키와 값 모두 출력\n",
        "\n",
        "print(index_to_word[4])\n",
        "print(index_to_word[16])\n",
        "len(word_index)"
      ],
      "metadata": {
        "colab": {
          "base_uri": "https://localhost:8080/"
        },
        "id": "K9usIrsK1YL3",
        "outputId": "1e35e22c-c8ef-42f4-f07b-cefdb278f1db"
      },
      "execution_count": 78,
      "outputs": [
        {
          "output_type": "stream",
          "name": "stdout",
          "text": [
            "1\n",
            "13\n",
            "the\n",
            "it\n"
          ]
        },
        {
          "output_type": "execute_result",
          "data": {
            "text/plain": [
              "30979"
            ]
          },
          "metadata": {},
          "execution_count": 78
        }
      ]
    },
    {
      "cell_type": "code",
      "source": [
        "# 7. <pad>, <sos>, <unk> 토큰 추가\n",
        "\n",
        "for index, token in enumerate((\"<pad>\", \"<sos>\", \"<unk>\")):\n",
        "    index_to_word[index] = token\n"
      ],
      "metadata": {
        "id": "OUvghAwq1tyw"
      },
      "execution_count": 10,
      "outputs": []
    },
    {
      "cell_type": "code",
      "source": [
        "# 8. 훈련용 뉴스 기사 텍스트로 복원\n",
        "\n",
        "print(' '.join([index_to_word[index] for index in x_train[0]]))\n",
        "\n",
        "print(' '.join([index_to_word[index] for index in [4, 587, 23, 133, 6, 30, 515]]))\n",
        "\n",
        "print(' '.join([index_to_word[index] for index in [4, 12000, 23, 133, 6, 30, 515]]))"
      ],
      "metadata": {
        "colab": {
          "base_uri": "https://localhost:8080/"
        },
        "id": "4GaRzlfd42lo",
        "outputId": "6546a917-f351-4469-f181-071a9b0884dc"
      },
      "execution_count": 11,
      "outputs": [
        {
          "output_type": "stream",
          "name": "stdout",
          "text": [
            "<sos> <unk> <unk> said as a result of its december acquisition of space co it expects earnings per share in 1987 of 1 15 to 1 30 dlrs per share up from 70 cts in 1986 the company said pretax net should rise to nine to 10 mln dlrs from six mln dlrs in 1986 and rental operation revenues to 19 to 22 mln dlrs from 12 5 mln dlrs it said cash flow per share this year should be 2 50 to three dlrs reuter 3\n",
            "the transaction is expected to be completed\n",
            "the staffing is expected to be completed\n"
          ]
        }
      ]
    },
    {
      "cell_type": "code",
      "source": [
        "# 9. 훈련용 및 테스트용 뉴스데이터 텍스트 변환\n",
        "\n",
        "  # 훈련용 데이터\n",
        "decoded_train = []\n",
        "for i in range(len(x_train)):\n",
        "    t = ' '.join(index_to_word[index] for index in x_train[i])\n",
        "    decoded_train.append(t)\n",
        "\n",
        "x_train = decoded_train\n",
        "\n",
        "print(len(x_train))\n",
        "\n",
        "print(x_train[0])\n",
        "\n",
        "\n",
        "\n",
        "  # 테스트용 데이터\n",
        "decoded_test = []\n",
        "for i in range(len(x_test)):\n",
        "    t = ' '.join(index_to_word[index] for index in x_test[i])\n",
        "    decoded_test.append(t)\n",
        "\n",
        "x_test = decoded_test\n",
        "\n",
        "print(len(x_test))\n",
        "\n",
        "print(x_test[0])\n"
      ],
      "metadata": {
        "colab": {
          "base_uri": "https://localhost:8080/"
        },
        "id": "T0XDZBnM62OD",
        "outputId": "f05b8945-4b4c-4310-c77c-fa40f19d62ed"
      },
      "execution_count": 12,
      "outputs": [
        {
          "output_type": "stream",
          "name": "stdout",
          "text": [
            "8982\n",
            "<sos> <unk> <unk> said as a result of its december acquisition of space co it expects earnings per share in 1987 of 1 15 to 1 30 dlrs per share up from 70 cts in 1986 the company said pretax net should rise to nine to 10 mln dlrs from six mln dlrs in 1986 and rental operation revenues to 19 to 22 mln dlrs from 12 5 mln dlrs it said cash flow per share this year should be 2 50 to three dlrs reuter 3\n",
            "2246\n",
            "<sos> the great atlantic and pacific tea co said its three year 345 mln dlr capital program will be be substantially increased to <unk> growth and expansion plans for <unk> inc and <unk> inc over the next two years a and p said the acquisition of <unk> in august 1986 and <unk> in december helped us achieve better than expected results in the fourth quarter ended february 28 its net income from continuing operations jumped 52 6 pct to 20 7 mln dlrs or 55 cts a share in the latest quarter as sales increased 48 3 pct to 1 58 billion dlrs a and p gave no details on the expanded capital program but it did say it completed the first year of the program during 1986 a and p is 52 4 pct owned by lt <unk> <unk> of west germany reuter 3\n"
          ]
        }
      ]
    },
    {
      "cell_type": "markdown",
      "source": [
        "# 4-4 벡터화 하기\n",
        "- 인공 신경망을 이용한 벡터화가 아닌 Bag of Words 가설을 기반으로 하는 DTM, TF-IDF 행렬 이용\n",
        "- DTM\n",
        "  - 단점\n",
        "    - 문서를 분류할 때, 같은 단어가 많이 등장하는 문서일 수록 유사도가 높다고 판단하지만,\n",
        "    - 해당 단어가 중요하지 않은 의미를 가지는 단어일 경우 모델 성능이 저하될 수 있음\n",
        "\n",
        "- TF-IDF\n",
        "  - 특징: 모든 문서에 걸쳐서 중요하다고 판단되는 빈출 단어에 가중치를 주는 효과를 가짐\n"
      ],
      "metadata": {
        "id": "zYIFpkDJ9KgF"
      }
    },
    {
      "cell_type": "code",
      "source": [
        "# 10. 모듈 임포트\n",
        "\n",
        "from sklearn.feature_extraction.text import CountVectorizer\n",
        "from sklearn.feature_extraction.text import TfidfTransformer"
      ],
      "metadata": {
        "id": "u7iRsk2x9jSA"
      },
      "execution_count": 13,
      "outputs": []
    },
    {
      "cell_type": "code",
      "source": [
        "# 11. DTM 생성 및 크기 확인: (훈련 데이터 개수 8982개, 단어 사전 10,000개 - @)\n",
        "\n",
        "dtmvector = CountVectorizer()\n",
        "x_train_dtm = dtmvector.fit_transform(x_train)\n",
        "print(x_train_dtm.shape)"
      ],
      "metadata": {
        "colab": {
          "base_uri": "https://localhost:8080/"
        },
        "id": "IWco1kpr96XM",
        "outputId": "8cb93b52-53cd-4681-e662-ab84b3a6b68c"
      },
      "execution_count": 14,
      "outputs": [
        {
          "output_type": "stream",
          "name": "stdout",
          "text": [
            "(8982, 9670)\n"
          ]
        }
      ]
    },
    {
      "cell_type": "code",
      "source": [
        "# 12. TF-IDF 생성\n",
        "\n",
        "tfidf_transformer = TfidfTransformer()\n",
        "tfidfv = tfidf_transformer.fit_transform(x_train_dtm)\n",
        "print(tfidfv.shape)"
      ],
      "metadata": {
        "colab": {
          "base_uri": "https://localhost:8080/"
        },
        "id": "Q2ksoqFwAP2v",
        "outputId": "92ca3bc0-0539-48ff-e63d-b2e7cbc2d451"
      },
      "execution_count": 15,
      "outputs": [
        {
          "output_type": "stream",
          "name": "stdout",
          "text": [
            "(8982, 9670)\n"
          ]
        }
      ]
    },
    {
      "cell_type": "markdown",
      "source": [
        "# 4-5 나이브 베이즈 분류기"
      ],
      "metadata": {
        "id": "YFbxz6kkB0ov"
      }
    },
    {
      "cell_type": "markdown",
      "source": [
        "# 머신러닝 라이브러리 불러오기"
      ],
      "metadata": {
        "id": "zYU72U4iB3MQ"
      }
    },
    {
      "cell_type": "code",
      "source": [
        "# 13. 라이브러리 임포트\n",
        "\n",
        "from sklearn.naive_bayes import MultinomialNB   # 다항분포 나이브 베이즈 모델\n",
        "from sklearn.linear_model import LogisticRegression, SGDClassifier\n",
        "from sklearn.naive_bayes import ComplementNB\n",
        "from sklearn.tree import DecisionTreeClassifier\n",
        "from sklearn.ensemble import RandomForestClassifier\n",
        "from sklearn.ensemble import GradientBoostingClassifier\n",
        "from sklearn.ensemble import VotingClassifier\n",
        "from sklearn.svm import LinearSVC\n",
        "from sklearn.metrics import accuracy_score    # 정확도 계산\n"
      ],
      "metadata": {
        "id": "h_6kNTusB65_"
      },
      "execution_count": 16,
      "outputs": []
    },
    {
      "cell_type": "markdown",
      "source": [
        "## 나이브 베이즈 분류기(Multinomial Naive Bayes Classifier)\n"
      ],
      "metadata": {
        "id": "lOtUj_-cC-OM"
      }
    },
    {
      "cell_type": "code",
      "source": [
        "# 13. 나이브 베이즈 분류기로 모델 훈련\n",
        "\n",
        "model = MultinomialNB()\n",
        "model.fit(tfidfv, y_train)"
      ],
      "metadata": {
        "colab": {
          "base_uri": "https://localhost:8080/"
        },
        "id": "czuELe3xDElm",
        "outputId": "a5cd8228-ad2b-4476-add6-29654896d414"
      },
      "execution_count": 17,
      "outputs": [
        {
          "output_type": "execute_result",
          "data": {
            "text/plain": [
              "MultinomialNB()"
            ]
          },
          "metadata": {},
          "execution_count": 17
        }
      ]
    },
    {
      "cell_type": "code",
      "source": [
        "# 14. 테스트 데이터 전처리 및 정확도 측정\n",
        "\n",
        "  # test 데이터를 DTM으로 변환\n",
        "x_test_dtm = dtmvector.transform(x_test)\n",
        "\n",
        "  # DTM을 IF-IDF 행렬로 변환\n",
        "tfidfv_test = tfidf_transformer.transform(x_test_dtm)\n",
        "\n",
        "  # 테스트 데이터에 대한 예측\n",
        "predicted = model.predict(tfidfv_test)\n",
        "\n",
        "  # 정확도 출력: 예측값-실제값 비교\n",
        "print('정확도:', accuracy_score(y_test, predicted))"
      ],
      "metadata": {
        "colab": {
          "base_uri": "https://localhost:8080/"
        },
        "id": "ITS8dnb2GHnW",
        "outputId": "34535d35-0c25-4228-b41d-04876576128a"
      },
      "execution_count": 18,
      "outputs": [
        {
          "output_type": "stream",
          "name": "stdout",
          "text": [
            "정확도: 0.6567230632235085\n"
          ]
        }
      ]
    },
    {
      "cell_type": "code",
      "source": [
        "# 15. 모델 성능 파악 - 시각화\n",
        "\n",
        "  # 테스트 데이터셋 4번 째 샘플의 input 및 target 데이터 확인\n",
        "print(x_test[3])\n",
        "print(y_test[3])\n",
        "\n",
        "  # 확률 시각화\n",
        "probability_3 = model.predict_proba(tfidfv_test[3])[0]\n",
        "\n",
        "plt.rcParams[\"figure.figsize\"] = (11,5)\n",
        "plt.bar(model.classes_, probability_3)\n",
        "plt.xlim(-1, 21)\n",
        "plt.xticks(model.classes_)\n",
        "plt.xlabel('Class')\n",
        "plt.ylabel('Probability')\n",
        "plt.show()"
      ],
      "metadata": {
        "colab": {
          "base_uri": "https://localhost:8080/",
          "height": 370
        },
        "id": "1fY03MYKHFq-",
        "outputId": "864c9973-f971-40c0-d2ba-0f934c8e735f"
      },
      "execution_count": 19,
      "outputs": [
        {
          "output_type": "stream",
          "name": "stdout",
          "text": [
            "<sos> <unk> <unk> oil and gas partnership said it completed the sale of interests in two major oil and gas fields to lt energy assets international corp for 21 mln dlrs the company said it sold about one half of its 50 pct interest in the oak hill and north <unk> fields its two largest producing properties it said it used about 20 mln dlrs of the proceeds to <unk> principal on its senior secured notes semi annual principal payments on the remaining 40 mln dlrs of notes have been satisfied until december 1988 as a result it said the company said the note agreements were amended to reflect an easing of some financial covenants and an increase of interest to 13 5 pct from 13 0 pct until december 1990 it said the <unk> exercise price for 1 125 000 warrants was also reduced to 50 cts from 1 50 dlrs the company said energy assets agreed to share the costs of increasing production at the oak hill field reuter 3\n",
            "4\n"
          ]
        },
        {
          "output_type": "display_data",
          "data": {
            "text/plain": [
              "<Figure size 792x360 with 1 Axes>"
            ],
            "image/png": "[encoded data removed]"
          },
          "metadata": {
            "needs_background": "light"
          }
        }
      ]
    },
    {
      "cell_type": "code",
      "source": [
        "# 16. 모델 예측\n",
        "\n",
        "model.predict(tfidfv_test[3])"
      ],
      "metadata": {
        "colab": {
          "base_uri": "https://localhost:8080/"
        },
        "id": "042w5hgYI0mZ",
        "outputId": "2bea01da-6930-4abc-d929-a6436d9fa431"
      },
      "execution_count": 20,
      "outputs": [
        {
          "output_type": "execute_result",
          "data": {
            "text/plain": [
              "array([4])"
            ]
          },
          "metadata": {},
          "execution_count": 20
        }
      ]
    },
    {
      "cell_type": "markdown",
      "source": [
        "# 4-6 F1-socre, Confusion Matrix\n",
        "  - accuracy(정확도)\n",
        "  - precision(정밀도): True로 예측한 값 중 실제 True 인 것\n",
        "  - recall(재현율): 실제  True중 True로 예측한 값\n",
        "  - F1 score: precision과 recall의 조화 평균\n",
        "    - 2 x precision x recall / precision + recall"
      ],
      "metadata": {
        "id": "7afUXn6OnBHZ"
      }
    },
    {
      "cell_type": "code",
      "source": [
        "# 17. precision, Recall & F1 Score 구하기\n",
        "\n",
        "  # 라이브러리 임포트\n",
        "from sklearn.metrics import classification_report\n",
        "from sklearn.metrics import confusion_matrix \n",
        "\n",
        "print(classification_report(y_test, model.predict(tfidfv_test), zero_division=0))"
      ],
      "metadata": {
        "colab": {
          "base_uri": "https://localhost:8080/"
        },
        "id": "2L5ICRq7nS8k",
        "outputId": "2825481b-3fee-463e-a5cd-abd12db62d71"
      },
      "execution_count": 21,
      "outputs": [
        {
          "output_type": "stream",
          "name": "stdout",
          "text": [
            "              precision    recall  f1-score   support\n",
            "\n",
            "           0       0.00      0.00      0.00        12\n",
            "           1       0.62      0.69      0.65       105\n",
            "           2       0.00      0.00      0.00        20\n",
            "           3       0.81      0.90      0.85       813\n",
            "           4       0.51      0.96      0.67       474\n",
            "           5       0.00      0.00      0.00         5\n",
            "           6       0.00      0.00      0.00        14\n",
            "           7       0.00      0.00      0.00         3\n",
            "           8       0.00      0.00      0.00        38\n",
            "           9       1.00      0.08      0.15        25\n",
            "          10       0.00      0.00      0.00        30\n",
            "          11       0.66      0.63      0.64        83\n",
            "          12       0.00      0.00      0.00        13\n",
            "          13       1.00      0.03      0.05        37\n",
            "          14       0.00      0.00      0.00         2\n",
            "          15       0.00      0.00      0.00         9\n",
            "          16       0.69      0.56      0.61        99\n",
            "          17       0.00      0.00      0.00        12\n",
            "          18       0.00      0.00      0.00        20\n",
            "          19       0.60      0.78      0.68       133\n",
            "          20       1.00      0.04      0.08        70\n",
            "          21       0.00      0.00      0.00        27\n",
            "          22       0.00      0.00      0.00         7\n",
            "          23       0.00      0.00      0.00        12\n",
            "          24       0.00      0.00      0.00        19\n",
            "          25       1.00      0.03      0.06        31\n",
            "          26       0.00      0.00      0.00         8\n",
            "          27       0.00      0.00      0.00         4\n",
            "          28       0.00      0.00      0.00        10\n",
            "          29       0.00      0.00      0.00         4\n",
            "          30       0.00      0.00      0.00        12\n",
            "          31       0.00      0.00      0.00        13\n",
            "          32       0.00      0.00      0.00        10\n",
            "          33       0.00      0.00      0.00         5\n",
            "          34       0.00      0.00      0.00         7\n",
            "          35       0.00      0.00      0.00         6\n",
            "          36       0.00      0.00      0.00        11\n",
            "          37       0.00      0.00      0.00         2\n",
            "          38       0.00      0.00      0.00         3\n",
            "          39       0.00      0.00      0.00         5\n",
            "          40       0.00      0.00      0.00        10\n",
            "          41       0.00      0.00      0.00         8\n",
            "          42       0.00      0.00      0.00         3\n",
            "          43       0.00      0.00      0.00         6\n",
            "          44       0.00      0.00      0.00         5\n",
            "          45       0.00      0.00      0.00         1\n",
            "\n",
            "    accuracy                           0.66      2246\n",
            "   macro avg       0.17      0.10      0.10      2246\n",
            "weighted avg       0.59      0.66      0.58      2246\n",
            "\n"
          ]
        }
      ]
    },
    {
      "cell_type": "code",
      "source": [
        "# 18. 혼동 행렬(confusion matrix) 시각화\n",
        "\n",
        "def graph_confusion_matrix(model, x_test, y_test):\n",
        "    df_cm = pd.DataFrame(confusion_matrix(y_test, model.predict(x_test)))#, index=classes_name, columns=classes_name)\n",
        "    fig = plt.figure(figsize=(12,12))\n",
        "    heatmap = sns.heatmap(df_cm, annot=True, fmt=\"d\")\n",
        "    heatmap.yaxis.set_ticklabels(heatmap.yaxis.get_ticklabels(), rotation=0, ha='right', fontsize=12)\n",
        "    heatmap.xaxis.set_ticklabels(heatmap.xaxis.get_ticklabels(), rotation=45, ha='right', fontsize=12)\n",
        "    plt.ylabel('label')\n",
        "    plt.xlabel('predicted value')\n",
        "\n",
        "\n",
        "graph_confusion_matrix(model, tfidfv_test, y_test)"
      ],
      "metadata": {
        "colab": {
          "base_uri": "https://localhost:8080/",
          "height": 673
        },
        "id": "1yxHoEDlqp2B",
        "outputId": "de7a7552-cb6b-482f-df7f-091c56a6820b"
      },
      "execution_count": 29,
      "outputs": [
        {
          "output_type": "display_data",
          "data": {
            "text/plain": [
              "<Figure size 864x864 with 2 Axes>"
            ],
            "image/png": "[encoded data removed]"
          },
          "metadata": {
            "needs_background": "light"
          }
        }
      ]
    },
    {
      "cell_type": "markdown",
      "source": [
        "# 4-7 다양한 머신러닝 모델 사용하기"
      ],
      "metadata": {
        "id": "SjdKtw-ytdw8"
      }
    },
    {
      "cell_type": "markdown",
      "source": [
        "## complement Naive Bayers Classifier(CNB)\n",
        "  - 데이터의 불균형을 고려하여 가중치를 부여하는 특징\n",
        "  - 일반적으로 나이브 베이즈 분류기보다 성능이 좋음"
      ],
      "metadata": {
        "id": "6-RUU0E1tiLu"
      }
    },
    {
      "cell_type": "code",
      "source": [
        "# 모델 훈련 및 정확도 확인\n",
        "\n",
        "cb = ComplementNB()\n",
        "cb.fit(tfidfv, y_train)\n",
        "\n",
        "predicted = cb.predict(tfidfv_test)\n",
        "print(\"정확도:\", accuracy_score(y_test, predicted))"
      ],
      "metadata": {
        "colab": {
          "base_uri": "https://localhost:8080/"
        },
        "id": "-enXEo5dt5ha",
        "outputId": "a424b1cd-2d43-4d29-a93b-22d26bbfff85"
      },
      "execution_count": 35,
      "outputs": [
        {
          "output_type": "stream",
          "name": "stdout",
          "text": [
            "정확도: 0.7707034728406055\n"
          ]
        }
      ]
    },
    {
      "cell_type": "markdown",
      "source": [
        "## 로지스틱 회귀 "
      ],
      "metadata": {
        "id": "3zBUaxhFukxX"
      }
    },
    {
      "cell_type": "code",
      "source": [
        "# 모델 훈련 및 정확도 확인\n",
        "lr = LogisticRegression(C=10000, penalty='l2')\n",
        "lr.fit(tfidfv, y_train)\n",
        "\n",
        "predicted = lr.predict(tfidfv_test)\n",
        "print(\"정확도\", accuracy_score(y_test, predicted))"
      ],
      "metadata": {
        "colab": {
          "base_uri": "https://localhost:8080/"
        },
        "id": "slsznYG5xBYo",
        "outputId": "d1b3a12b-762d-42f9-9c35-46554e731dc2"
      },
      "execution_count": 36,
      "outputs": [
        {
          "output_type": "stream",
          "name": "stdout",
          "text": [
            "정확도 0.8076580587711487\n"
          ]
        },
        {
          "output_type": "stream",
          "name": "stderr",
          "text": [
            "/usr/local/lib/python3.7/dist-packages/sklearn/linear_model/_logistic.py:818: ConvergenceWarning: lbfgs failed to converge (status=1):\n",
            "STOP: TOTAL NO. of ITERATIONS REACHED LIMIT.\n",
            "\n",
            "Increase the number of iterations (max_iter) or scale the data as shown in:\n",
            "    https://scikit-learn.org/stable/modules/preprocessing.html\n",
            "Please also refer to the documentation for alternative solver options:\n",
            "    https://scikit-learn.org/stable/modules/linear_model.html#logistic-regression\n",
            "  extra_warning_msg=_LOGISTIC_SOLVER_CONVERGENCE_MSG,\n"
          ]
        }
      ]
    },
    {
      "cell_type": "markdown",
      "source": [
        "## 선형 선포트 벡터 머신(Linear Support Vector Machine)"
      ],
      "metadata": {
        "id": "FONHbRuMxywD"
      }
    },
    {
      "cell_type": "code",
      "source": [
        "# 모델 훈련 및 정확도 확인\n",
        "\n",
        "lsvc = LinearSVC(C=1000, penalty='l1', max_iter=500, dual=False)\n",
        "lsvc.fit(tfidfv, y_train)\n",
        "\n",
        "predicted = lsvc.predict(tfidfv_test)\n",
        "print(\"정확도: \", accuracy_score(y_test, predicted))"
      ],
      "metadata": {
        "colab": {
          "base_uri": "https://localhost:8080/"
        },
        "id": "WJ-HTU2TyBt-",
        "outputId": "fd22a402-98db-4ffc-a348-3d46467a58d8"
      },
      "execution_count": 38,
      "outputs": [
        {
          "output_type": "stream",
          "name": "stdout",
          "text": [
            "정확도:  0.7680320569902048\n"
          ]
        },
        {
          "output_type": "stream",
          "name": "stderr",
          "text": [
            "/usr/local/lib/python3.7/dist-packages/sklearn/svm/_base.py:1208: ConvergenceWarning: Liblinear failed to converge, increase the number of iterations.\n",
            "  ConvergenceWarning,\n"
          ]
        }
      ]
    },
    {
      "cell_type": "markdown",
      "source": [
        "# 4-8 다양한 머신러닝 모델 사용"
      ],
      "metadata": {
        "id": "i_fQPsLdzBB7"
      }
    },
    {
      "cell_type": "markdown",
      "source": [
        "## 결정 트리(Decision Tree)"
      ],
      "metadata": {
        "id": "ogcdvMevzEix"
      }
    },
    {
      "cell_type": "code",
      "source": [
        "# 모델 훈련 및 정확도 평가\n",
        "\n",
        "tree = DecisionTreeClassifier(max_depth=10, random_state=0)\n",
        "tree.fit(tfidfv, y_train)\n",
        "\n",
        "predicted = tree.predict(tfidfv_test)\n",
        "print('정확도:', accuracy_score(y_test, predicted))\n"
      ],
      "metadata": {
        "colab": {
          "base_uri": "https://localhost:8080/"
        },
        "id": "2Oc8J-Pl2Dz3",
        "outputId": "c4bc8e60-74bd-4559-a851-a8eb633ea0b8"
      },
      "execution_count": 45,
      "outputs": [
        {
          "output_type": "stream",
          "name": "stdout",
          "text": [
            "정확도: 0.6202137132680321\n"
          ]
        }
      ]
    },
    {
      "cell_type": "markdown",
      "source": [
        "## 랜덤 포레스트(Random Forest)"
      ],
      "metadata": {
        "id": "4G9BaxuS31HQ"
      }
    },
    {
      "cell_type": "code",
      "source": [
        "forest = RandomForestClassifier(n_estimators=5, random_state=0)\n",
        "forest.fit(tfidfv, y_train)\n",
        "\n",
        "predicted = forest.predict(tfidfv_test)\n",
        "print('accuracy:', accuracy_score(y_test, predicted))"
      ],
      "metadata": {
        "colab": {
          "base_uri": "https://localhost:8080/"
        },
        "id": "nw0dQPHZ4D2H",
        "outputId": "81e60be7-82c7-4fb4-8bdb-351560135e0d"
      },
      "execution_count": 49,
      "outputs": [
        {
          "output_type": "stream",
          "name": "stdout",
          "text": [
            "accuracy: 0.674087266251113\n"
          ]
        }
      ]
    },
    {
      "cell_type": "markdown",
      "source": [
        "## 그래디언트 부스팅 트리(GradientBoostingClassifier)\n",
        "\n"
      ],
      "metadata": {
        "id": "FuBkdRIO4mYH"
      }
    },
    {
      "cell_type": "code",
      "source": [
        "grbt = GradientBoostingClassifier(random_state=0)\n",
        "grbt.fit(tfidfv, y_train)\n",
        "\n",
        "predicted = grbt.predict(tfidfv_test)\n",
        "print('accuracy: ', accuracy_score(y_test, predicted))"
      ],
      "metadata": {
        "colab": {
          "base_uri": "https://localhost:8080/",
          "height": 241
        },
        "id": "jc1VIvIK4z_L",
        "outputId": "c68f459e-a5f0-41d6-b596-9c993584c2b1"
      },
      "execution_count": 95,
      "outputs": [
        {
          "output_type": "error",
          "ename": "NameError",
          "evalue": "ignored",
          "traceback": [
            "\u001b[0;31m---------------------------------------------------------------------------\u001b[0m",
            "\u001b[0;31mNameError\u001b[0m                                 Traceback (most recent call last)",
            "\u001b[0;32m<ipython-input-95-4286afc087cc>\u001b[0m in \u001b[0;36m<module>\u001b[0;34m()\u001b[0m\n\u001b[1;32m      3\u001b[0m \u001b[0;34m\u001b[0m\u001b[0m\n\u001b[1;32m      4\u001b[0m \u001b[0mpredicted\u001b[0m \u001b[0;34m=\u001b[0m \u001b[0mgrbt\u001b[0m\u001b[0;34m.\u001b[0m\u001b[0mpredict\u001b[0m\u001b[0;34m(\u001b[0m\u001b[0mtfidfv_test\u001b[0m\u001b[0;34m)\u001b[0m\u001b[0;34m\u001b[0m\u001b[0;34m\u001b[0m\u001b[0m\n\u001b[0;32m----> 5\u001b[0;31m \u001b[0mprint\u001b[0m\u001b[0;34m(\u001b[0m\u001b[0;34m'accuracy: '\u001b[0m\u001b[0;34m,\u001b[0m \u001b[0maccuarcy_score\u001b[0m\u001b[0;34m(\u001b[0m\u001b[0my_test\u001b[0m\u001b[0;34m,\u001b[0m \u001b[0mpredicted\u001b[0m\u001b[0;34m)\u001b[0m\u001b[0;34m)\u001b[0m\u001b[0;34m\u001b[0m\u001b[0;34m\u001b[0m\u001b[0m\n\u001b[0m",
            "\u001b[0;31mNameError\u001b[0m: name 'accuarcy_score' is not defined"
          ]
        }
      ]
    },
    {
      "cell_type": "markdown",
      "source": [
        "## 보팅(Voting)"
      ],
      "metadata": {
        "id": "Hc1cuEf-53GI"
      }
    },
    {
      "cell_type": "code",
      "source": [
        "# 보팅 및 정확도 확인\n",
        "\n",
        "voting_classifier = VotingClassifier(estimators=[\n",
        "         ('lr', LogisticRegression(C=10000, penalty='l2')),\n",
        "        ('cb', ComplementNB()),\n",
        "        ('grbt', GradientBoostingClassifier(random_state=0))\n",
        "], voting='soft', n_jobs=-1)\n",
        "voting_classifier.fit(tfidfv, y_train)\n",
        "\n",
        "predicted = voting_classifier.predict(tfidfv_test)\n",
        "print('accuracy: ', accuracy_score(y_test, predicted))"
      ],
      "metadata": {
        "colab": {
          "base_uri": "https://localhost:8080/"
        },
        "id": "ytZr3f7f56eX",
        "outputId": "3e9b4c70-c829-49ca-e30c-c56ecb5a9454"
      },
      "execution_count": 54,
      "outputs": [
        {
          "output_type": "stream",
          "name": "stdout",
          "text": [
            "accuracy:  0.8116651825467498\n"
          ]
        }
      ]
    },
    {
      "cell_type": "markdown",
      "source": [
        "# 실습: 단어 사용 개수를 조정하여 성능 비교"
      ],
      "metadata": {
        "id": "Iohm9WSr_w_W"
      }
    },
    {
      "cell_type": "markdown",
      "source": [
        "## case1. 모든 단어 사용"
      ],
      "metadata": {
        "id": "MIQcNjdf_y5i"
      }
    },
    {
      "cell_type": "code",
      "source": [
        "# 1. 데이터 로드\n",
        "\n",
        "(x_train, y_train), (x_test, y_test) = reuters.load_data(num_words=None, test_split=0.2)\n",
        "\n",
        "print(len(x_train))\n",
        "print(len(x_test))\n",
        "                                                         "
      ],
      "metadata": {
        "colab": {
          "base_uri": "https://localhost:8080/"
        },
        "id": "Seu4_Sna_14v",
        "outputId": "4d7928ca-ee63-4773-ea8f-b8bb01b9a85c"
      },
      "execution_count": 84,
      "outputs": [
        {
          "output_type": "stream",
          "name": "stdout",
          "text": [
            "8982\n",
            "2246\n"
          ]
        }
      ]
    },
    {
      "cell_type": "code",
      "source": [
        "# 2. 데이터 전처리\n",
        "\n",
        "  # word_to_index 생성\n",
        "word_index = reuters.get_word_index(path=\"reuters_word_index.json\")\n",
        "\n",
        "index_to_word = { index+3: word for word, index in word_index.items()}  # dictionary.items(): 키와 값 모두 출력\n",
        "\n",
        "  # <pad>, <sos>, <unk> 토큰 추가\n",
        "for index, token in enumerate((\"<pad>\", \"<sos>\", \"<unk>\")):\n",
        "    index_to_word[index] = token\n",
        "\n",
        "  # 훈련용 및 테스트용 데이터 생성\n",
        "decoded_train = []\n",
        "for i in range(len(x_train)):\n",
        "    t = ' '.join(index_to_word[index] for index in x_train[i])\n",
        "    decoded_train.append(t)\n",
        "x_train = decoded_train\n",
        "\n",
        "decoded_test = []\n",
        "for i in range(len(x_test)):\n",
        "    t = ' '.join(index_to_word[index] for index in x_test[i])\n",
        "    decoded_test.append(t)\n",
        "x_test = decoded_test\n",
        "\n",
        "len(word_index)"
      ],
      "metadata": {
        "colab": {
          "base_uri": "https://localhost:8080/"
        },
        "id": "iX9VcnE8AK3H",
        "outputId": "e09d1a05-5f60-407b-e2b2-30e86426a288"
      },
      "execution_count": 85,
      "outputs": [
        {
          "output_type": "execute_result",
          "data": {
            "text/plain": [
              "30979"
            ]
          },
          "metadata": {},
          "execution_count": 85
        }
      ]
    },
    {
      "cell_type": "code",
      "source": [
        "# 3. 벡터화: DTM 및 TF-IDF 생성\n",
        "  # 인풋데이터 벡터화\n",
        "dtmvector = CountVectorizer()\n",
        "x_train_dtm = dtmvector.fit_transform(x_train)\n",
        "\n",
        "tfidf_transformer = TfidfTransformer()\n",
        "tfidfv = tfidf_transformer.fit_transform(x_train_dtm)\n",
        "\n",
        "  # 타겟 데이터 벡터화\n",
        "x_test_dtm = dtmvector.transform(x_test)\n",
        "tfidfv_test = tfidf_transformer.transform(x_test_dtm)\n",
        "\n",
        "\n",
        "\n"
      ],
      "metadata": {
        "id": "6aY9mJE1AMyI"
      },
      "execution_count": 86,
      "outputs": []
    },
    {
      "cell_type": "code",
      "source": [
        "# 4. 모델 훈련 - 로지스틱 회귀\n",
        "\n",
        "lr = LogisticRegression(C=10000, penalty='l2')\n",
        "lr.fit(tfidfv, y_train)\n",
        "\n",
        "predicted = lr.predict(tfidfv_test)\n",
        "accuracy_score(y_test, predicted)\n"
      ],
      "metadata": {
        "colab": {
          "base_uri": "https://localhost:8080/"
        },
        "id": "xWv7_Y4OAPRw",
        "outputId": "dfbee106-f374-43c1-8a95-ffb4e8d7c243"
      },
      "execution_count": 87,
      "outputs": [
        {
          "output_type": "stream",
          "name": "stderr",
          "text": [
            "/usr/local/lib/python3.7/dist-packages/sklearn/linear_model/_logistic.py:818: ConvergenceWarning: lbfgs failed to converge (status=1):\n",
            "STOP: TOTAL NO. of ITERATIONS REACHED LIMIT.\n",
            "\n",
            "Increase the number of iterations (max_iter) or scale the data as shown in:\n",
            "    https://scikit-learn.org/stable/modules/preprocessing.html\n",
            "Please also refer to the documentation for alternative solver options:\n",
            "    https://scikit-learn.org/stable/modules/linear_model.html#logistic-regression\n",
            "  extra_warning_msg=_LOGISTIC_SOLVER_CONVERGENCE_MSG,\n"
          ]
        },
        {
          "output_type": "execute_result",
          "data": {
            "text/plain": [
              "0.813446126447017"
            ]
          },
          "metadata": {},
          "execution_count": 87
        }
      ]
    },
    {
      "cell_type": "code",
      "source": [
        "# 5. 모델 훈련 - 랜덤 포레스트\n",
        "\n",
        "forest = RandomForestClassifier(n_estimators=5, random_state=0)\n",
        "forest.fit(tfidfv, y_train)\n",
        "\n",
        "predicted = forest.predict(tfidfv_test)\n",
        "accuracy_score(y_test, predicted)"
      ],
      "metadata": {
        "colab": {
          "base_uri": "https://localhost:8080/"
        },
        "id": "QHRBMBPFFPW4",
        "outputId": "17a1a650-9f90-48dc-85fd-2ab577931ba9"
      },
      "execution_count": 88,
      "outputs": [
        {
          "output_type": "execute_result",
          "data": {
            "text/plain": [
              "0.6544968833481746"
            ]
          },
          "metadata": {},
          "execution_count": 88
        }
      ]
    },
    {
      "cell_type": "code",
      "source": [
        "# 6. 그래디언트 부스팅 트리\n",
        "grbt = GradientBoostingClassifier(random_state=0)\n",
        "grbt.fit(tfidfv, y_train)\n",
        "\n",
        "predicted = grbt.predict(tfidfv_test)\n",
        "print('accuracy: ', accuracy_score(y_test, predicted))"
      ],
      "metadata": {
        "colab": {
          "base_uri": "https://localhost:8080/"
        },
        "id": "0orJ-SpANMQ6",
        "outputId": "0f79eae0-d8ce-4e87-e99f-ad4fc1cc804e"
      },
      "execution_count": 97,
      "outputs": [
        {
          "output_type": "stream",
          "name": "stdout",
          "text": [
            "accuracy:  0.7702582368655387\n"
          ]
        }
      ]
    },
    {
      "cell_type": "code",
      "source": [
        "# 6. 모델 훈련 - 보팅\n",
        "voting_classifier = VotingClassifier(estimators=[\n",
        "                    ('lr', LogisticRegression(C=10000, penalty='l2')),\n",
        "                    ('forest', RandomForestClassifier(n_estimators=5, random_state=0)),\n",
        "                    ('grbt', GradientBoostingClassifier(random_state=0))\n",
        "\n",
        "], voting='soft', n_jobs=-1)    \n",
        "voting_classifier.fit(tfidfv, y_train)\n",
        "predicted = voting_classifier.predict(tfidfv_test)\n",
        "print('accuracy: ', accuracy_score(y_test, predicted))"
      ],
      "metadata": {
        "colab": {
          "base_uri": "https://localhost:8080/"
        },
        "id": "iuf5KPBJF6H7",
        "outputId": "b9f01acd-e75a-40d7-f7c5-b75c52d0f89b"
      },
      "execution_count": 100,
      "outputs": [
        {
          "output_type": "stream",
          "name": "stdout",
          "text": [
            "accuracy:  0.8178984861976848\n"
          ]
        }
      ]
    },
    {
      "cell_type": "markdown",
      "source": [
        "## Case2. 5000단어 사용"
      ],
      "metadata": {
        "id": "pOriB5obOJve"
      }
    },
    {
      "cell_type": "code",
      "source": [
        "# 1. 데이터 로드\n",
        "\n",
        "(x_train, y_train), (x_test, y_test) = reuters.load_data(num_words=5000, test_split=0.2)\n",
        "\n",
        "print(len(x_train))\n",
        "print(len(x_test))\n",
        "                                                         "
      ],
      "metadata": {
        "colab": {
          "base_uri": "https://localhost:8080/"
        },
        "outputId": "c0a41acc-24bd-477c-eda0-de8bcd1d6d0b",
        "id": "vnTRT2JPO123"
      },
      "execution_count": 101,
      "outputs": [
        {
          "output_type": "stream",
          "name": "stdout",
          "text": [
            "8982\n",
            "2246\n"
          ]
        }
      ]
    },
    {
      "cell_type": "code",
      "source": [
        "# 2. 데이터 전처리\n",
        "\n",
        "  # word_to_index 생성\n",
        "word_index = reuters.get_word_index(path=\"reuters_word_index.json\")\n",
        "\n",
        "index_to_word = { index+3: word for word, index in word_index.items()}  # dictionary.items(): 키와 값 모두 출력\n",
        "\n",
        "  # <pad>, <sos>, <unk> 토큰 추가\n",
        "for index, token in enumerate((\"<pad>\", \"<sos>\", \"<unk>\")):\n",
        "    index_to_word[index] = token\n",
        "\n",
        "  # 훈련용 및 테스트용 데이터 생성\n",
        "decoded_train = []\n",
        "for i in range(len(x_train)):\n",
        "    t = ' '.join(index_to_word[index] for index in x_train[i])\n",
        "    decoded_train.append(t)\n",
        "x_train = decoded_train\n",
        "\n",
        "decoded_test = []\n",
        "for i in range(len(x_test)):\n",
        "    t = ' '.join(index_to_word[index] for index in x_test[i])\n",
        "    decoded_test.append(t)\n",
        "x_test = decoded_test\n",
        "\n",
        "len(word_index)"
      ],
      "metadata": {
        "colab": {
          "base_uri": "https://localhost:8080/"
        },
        "outputId": "bd7c530e-bd94-4d2e-ba26-eaf2ec8f8c87",
        "id": "9P9fWn1BO124"
      },
      "execution_count": 102,
      "outputs": [
        {
          "output_type": "execute_result",
          "data": {
            "text/plain": [
              "30979"
            ]
          },
          "metadata": {},
          "execution_count": 102
        }
      ]
    },
    {
      "cell_type": "code",
      "source": [
        "# 3. 벡터화: DTM 및 TF-IDF 생성\n",
        "  # 인풋데이터 벡터화\n",
        "dtmvector = CountVectorizer()\n",
        "x_train_dtm = dtmvector.fit_transform(x_train)\n",
        "\n",
        "tfidf_transformer = TfidfTransformer()\n",
        "tfidfv = tfidf_transformer.fit_transform(x_train_dtm)\n",
        "\n",
        "  # 타겟 데이터 벡터화\n",
        "x_test_dtm = dtmvector.transform(x_test)\n",
        "tfidfv_test = tfidf_transformer.transform(x_test_dtm)\n",
        "\n",
        "\n",
        "\n"
      ],
      "metadata": {
        "id": "fUE73SYlO124"
      },
      "execution_count": 103,
      "outputs": []
    },
    {
      "cell_type": "code",
      "source": [
        "# 4. 모델 훈련 - 로지스틱 회귀\n",
        "\n",
        "lr = LogisticRegression(C=10000, penalty='l2')\n",
        "lr.fit(tfidfv, y_train)\n",
        "\n",
        "predicted = lr.predict(tfidfv_test)\n",
        "accuracy_score(y_test, predicted)\n"
      ],
      "metadata": {
        "colab": {
          "base_uri": "https://localhost:8080/"
        },
        "outputId": "2f928235-a8c1-4c07-9a1e-10cd7e83ccc8",
        "id": "XTJGjmRSO124"
      },
      "execution_count": 104,
      "outputs": [
        {
          "output_type": "stream",
          "name": "stderr",
          "text": [
            "/usr/local/lib/python3.7/dist-packages/sklearn/linear_model/_logistic.py:818: ConvergenceWarning: lbfgs failed to converge (status=1):\n",
            "STOP: TOTAL NO. of ITERATIONS REACHED LIMIT.\n",
            "\n",
            "Increase the number of iterations (max_iter) or scale the data as shown in:\n",
            "    https://scikit-learn.org/stable/modules/preprocessing.html\n",
            "Please also refer to the documentation for alternative solver options:\n",
            "    https://scikit-learn.org/stable/modules/linear_model.html#logistic-regression\n",
            "  extra_warning_msg=_LOGISTIC_SOLVER_CONVERGENCE_MSG,\n"
          ]
        },
        {
          "output_type": "execute_result",
          "data": {
            "text/plain": [
              "0.8058771148708815"
            ]
          },
          "metadata": {},
          "execution_count": 104
        }
      ]
    },
    {
      "cell_type": "code",
      "source": [
        "# 5. 모델 훈련 - 랜덤 포레스트\n",
        "\n",
        "forest = RandomForestClassifier(n_estimators=5, random_state=0)\n",
        "forest.fit(tfidfv, y_train)\n",
        "\n",
        "predicted = forest.predict(tfidfv_test)\n",
        "accuracy_score(y_test, predicted)"
      ],
      "metadata": {
        "colab": {
          "base_uri": "https://localhost:8080/"
        },
        "outputId": "694fc408-16fd-4251-ef86-6fc3dab2078e",
        "id": "VwGtkCAaO124"
      },
      "execution_count": 105,
      "outputs": [
        {
          "output_type": "execute_result",
          "data": {
            "text/plain": [
              "0.701246660730187"
            ]
          },
          "metadata": {},
          "execution_count": 105
        }
      ]
    },
    {
      "cell_type": "code",
      "source": [
        "# 6. 그래디언트 부스팅 트리\n",
        "grbt = GradientBoostingClassifier(random_state=0)\n",
        "grbt.fit(tfidfv, y_train)\n",
        "\n",
        "predicted = grbt.predict(tfidfv_test)\n",
        "print('accuracy: ', accuracy_score(y_test, predicted))"
      ],
      "metadata": {
        "colab": {
          "base_uri": "https://localhost:8080/"
        },
        "id": "u2ZO--IXO124",
        "outputId": "493fa635-2600-416b-a40d-167f04936445"
      },
      "execution_count": 106,
      "outputs": [
        {
          "output_type": "stream",
          "name": "stdout",
          "text": [
            "accuracy:  0.767586821015138\n"
          ]
        }
      ]
    },
    {
      "cell_type": "code",
      "source": [
        "# 6. 모델 훈련 - 보팅\n",
        "voting_classifier = VotingClassifier(estimators=[\n",
        "                    ('lr', LogisticRegression(C=10000, penalty='l2')),\n",
        "                    ('forest', RandomForestClassifier(n_estimators=5, random_state=0)),\n",
        "                    ('grbt', GradientBoostingClassifier(random_state=0))\n",
        "\n",
        "], voting='soft', n_jobs=-1)    \n",
        "voting_classifier.fit(tfidfv, y_train)\n",
        "predicted = voting_classifier.predict(tfidfv_test)\n",
        "print('accuracy: ', accuracy_score(y_test, predicted))"
      ],
      "metadata": {
        "colab": {
          "base_uri": "https://localhost:8080/"
        },
        "outputId": "b227083b-3fcb-4a29-aa9b-88b32329239b",
        "id": "qRntgJueO124"
      },
      "execution_count": 108,
      "outputs": [
        {
          "output_type": "stream",
          "name": "stdout",
          "text": [
            "accuracy:  0.8125556544968834\n"
          ]
        }
      ]
    },
    {
      "cell_type": "markdown",
      "source": [
        "## case3. 1,000단어 사용"
      ],
      "metadata": {
        "id": "KJK42hVfPK2l"
      }
    },
    {
      "cell_type": "code",
      "source": [
        "# 1. 데이터 로드\n",
        "\n",
        "(x_train, y_train), (x_test, y_test) = reuters.load_data(num_words=1000, test_split=0.2)\n",
        "\n",
        "print(len(x_train))\n",
        "print(len(x_test))\n",
        "                                                         "
      ],
      "metadata": {
        "colab": {
          "base_uri": "https://localhost:8080/"
        },
        "outputId": "86b550d3-5dfd-490a-ed31-3d224d7eeb39",
        "id": "BkzvCS2hPN-c"
      },
      "execution_count": 109,
      "outputs": [
        {
          "output_type": "stream",
          "name": "stdout",
          "text": [
            "8982\n",
            "2246\n"
          ]
        }
      ]
    },
    {
      "cell_type": "code",
      "source": [
        "# 2. 데이터 전처리\n",
        "\n",
        "  # word_to_index 생성\n",
        "word_index = reuters.get_word_index(path=\"reuters_word_index.json\")\n",
        "\n",
        "index_to_word = { index+3: word for word, index in word_index.items()}  # dictionary.items(): 키와 값 모두 출력\n",
        "\n",
        "  # <pad>, <sos>, <unk> 토큰 추가\n",
        "for index, token in enumerate((\"<pad>\", \"<sos>\", \"<unk>\")):\n",
        "    index_to_word[index] = token\n",
        "\n",
        "  # 훈련용 및 테스트용 데이터 생성\n",
        "decoded_train = []\n",
        "for i in range(len(x_train)):\n",
        "    t = ' '.join(index_to_word[index] for index in x_train[i])\n",
        "    decoded_train.append(t)\n",
        "x_train = decoded_train\n",
        "\n",
        "decoded_test = []\n",
        "for i in range(len(x_test)):\n",
        "    t = ' '.join(index_to_word[index] for index in x_test[i])\n",
        "    decoded_test.append(t)\n",
        "x_test = decoded_test\n",
        "\n",
        "len(word_index)"
      ],
      "metadata": {
        "colab": {
          "base_uri": "https://localhost:8080/"
        },
        "outputId": "17574f36-a312-4238-acd9-191bccd31229",
        "id": "DYcHK5IKPN-c"
      },
      "execution_count": 110,
      "outputs": [
        {
          "output_type": "execute_result",
          "data": {
            "text/plain": [
              "30979"
            ]
          },
          "metadata": {},
          "execution_count": 110
        }
      ]
    },
    {
      "cell_type": "code",
      "source": [
        "# 3. 벡터화: DTM 및 TF-IDF 생성\n",
        "  # 인풋데이터 벡터화\n",
        "dtmvector = CountVectorizer()\n",
        "x_train_dtm = dtmvector.fit_transform(x_train)\n",
        "\n",
        "tfidf_transformer = TfidfTransformer()\n",
        "tfidfv = tfidf_transformer.fit_transform(x_train_dtm)\n",
        "\n",
        "  # 타겟 데이터 벡터화\n",
        "x_test_dtm = dtmvector.transform(x_test)\n",
        "tfidfv_test = tfidf_transformer.transform(x_test_dtm)\n",
        "\n",
        "\n",
        "\n"
      ],
      "metadata": {
        "id": "xjQKPGjOPN-d"
      },
      "execution_count": 111,
      "outputs": []
    },
    {
      "cell_type": "code",
      "source": [
        "# 4. 모델 훈련 - 로지스틱 회귀\n",
        "\n",
        "lr = LogisticRegression(C=10000, penalty='l2')\n",
        "lr.fit(tfidfv, y_train)\n",
        "\n",
        "predicted = lr.predict(tfidfv_test)\n",
        "accuracy_score(y_test, predicted)\n"
      ],
      "metadata": {
        "colab": {
          "base_uri": "https://localhost:8080/"
        },
        "outputId": "a8206027-b15c-4d49-ef81-a29b8dc7bd97",
        "id": "0kB4X9_PPN-d"
      },
      "execution_count": 112,
      "outputs": [
        {
          "output_type": "stream",
          "name": "stderr",
          "text": [
            "/usr/local/lib/python3.7/dist-packages/sklearn/linear_model/_logistic.py:818: ConvergenceWarning: lbfgs failed to converge (status=1):\n",
            "STOP: TOTAL NO. of ITERATIONS REACHED LIMIT.\n",
            "\n",
            "Increase the number of iterations (max_iter) or scale the data as shown in:\n",
            "    https://scikit-learn.org/stable/modules/preprocessing.html\n",
            "Please also refer to the documentation for alternative solver options:\n",
            "    https://scikit-learn.org/stable/modules/linear_model.html#logistic-regression\n",
            "  extra_warning_msg=_LOGISTIC_SOLVER_CONVERGENCE_MSG,\n"
          ]
        },
        {
          "output_type": "execute_result",
          "data": {
            "text/plain": [
              "0.780053428317008"
            ]
          },
          "metadata": {},
          "execution_count": 112
        }
      ]
    },
    {
      "cell_type": "code",
      "source": [
        "# 5. 모델 훈련 - 랜덤 포레스트\n",
        "\n",
        "forest = RandomForestClassifier(n_estimators=5, random_state=0)\n",
        "forest.fit(tfidfv, y_train)\n",
        "\n",
        "predicted = forest.predict(tfidfv_test)\n",
        "accuracy_score(y_test, predicted)"
      ],
      "metadata": {
        "colab": {
          "base_uri": "https://localhost:8080/"
        },
        "outputId": "51a5f214-5856-4112-f3d4-a7dbada88832",
        "id": "5yzgOjFkPN-d"
      },
      "execution_count": 113,
      "outputs": [
        {
          "output_type": "execute_result",
          "data": {
            "text/plain": [
              "0.707479964381122"
            ]
          },
          "metadata": {},
          "execution_count": 113
        }
      ]
    },
    {
      "cell_type": "code",
      "source": [
        "# 6. 그래디언트 부스팅 트리\n",
        "grbt = GradientBoostingClassifier(random_state=0)\n",
        "grbt.fit(tfidfv, y_train)\n",
        "\n",
        "predicted = grbt.predict(tfidfv_test)\n",
        "print('accuracy: ', accuracy_score(y_test, predicted))"
      ],
      "metadata": {
        "colab": {
          "base_uri": "https://localhost:8080/"
        },
        "id": "ByRAW19bPN-d",
        "outputId": "937a91ae-cd60-419b-d08e-c202e237a17f"
      },
      "execution_count": 114,
      "outputs": [
        {
          "output_type": "stream",
          "name": "stdout",
          "text": [
            "accuracy:  0.7457702582368655\n"
          ]
        }
      ]
    },
    {
      "cell_type": "code",
      "source": [
        "# 6. 모델 훈련 - 보팅\n",
        "voting_classifier = VotingClassifier(estimators=[\n",
        "                    ('lr', LogisticRegression(C=10000, penalty='l2')),\n",
        "                    ('forest', RandomForestClassifier(n_estimators=5, random_state=0)),\n",
        "                    ('grbt', GradientBoostingClassifier(random_state=0))\n",
        "\n",
        "], voting='soft', n_jobs=-1)    \n",
        "voting_classifier.fit(tfidfv, y_train)\n",
        "predicted = voting_classifier.predict(tfidfv_test)\n",
        "print('accuracy: ', accuracy_score(y_test, predicted))"
      ],
      "metadata": {
        "colab": {
          "base_uri": "https://localhost:8080/"
        },
        "outputId": "f94d99e9-f568-4da8-a54e-856adffdbb4c",
        "id": "yOksqNDwPN-d"
      },
      "execution_count": 115,
      "outputs": [
        {
          "output_type": "stream",
          "name": "stdout",
          "text": [
            "accuracy:  0.8000890471950134\n"
          ]
        }
      ]
    },
    {
      "cell_type": "markdown",
      "source": [
        "## Case4. LSTM모델과 비교"
      ],
      "metadata": {
        "id": "pP5JcAvhQ-o3"
      }
    },
    {
      "cell_type": "code",
      "source": [
        "# 1. 데이터 로드\n",
        "from tensorflow.keras.datasets import reuters\n",
        "(x_train, y_train), (x_test, y_test) = reuters.load_data(num_words=1000, test_split=0.2)\n",
        "\n",
        "print(len(x_train))\n",
        "print(len(x_test))\n",
        "                                                         "
      ],
      "metadata": {
        "colab": {
          "base_uri": "https://localhost:8080/"
        },
        "outputId": "308285cc-a0fb-484c-c844-130d4e4060f5",
        "id": "TdWV2J-yRJI6"
      },
      "execution_count": null,
      "outputs": [
        {
          "output_type": "stream",
          "name": "stdout",
          "text": [
            "8982\n",
            "2246\n"
          ]
        }
      ]
    },
    {
      "cell_type": "code",
      "source": [
        "# 2. 데이터 전처리\n",
        "\n",
        "  # word_to_index 생성\n",
        "word_index = reuters.get_word_index(path=\"reuters_word_index.json\")\n",
        "\n",
        "index_to_word = { index+3: word for word, index in word_index.items()}  # dictionary.items(): 키와 값 모두 출력\n",
        "\n",
        "  # <pad>, <sos>, <unk> 토큰 추가\n",
        "for index, token in enumerate((\"<pad>\", \"<sos>\", \"<unk>\")):\n",
        "    index_to_word[index] = token\n",
        "\n",
        "  # 훈련용 및 테스트용 데이터 생성\n",
        "decoded_train = []\n",
        "for i in range(len(x_train)):\n",
        "    t = ' '.join(index_to_word[index] for index in x_train[i])\n",
        "    decoded_train.append(t)\n",
        "\n",
        "decoded_test = []\n",
        "for i in range(len(x_test)):\n",
        "    t = ' '.join(index_to_word[index] for index in x_test[i])\n",
        "    decoded_test.append(t)\n",
        "\n",
        "word_to_index = {word: index for index, word in index_to_word.items()}"
      ],
      "metadata": {
        "id": "o2M69tZURJI6"
      },
      "execution_count": null,
      "outputs": []
    },
    {
      "cell_type": "code",
      "source": [
        "len(word_to_index)"
      ],
      "metadata": {
        "colab": {
          "base_uri": "https://localhost:8080/"
        },
        "id": "8Pr8UJ8dqju5",
        "outputId": "4525c98b-1eb1-4c14-a1df-132329fa27a6"
      },
      "execution_count": null,
      "outputs": [
        {
          "output_type": "execute_result",
          "data": {
            "text/plain": [
              "30982"
            ]
          },
          "metadata": {},
          "execution_count": 52
        }
      ]
    },
    {
      "cell_type": "code",
      "source": [
        "# 3. 벡터화\n",
        "\n",
        "import tensorflow as tf\n",
        "from keras.utils import np_utils\n",
        "\n",
        "x_train = tf.keras.preprocessing.sequence.pad_sequences(x_train,\n",
        "                                                        value=word_to_index[\"<pad>\"],                                                                                                           \n",
        "                                                        padding='post',\n",
        "                                                        maxlen=100)\n",
        "x_test = tf.keras.preprocessing.sequence.pad_sequences(x_test,\n",
        "                                                       value=word_to_index[\"<pad>\"], \n",
        "                                                       padding='post',\n",
        "                                                       maxlen=100)\n",
        "\n",
        "\n",
        "y_train = np_utils.to_categorical(y_train)\n",
        "y_test = np_utils.to_categorical(y_test)\n",
        "\n",
        "print(x_train.shape)"
      ],
      "metadata": {
        "colab": {
          "base_uri": "https://localhost:8080/"
        },
        "id": "u9m7hPPZWCQE",
        "outputId": "4666c567-5d68-4e26-8eb9-89c43fc76866"
      },
      "execution_count": null,
      "outputs": [
        {
          "output_type": "stream",
          "name": "stdout",
          "text": [
            "(8982, 100)\n"
          ]
        }
      ]
    },
    {
      "cell_type": "code",
      "source": [
        "# LSTM 모델 생성\n",
        "\n",
        "vocab_size = 1000\n",
        "word_vector_dim = 100\n",
        "\n",
        "model = tf.keras.Sequential()\n",
        "model.add(tf.keras.layers.Embedding(vocab_size, word_vector_dim, input_shape=(None,)))\n",
        "model.add(tf.keras.layers.LSTM(100, activation='tanh'))\n",
        "model.add(tf.keras.layers.Dense(46, activation='softmax'))\n",
        "\n",
        "model.summary()"
      ],
      "metadata": {
        "id": "OsPXXZo6RmhM",
        "colab": {
          "base_uri": "https://localhost:8080/"
        },
        "outputId": "acfd73c5-dddd-4183-882f-736978ffb18c"
      },
      "execution_count": null,
      "outputs": [
        {
          "output_type": "stream",
          "name": "stdout",
          "text": [
            "Model: \"sequential_19\"\n",
            "_________________________________________________________________\n",
            " Layer (type)                Output Shape              Param #   \n",
            "=================================================================\n",
            " embedding_18 (Embedding)    (None, None, 100)         100000    \n",
            "                                                                 \n",
            " lstm_19 (LSTM)              (None, 100)               80400     \n",
            "                                                                 \n",
            " dense_34 (Dense)            (None, 46)                4646      \n",
            "                                                                 \n",
            "=================================================================\n",
            "Total params: 185,046\n",
            "Trainable params: 185,046\n",
            "Non-trainable params: 0\n",
            "_________________________________________________________________\n"
          ]
        }
      ]
    },
    {
      "cell_type": "code",
      "source": [
        "# 모델 훈련\n",
        "model.compile(optimizer='adam', \n",
        "              loss='categorical_crossentropy', \n",
        "              metrics=['accuracy'])\n",
        "model.fit(x_train, y_train, epochs=20, batch_size=100, \n",
        "          verbose=1, validation_data=(x_test, y_test))"
      ],
      "metadata": {
        "id": "JwIqBnjIR4LD",
        "colab": {
          "base_uri": "https://localhost:8080/"
        },
        "outputId": "b678bb3b-4ee1-4eb5-c1e8-ab34a4599849"
      },
      "execution_count": null,
      "outputs": [
        {
          "output_type": "stream",
          "name": "stdout",
          "text": [
            "Epoch 1/20\n",
            "90/90 [==============================] - 18s 178ms/step - loss: 1.4666 - accuracy: 0.6266 - val_loss: 1.5647 - val_accuracy: 0.6060\n",
            "Epoch 2/20\n",
            "90/90 [==============================] - 16s 175ms/step - loss: 1.4105 - accuracy: 0.6444 - val_loss: 1.5540 - val_accuracy: 0.6207\n",
            "Epoch 3/20\n",
            "90/90 [==============================] - 15s 171ms/step - loss: 1.3368 - accuracy: 0.6664 - val_loss: 1.4610 - val_accuracy: 0.6345\n",
            "Epoch 4/20\n",
            "90/90 [==============================] - 15s 171ms/step - loss: 1.2581 - accuracy: 0.6869 - val_loss: 1.4142 - val_accuracy: 0.6402\n",
            "Epoch 5/20\n",
            "90/90 [==============================] - 15s 169ms/step - loss: 1.2043 - accuracy: 0.6958 - val_loss: 1.3560 - val_accuracy: 0.6563\n",
            "Epoch 6/20\n",
            "90/90 [==============================] - 15s 171ms/step - loss: 1.1470 - accuracy: 0.7092 - val_loss: 1.3007 - val_accuracy: 0.6674\n",
            "Epoch 7/20\n",
            "90/90 [==============================] - 15s 168ms/step - loss: 1.0896 - accuracy: 0.7227 - val_loss: 1.2970 - val_accuracy: 0.6701\n",
            "Epoch 8/20\n",
            "90/90 [==============================] - 15s 168ms/step - loss: 1.0769 - accuracy: 0.7265 - val_loss: 1.3367 - val_accuracy: 0.6594\n",
            "Epoch 9/20\n",
            "90/90 [==============================] - 15s 166ms/step - loss: 1.0356 - accuracy: 0.7359 - val_loss: 1.3282 - val_accuracy: 0.6634\n",
            "Epoch 10/20\n",
            "90/90 [==============================] - 15s 167ms/step - loss: 1.0114 - accuracy: 0.7424 - val_loss: 1.2638 - val_accuracy: 0.6772\n",
            "Epoch 11/20\n",
            "90/90 [==============================] - 15s 166ms/step - loss: 0.9740 - accuracy: 0.7538 - val_loss: 1.2820 - val_accuracy: 0.6817\n",
            "Epoch 12/20\n",
            "90/90 [==============================] - 15s 167ms/step - loss: 0.9476 - accuracy: 0.7630 - val_loss: 1.2560 - val_accuracy: 0.6906\n",
            "Epoch 13/20\n",
            "90/90 [==============================] - 15s 167ms/step - loss: 0.9357 - accuracy: 0.7554 - val_loss: 1.2659 - val_accuracy: 0.6848\n",
            "Epoch 14/20\n",
            "90/90 [==============================] - 15s 169ms/step - loss: 0.9269 - accuracy: 0.7621 - val_loss: 1.2639 - val_accuracy: 0.6910\n",
            "Epoch 15/20\n",
            "90/90 [==============================] - 15s 167ms/step - loss: 0.8918 - accuracy: 0.7714 - val_loss: 1.2563 - val_accuracy: 0.6937\n",
            "Epoch 16/20\n",
            "90/90 [==============================] - 15s 166ms/step - loss: 0.8522 - accuracy: 0.7841 - val_loss: 1.2620 - val_accuracy: 0.6928\n",
            "Epoch 17/20\n",
            "90/90 [==============================] - 15s 168ms/step - loss: 0.8226 - accuracy: 0.7889 - val_loss: 1.2556 - val_accuracy: 0.6950\n",
            "Epoch 18/20\n",
            "90/90 [==============================] - 15s 170ms/step - loss: 0.8193 - accuracy: 0.7915 - val_loss: 1.2831 - val_accuracy: 0.6892\n",
            "Epoch 19/20\n",
            "90/90 [==============================] - 15s 169ms/step - loss: 0.7852 - accuracy: 0.7985 - val_loss: 1.2834 - val_accuracy: 0.6995\n",
            "Epoch 20/20\n",
            "90/90 [==============================] - 15s 166ms/step - loss: 0.7644 - accuracy: 0.8067 - val_loss: 1.3041 - val_accuracy: 0.6981\n"
          ]
        },
        {
          "output_type": "execute_result",
          "data": {
            "text/plain": [
              "<keras.callbacks.History at 0x7f181efb3f90>"
            ]
          },
          "metadata": {},
          "execution_count": 100
        }
      ]
    },
    {
      "cell_type": "code",
      "source": [
        "# 테스트 정확도 출력\n",
        "model.evaluate(x_test, y_test)"
      ],
      "metadata": {
        "colab": {
          "base_uri": "https://localhost:8080/"
        },
        "id": "y5l22KP3zQ1w",
        "outputId": "ddf66eab-d3e4-4e1d-f2a3-cad1dc2e7eda"
      },
      "execution_count": null,
      "outputs": [
        {
          "output_type": "stream",
          "name": "stdout",
          "text": [
            "71/71 [==============================] - 1s 18ms/step - loss: 1.3041 - accuracy: 0.6981\n"
          ]
        },
        {
          "output_type": "execute_result",
          "data": {
            "text/plain": [
              "[1.3041306734085083, 0.6981300115585327]"
            ]
          },
          "metadata": {},
          "execution_count": 101
        }
      ]
    }
  ]
}