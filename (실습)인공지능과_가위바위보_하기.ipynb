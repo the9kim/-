{
  "nbformat": 4,
  "nbformat_minor": 0,
  "metadata": {
    "colab": {
      "name": "(실습)인공지능과 가위바위보 하기.ipynb",
      "provenance": [],
      "collapsed_sections": []
    },
    "kernelspec": {
      "name": "python3",
      "display_name": "Python 3"
    },
    "language_info": {
      "name": "python"
    }
  },
  "cells": [
    {
      "cell_type": "markdown",
      "source": [
        "# 1-7 미니 프로젝트 : 가위바위보 분류기를 만들자"
      ],
      "metadata": {
        "id": "IwIkw5A4qQe9"
      }
    },
    {
      "cell_type": "markdown",
      "source": [
        "## 1) 데이터를 준비하자\n",
        "\n",
        "(참고)사진 데이터 만들기[Teachable Machine](https://teachablemachine.withgoogle.com/)"
      ],
      "metadata": {
        "id": "XcCggTW7q5cI"
      }
    },
    {
      "cell_type": "code",
      "source": [
        "# 바위 사진 압축 풀기\n",
        "\n",
        "# 경로 설정\n",
        "\n",
        "# 압축 풀기\n",
        "!unzip \"/content/drive/MyDrive/실습_가위바위보/rock/rock.zip\""
      ],
      "metadata": {
        "colab": {
          "base_uri": "https://localhost:8080/"
        },
        "id": "j7FxTMKntuaC",
        "outputId": "c6ee47d1-e990-4c1a-d19c-d5c40b8aeb82"
      },
      "execution_count": null,
      "outputs": [
        {
          "output_type": "stream",
          "name": "stdout",
          "text": [
            "Archive:  /content/drive/MyDrive/실습_가위바위보/rock/rock.zip\n",
            "replace 0.jpg? [y]es, [n]o, [A]ll, [N]one, [r]ename: A\n",
            " extracting: 0.jpg                   \n",
            " extracting: 1.jpg                   \n",
            " extracting: 2.jpg                   \n",
            " extracting: 3.jpg                   \n",
            " extracting: 4.jpg                   \n",
            " extracting: 5.jpg                   \n",
            " extracting: 6.jpg                   \n",
            " extracting: 7.jpg                   \n",
            " extracting: 8.jpg                   \n",
            " extracting: 9.jpg                   \n",
            " extracting: 10.jpg                  \n",
            " extracting: 11.jpg                  \n",
            " extracting: 12.jpg                  \n",
            " extracting: 13.jpg                  \n",
            " extracting: 14.jpg                  \n",
            " extracting: 15.jpg                  \n",
            " extracting: 16.jpg                  \n",
            " extracting: 17.jpg                  \n",
            " extracting: 18.jpg                  \n",
            " extracting: 19.jpg                  \n",
            " extracting: 20.jpg                  \n",
            " extracting: 21.jpg                  \n",
            " extracting: 22.jpg                  \n",
            " extracting: 23.jpg                  \n",
            " extracting: 24.jpg                  \n",
            " extracting: 25.jpg                  \n",
            " extracting: 26.jpg                  \n",
            " extracting: 27.jpg                  \n",
            " extracting: 28.jpg                  \n",
            " extracting: 29.jpg                  \n",
            " extracting: 30.jpg                  \n",
            " extracting: 31.jpg                  \n",
            " extracting: 32.jpg                  \n",
            " extracting: 33.jpg                  \n",
            " extracting: 34.jpg                  \n",
            " extracting: 35.jpg                  \n",
            " extracting: 36.jpg                  \n",
            " extracting: 37.jpg                  \n",
            " extracting: 38.jpg                  \n",
            " extracting: 39.jpg                  \n",
            " extracting: 40.jpg                  \n",
            " extracting: 41.jpg                  \n",
            " extracting: 42.jpg                  \n",
            " extracting: 43.jpg                  \n",
            " extracting: 44.jpg                  \n",
            " extracting: 45.jpg                  \n",
            " extracting: 46.jpg                  \n",
            " extracting: 47.jpg                  \n",
            " extracting: 48.jpg                  \n",
            " extracting: 49.jpg                  \n",
            " extracting: 50.jpg                  \n",
            " extracting: 51.jpg                  \n",
            " extracting: 52.jpg                  \n",
            " extracting: 53.jpg                  \n",
            " extracting: 54.jpg                  \n",
            " extracting: 55.jpg                  \n",
            " extracting: 56.jpg                  \n",
            " extracting: 57.jpg                  \n",
            " extracting: 58.jpg                  \n",
            " extracting: 59.jpg                  \n",
            " extracting: 60.jpg                  \n",
            " extracting: 61.jpg                  \n",
            " extracting: 62.jpg                  \n",
            " extracting: 63.jpg                  \n",
            " extracting: 64.jpg                  \n",
            " extracting: 65.jpg                  \n",
            " extracting: 66.jpg                  \n",
            " extracting: 67.jpg                  \n",
            " extracting: 68.jpg                  \n",
            " extracting: 69.jpg                  \n",
            " extracting: 70.jpg                  \n",
            " extracting: 71.jpg                  \n",
            " extracting: 72.jpg                  \n",
            " extracting: 73.jpg                  \n",
            " extracting: 74.jpg                  \n",
            " extracting: 75.jpg                  \n",
            " extracting: 76.jpg                  \n",
            " extracting: 77.jpg                  \n",
            " extracting: 78.jpg                  \n",
            " extracting: 79.jpg                  \n",
            " extracting: 80.jpg                  \n",
            " extracting: 81.jpg                  \n",
            " extracting: 82.jpg                  \n",
            " extracting: 83.jpg                  \n",
            " extracting: 84.jpg                  \n",
            " extracting: 85.jpg                  \n",
            " extracting: 86.jpg                  \n",
            " extracting: 87.jpg                  \n",
            " extracting: 88.jpg                  \n",
            " extracting: 89.jpg                  \n",
            " extracting: 90.jpg                  \n",
            " extracting: 91.jpg                  \n",
            " extracting: 92.jpg                  \n",
            " extracting: 93.jpg                  \n",
            " extracting: 94.jpg                  \n",
            " extracting: 95.jpg                  \n",
            " extracting: 96.jpg                  \n",
            " extracting: 97.jpg                  \n",
            " extracting: 98.jpg                  \n",
            " extracting: 99.jpg                  \n"
          ]
        }
      ]
    },
    {
      "cell_type": "code",
      "source": [
        "# 보 사진 압축 풀기\n",
        "\n",
        "# 디렉터리 이동\n",
        "! cd /content/drive/MyDrive/실습_가위바위보/paper\n",
        "\n",
        "# 압축 풀기\n",
        "! unzip -qq \"/content/drive/MyDrive/실습_가위바위보/paper/paper.zip\""
      ],
      "metadata": {
        "colab": {
          "base_uri": "https://localhost:8080/"
        },
        "id": "Qp571n8Uxy9f",
        "outputId": "55a56ba8-4028-4997-8641-f8fa448fbd45"
      },
      "execution_count": null,
      "outputs": [
        {
          "output_type": "stream",
          "name": "stdout",
          "text": [
            "replace 0.jpg? [y]es, [n]o, [A]ll, [N]one, [r]ename: A\n"
          ]
        }
      ]
    },
    {
      "cell_type": "code",
      "source": [
        "# 가위 사진 압축 풀기\n",
        "\n",
        "# 디렉터리 이동\n",
        "! cd \"/content/drive/MyDrive/실습_가위바위보/scissor\"\n",
        "\n",
        "# 압축 풀기\n",
        "! unzip -qq \"/content/drive/MyDrive/실습_가위바위보/scissor/scissor.zip\""
      ],
      "metadata": {
        "colab": {
          "base_uri": "https://localhost:8080/"
        },
        "id": "LmBV8O8pyUow",
        "outputId": "0f5d4c57-990d-4101-fc36-5e13a2fe6cec"
      },
      "execution_count": null,
      "outputs": [
        {
          "output_type": "stream",
          "name": "stdout",
          "text": [
            "replace 0.jpg? [y]es, [n]o, [A]ll, [N]one, [r]ename: A\n"
          ]
        }
      ]
    },
    {
      "cell_type": "code",
      "source": [
        "# 데이터 불러오기 + Resize 하기\n",
        "\n",
        "from PIL import Image\n",
        "import glob\n",
        "print(\"PIL 라이브러리 import 완료!\")\n",
        "\n",
        "\n",
        "def resize_images(img_path):\n",
        "  images = glob.glob(img_path + \"/*.jpg\")\n",
        "\n",
        "  print(len(images), \" images to be resized\")\n",
        "\n",
        "# 파일마다 모두 28x28 사이즈로 바꾸어 저장\n",
        "  target_size=(28,28)\n",
        "  for img in images:\n",
        "    old_img=Image.open(img)\n",
        "    new_img=old_img.resize(target_size,Image.ANTIALIAS)\n",
        "    new_img.save(img, \"JPEG\")\n",
        "    \n",
        "  print(len(images), \" images resized.\")\n",
        "\n",
        "# 가위 이미지가 저장된 디렉토리 아래의 모든 jpg 파일을 읽어들여서\n",
        "image_dir_path = \"/content/drive/MyDrive/실습_가위바위보/scissor\"\n",
        "resize_images(image_dir_path)\n",
        "\n",
        "print(\"가위 이미지 resize 완료!\")\n",
        "\n",
        "# 바위 이미지가 저장된 디렉토리 아래의 모든 jpg 파일을 읽어들여서\n",
        "image_dir_path = \"/content/drive/MyDrive/실습_가위바위보/rock\"\n",
        "resize_images(image_dir_path)\n",
        "\n",
        "print(\"바위 이미지 resize 완료!\")\n",
        "\n",
        "# 보 이미지가 저장된 디렉토리 아래의 모든 jpg 파일을 읽어들여서\n",
        "image_dir_path = \"/content/drive/MyDrive/실습_가위바위보/paper\"\n",
        "resize_images(image_dir_path)\n",
        "\n",
        "print(\"보 이미지 resize 완료!\")"
      ],
      "metadata": {
        "colab": {
          "base_uri": "https://localhost:8080/"
        },
        "id": "Mpvb6qfYydmz",
        "outputId": "a15b144f-c450-42a5-a56a-46b6c2ad6828"
      },
      "execution_count": null,
      "outputs": [
        {
          "output_type": "stream",
          "name": "stdout",
          "text": [
            "PIL 라이브러리 import 완료!\n",
            "100  images to be resized\n",
            "100  images resized.\n",
            "가위 이미지 resize 완료!\n",
            "100  images to be resized\n",
            "100  images resized.\n",
            "바위 이미지 resize 완료!\n",
            "100  images to be resized\n",
            "100  images resized.\n",
            "보 이미지 resize 완료!\n"
          ]
        }
      ]
    },
    {
      "cell_type": "code",
      "source": [
        "# 가위바위보 데이터를 읽는 함수 만들기 : load_data()\n",
        "\n",
        "import numpy as np\n",
        "\n",
        "def load_data(img_path, number_or_data = 300) : \n",
        "  # 가위:0, 바위:1, 보:2\n",
        "  img_size = 28\n",
        "  color = 3\n",
        "  #이미지 데이터와 라벨(가위 : 0, 바위 : 1, 보 : 2) 데이터를 담을 행렬(matrix) 영역을 생성합니다.\n",
        "  imgs = np.zeros(number_or_data * img_size * img_size * color, dtype = np.int32).reshape(number_or_data, img_size,img_size, color)\n",
        "  labels = np.zeros(number_or_data, dtype=np.int32)\n",
        "\n",
        "  idx = 0\n",
        "  for file in glob.iglob(img_path +'/scissor/*.jpg') :\n",
        "    img = np.array(Image.open(file),dtype = np.int32)\n",
        "    imgs[idx, :, :, :] = img        # 데이터 영역에 이미지 행렬을 복사\n",
        "    labels[idx] = 0     # 가위 : 0\n",
        "    idx = idx +1\n",
        "\n",
        "  for file in glob.iglob(img_path +'/rock/*.jpg') :\n",
        "    img = np.array(Image.open(file),dtype = np.int32)\n",
        "    imgs[idx, :, :, :] = img        # 데이터 영역에 이미지 행렬을 복사\n",
        "    labels[idx] = 1     # 바위 : 0\n",
        "    idx = idx +1\n",
        "\n",
        "  for file in glob.iglob(img_path +'/paper/*.jpg') :\n",
        "    img = np.array(Image.open(file),dtype = np.int32)\n",
        "    imgs[idx, :, :, :] = img        # 데이터 영역에 이미지 행렬을 복사\n",
        "    labels[idx] = 0     # 보 : 2\n",
        "    idx = idx +1\n",
        "\n",
        "  print(\"학습데이터(x_train)의 이미지 개수는\", idx, \"입니다.\")\n",
        "  return imgs, labels\n",
        "\n",
        "\n",
        "image_dir_path = \"/content/drive/MyDrive/실습_가위바위보\"\n",
        "(x_train, y_train) = load_data(image_dir_path)\n",
        "x_train_norm = x_train/255        # 0-1값으로 정규화\n",
        "\n",
        "print(\"x_train shape: {}\".format(x_train.shape))\n",
        "print(\"y_train_shape: {}\".format(y_train.shape))"
      ],
      "metadata": {
        "colab": {
          "base_uri": "https://localhost:8080/"
        },
        "id": "JCEqmlbRKa8I",
        "outputId": "4be894ca-ce6b-4021-99cd-ce139b8b497f"
      },
      "execution_count": null,
      "outputs": [
        {
          "output_type": "stream",
          "name": "stdout",
          "text": [
            "학습데이터(x_train)의 이미지 개수는 300 입니다.\n",
            "x_train shape: (300, 28, 28, 3)\n",
            "y_train_shape: (300,)\n"
          ]
        }
      ]
    },
    {
      "cell_type": "code",
      "source": [
        "# 이미지 부르기\n",
        "\n",
        "plt.imshow(x_train[111])\n",
        "print('라벨: ', y_train[111])"
      ],
      "metadata": {
        "colab": {
          "base_uri": "https://localhost:8080/",
          "height": 282
        },
        "id": "bdZeKQCEPbUa",
        "outputId": "8b123bf5-ac0c-494e-b040-8d48bc6c648d"
      },
      "execution_count": null,
      "outputs": [
        {
          "output_type": "stream",
          "name": "stdout",
          "text": [
            "라벨:  1\n"
          ]
        },
        {
          "output_type": "display_data",
          "data": {
            "image/png": "[encoded data removed]",
            "text/plain": [
              "<Figure size 432x288 with 1 Axes>"
            ]
          },
          "metadata": {
            "needs_background": "light"
          }
        }
      ]
    },
    {
      "cell_type": "markdown",
      "source": [
        "## 딥러닝 네트워크 설계하기"
      ],
      "metadata": {
        "id": "tDBOXQX2Ptuq"
      }
    },
    {
      "cell_type": "code",
      "source": [
        "import tensorflow as tf\n",
        "from tensorflow import keras\n",
        "import numpy as np\n",
        "\n",
        "model = keras.models.Sequential()\n",
        "model.add(keras.layers.Conv2D(16, (3,3), activation='relu', input_shape=(28,28,3)))\n",
        "model.add(keras.layers.MaxPool2D(2,2))\n",
        "model.add(keras.layers.Conv2D(32, (3,3), activation='relu'))\n",
        "model.add(keras.layers.MaxPooling2D((2,2)))\n",
        "model.add(keras.layers.Flatten())\n",
        "model.add(keras.layers.Dense(32, activation='relu'))\n",
        "model.add(keras.layers.Dense(3, activation='softmax'))\n",
        "\n",
        "print('Model에 추가된 Layer 개수 : ', len(model.layers))"
      ],
      "metadata": {
        "colab": {
          "base_uri": "https://localhost:8080/"
        },
        "id": "c0_wvR2PPsyP",
        "outputId": "67c9a1bb-f450-4284-9242-09a1d1809267"
      },
      "execution_count": null,
      "outputs": [
        {
          "output_type": "stream",
          "name": "stdout",
          "text": [
            "Model에 추가된 Layer 개수 :  7\n"
          ]
        }
      ]
    },
    {
      "cell_type": "code",
      "source": [
        "# 네트워크 모델 확인\n",
        "\n",
        "model.summary()"
      ],
      "metadata": {
        "colab": {
          "base_uri": "https://localhost:8080/"
        },
        "id": "VPpEdKyxSSN9",
        "outputId": "59b591f2-fa30-4cd9-8c4f-8452dbb182b3"
      },
      "execution_count": null,
      "outputs": [
        {
          "output_type": "stream",
          "name": "stdout",
          "text": [
            "Model: \"sequential_9\"\n",
            "_________________________________________________________________\n",
            " Layer (type)                Output Shape              Param #   \n",
            "=================================================================\n",
            " conv2d_18 (Conv2D)          (None, 26, 26, 16)        448       \n",
            "                                                                 \n",
            " max_pooling2d_18 (MaxPoolin  (None, 13, 13, 16)       0         \n",
            " g2D)                                                            \n",
            "                                                                 \n",
            " conv2d_19 (Conv2D)          (None, 11, 11, 32)        4640      \n",
            "                                                                 \n",
            " max_pooling2d_19 (MaxPoolin  (None, 5, 5, 32)         0         \n",
            " g2D)                                                            \n",
            "                                                                 \n",
            " flatten_9 (Flatten)         (None, 800)               0         \n",
            "                                                                 \n",
            " dense_18 (Dense)            (None, 32)                25632     \n",
            "                                                                 \n",
            " dense_19 (Dense)            (None, 3)                 99        \n",
            "                                                                 \n",
            "=================================================================\n",
            "Total params: 30,819\n",
            "Trainable params: 30,819\n",
            "Non-trainable params: 0\n",
            "_________________________________________________________________\n"
          ]
        }
      ]
    },
    {
      "cell_type": "markdown",
      "source": [
        "## 딥러닝 네트워크 학습시키기\n"
      ],
      "metadata": {
        "id": "a0PL3bOwRwC3"
      }
    },
    {
      "cell_type": "code",
      "source": [
        "# 채널수 설정하기는 생략가능?\n",
        "\n",
        "# 네트워크 학습\n",
        "\n",
        "model.compile(optimizer ='adam',\n",
        "              loss='sparse_categorical_crossentropy',\n",
        "              metrics = ['accuracy'])\n",
        "\n",
        "# epochs = 10은 300개의 데이터를 10번 반복 사용해서 학습시키라는 뜻\n",
        "model.fit(x_train_norm, y_train, epochs = 10)"
      ],
      "metadata": {
        "colab": {
          "base_uri": "https://localhost:8080/"
        },
        "id": "lRbtzTzKScEp",
        "outputId": "07bda7b2-89b5-4a0e-f380-08709c3b5994"
      },
      "execution_count": null,
      "outputs": [
        {
          "output_type": "stream",
          "name": "stdout",
          "text": [
            "Epoch 1/10\n",
            "10/10 [==============================] - 1s 18ms/step - loss: 0.9794 - accuracy: 0.5900\n",
            "Epoch 2/10\n",
            "10/10 [==============================] - 0s 19ms/step - loss: 0.7030 - accuracy: 0.6667\n",
            "Epoch 3/10\n",
            "10/10 [==============================] - 0s 17ms/step - loss: 0.6401 - accuracy: 0.6667\n",
            "Epoch 4/10\n",
            "10/10 [==============================] - 0s 18ms/step - loss: 0.6335 - accuracy: 0.7267\n",
            "Epoch 5/10\n",
            "10/10 [==============================] - 0s 19ms/step - loss: 0.6240 - accuracy: 0.7100\n",
            "Epoch 6/10\n",
            "10/10 [==============================] - 0s 17ms/step - loss: 0.5822 - accuracy: 0.7133\n",
            "Epoch 7/10\n",
            "10/10 [==============================] - 0s 17ms/step - loss: 0.5801 - accuracy: 0.7367\n",
            "Epoch 8/10\n",
            "10/10 [==============================] - 0s 18ms/step - loss: 0.5622 - accuracy: 0.7267\n",
            "Epoch 9/10\n",
            "10/10 [==============================] - 0s 19ms/step - loss: 0.5300 - accuracy: 0.7867\n",
            "Epoch 10/10\n",
            "10/10 [==============================] - 0s 19ms/step - loss: 0.4969 - accuracy: 0.7800\n"
          ]
        },
        {
          "output_type": "execute_result",
          "data": {
            "text/plain": [
              "<keras.callbacks.History at 0x7f8a81f3a4d0>"
            ]
          },
          "metadata": {},
          "execution_count": 209
        }
      ]
    },
    {
      "cell_type": "markdown",
      "source": [
        "## 얼마나 잘 만들었는지 확인하기(테스트)"
      ],
      "metadata": {
        "id": "WuJdgVFWT_pF"
      }
    },
    {
      "cell_type": "code",
      "source": [
        "# 테스트 이미지 사이즈 변경\n",
        "\n",
        "# 가위 이미지가 저장된 디렉토리 아래의 모든 jpg 파일을 읽어들여서\n",
        "image_dir_path2 = \"/content/drive/MyDrive/실습_가위바위보_테스트/scissor\"\n",
        "resize_images(image_dir_path2)\n",
        "\n",
        "# 바위 이미지가 저장된 디렉토리 아래의 모든 jpg 파일을 읽어들여서\n",
        "image_dir_path2 = \"/content/drive/MyDrive/실습_가위바위보_테스트/rock\"\n",
        "resize_images(image_dir_path2)\n",
        "\n",
        "# 보 이미지가 저장된 디렉토리 아래의 모든 jpg 파일을 읽어들여서\n",
        "image_dir_path2 = \"/content/drive/MyDrive/실습_가위바위보_테스트/paper\"\n",
        "resize_images(image_dir_path2)\n"
      ],
      "metadata": {
        "colab": {
          "base_uri": "https://localhost:8080/"
        },
        "id": "0DUKeISaYK9X",
        "outputId": "5b874e19-d822-4a57-f40e-1f5c5a0cb409"
      },
      "execution_count": null,
      "outputs": [
        {
          "output_type": "stream",
          "name": "stdout",
          "text": [
            "100  images to be resized\n",
            "100  images resized.\n",
            "100  images to be resized\n",
            "100  images resized.\n",
            "100  images to be resized\n",
            "100  images resized.\n"
          ]
        }
      ]
    },
    {
      "cell_type": "code",
      "source": [
        "# 테스트 데이터 불러오기\n",
        "\n",
        "image_dir_path2 = \"/content/drive/MyDrive/실습_가위바위보_테스트\"\n",
        "(x_test, y_test) = load_data(image_dir_path2)\n",
        "x_test_norm = x_test/255        # 0-1값으로 정규화\n",
        "\n",
        "print(\"x_test shape: {}\".format(x_test.shape))\n",
        "print(\"y_test_shape: {}\".format(y_test.shape))"
      ],
      "metadata": {
        "colab": {
          "base_uri": "https://localhost:8080/"
        },
        "id": "Wg5VtJiIUkK4",
        "outputId": "a938ff77-e670-4a8c-8944-6ee34c6c7483"
      },
      "execution_count": null,
      "outputs": [
        {
          "output_type": "stream",
          "name": "stdout",
          "text": [
            "학습데이터(x_train)의 이미지 개수는 300 입니다.\n",
            "x_test shape: (300, 28, 28, 3)\n",
            "y_test_shape: (300,)\n"
          ]
        }
      ]
    },
    {
      "cell_type": "code",
      "source": [
        "# 테스트 데이터로 모델 성능 확인 : model.evaluate()\n",
        "\n",
        "test_loss, test_accuracy = model.evaluate(x_test_norm, y_test, verbose=2)\n",
        "print('test_loss: {}'.format(test_loss))\n",
        "print('test_accuracy: {}'.format(test_accuracy))"
      ],
      "metadata": {
        "colab": {
          "base_uri": "https://localhost:8080/"
        },
        "id": "PUAxsTuxZ1s8",
        "outputId": "724a340b-42f0-4f98-acbd-d14f8e3e57f2"
      },
      "execution_count": null,
      "outputs": [
        {
          "output_type": "stream",
          "name": "stdout",
          "text": [
            "10/10 - 0s - loss: 0.9108 - accuracy: 0.6667 - 167ms/epoch - 17ms/step\n",
            "test_loss: 0.910794198513031\n",
            "test_accuracy: 0.6666666865348816\n"
          ]
        }
      ]
    }
  ]
}