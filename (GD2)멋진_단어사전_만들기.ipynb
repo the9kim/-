{
  "cells": [
    {
      "cell_type": "markdown",
      "source": [
        "# 1.모듈 임포트 및 데이터 다운로드"
      ],
      "metadata": {
        "id": "D1sSEiUVhg1S"
      }
    },
    {
      "cell_type": "code",
      "source": [
        ""
      ],
      "metadata": {
        "id": "ntGTX88wkfQZ"
      },
      "execution_count": 160,
      "outputs": []
    },
    {
      "cell_type": "code",
      "source": [
        "from konlpy.tag import Mecab\n",
        "\n",
        "mecab = Mecab()\n",
        "\n",
        "import numpy as np\n",
        "import matplotlib.pyplot as plt"
      ],
      "metadata": {
        "id": "Za9mA3W-hV5D"
      },
      "execution_count": 161,
      "outputs": []
    },
    {
      "cell_type": "code",
      "source": [
        "path_to_file = \"/content/drive/MyDrive/아이펠/GoingDeeper/2/korean-english-park.train/korean-english-park.train.ko\"\n",
        "\n",
        "with open(path_to_file, \"r\") as f:\n",
        "    raw = f.read().splitlines()\n",
        "\n",
        "print(\"Data Size:\", len(raw))\n",
        "\n",
        "print(\"Example:\")\n",
        "for sen in raw[0:100][::20]: print(\">>\", sen)\n",
        "\n"
      ],
      "metadata": {
        "colab": {
          "base_uri": "https://localhost:8080/"
        },
        "id": "RhNtd1Mlhc6_",
        "outputId": "5080207d-084c-478e-b13a-48238d85a065"
      },
      "execution_count": 162,
      "outputs": [
        {
          "output_type": "stream",
          "name": "stdout",
          "text": [
            "Data Size: 76908\n",
            "Example:\n",
            ">> 세계자연보전연맹(The International Union for Conservation of Nature, IUCN )은 야생동물고기의 맛을 좋아하는 사냥꾼과 서식지 감소로 통킹납작코원숭이가 멸종되고 있다고 밝혔다.\n",
            ">> 만약 톰슨이 정말로 이식에 필요한 보다 많은 장기를 얻고자 원한다면 부자들과 가난한 사람들이 이식 수술을 받을 수 있는 똑같은 기회를 갖도록 해야만 한다.\n",
            ">> 차타흐는 레바논 보안군이 무장대원을 목표로 할 것이며 난민촌에서 무작위로 총격을 가하지 않을 것이라고 전했다.\n",
            ">> IBM측이 500시간을 들여 개발한 이 컴퓨터 게임은 동물의 기억력, 추리력, 학습능력을 검사하게 해준다.\n",
            ">> 미국의 아프가니스탄, 이라크 침공을 지원하고 이곳으로 자위대를 파견하고 있는 일본은 일본이 테러조직의 공격대상이 될 가능성을 우려하고 있다.\n"
          ]
        }
      ]
    },
    {
      "cell_type": "markdown",
      "source": [
        "# 2.데이터 분석 - 문장 길이 파악 + 제거\n"
      ],
      "metadata": {
        "id": "PhS6c4dxiPXp"
      }
    },
    {
      "cell_type": "code",
      "source": [
        "# 문장 길이 분포 시각화\n",
        "\n",
        "min_len = 999\n",
        "max_len = 0\n",
        "sum_len = 0\n",
        "\n",
        "for sen in raw:\n",
        "    length = len(sen)\n",
        "    if min_len > length: min_len = length\n",
        "    if max_len < length: max_len = length\n",
        "    sum_len += length\n",
        "\n",
        "print(\"최단 문장 길이:\", min_len)\n",
        "print(\"최장 문장 길이:\", max_len)\n",
        "print(\"평균 문장 길이:\", sum_len // len(raw))\n",
        "\n",
        "sentence_length = np.zeros((max_len), dtype=np.int)\n",
        "for sen in raw:\n",
        "    sentence_length[len(sen)-1] +=1\n",
        "\n",
        "plt.bar(range(max_len), sentence_length, width=1.0)\n",
        "plt.title(\"Sentence Length Distribution\")\n",
        "plt.show()"
      ],
      "metadata": {
        "colab": {
          "base_uri": "https://localhost:8080/",
          "height": 0
        },
        "id": "ymETg7fsid99",
        "outputId": "de3c638f-a57c-4a06-9556-cf7391a0a214"
      },
      "execution_count": 163,
      "outputs": [
        {
          "output_type": "stream",
          "name": "stdout",
          "text": [
            "최단 문장 길이: 10\n",
            "최장 문장 길이: 149\n",
            "평균 문장 길이: 64\n"
          ]
        },
        {
          "output_type": "stream",
          "name": "stderr",
          "text": [
            "/usr/local/lib/python3.7/dist-packages/ipykernel_launcher.py:17: DeprecationWarning: `np.int` is a deprecated alias for the builtin `int`. To silence this warning, use `int` by itself. Doing this will not modify any behavior and is safe. When replacing `np.int`, you may wish to use e.g. `np.int64` or `np.int32` to specify the precision. If you wish to review your current use, check the release note link for additional information.\n",
            "Deprecated in NumPy 1.20; for more details and guidance: https://numpy.org/devdocs/release/1.20.0-notes.html#deprecations\n"
          ]
        },
        {
          "output_type": "display_data",
          "data": {
            "text/plain": [
              "<Figure size 432x288 with 1 Axes>"
            ],
            "image/png": "[encoded data removed]"
          },
          "metadata": {
            "needs_background": "light"
          }
        }
      ]
    },
    {
      "cell_type": "code",
      "source": [
        "# 길이 1인 문장 확인\n",
        "\n",
        "def check_sentence_with_length(raw, length):\n",
        "    count = 0\n",
        "\n",
        "    for sen in raw:\n",
        "        if len(sen) == length:\n",
        "            print(sen)\n",
        "            count += 1\n",
        "            if count > 100: return\n",
        "\n",
        "check_sentence_with_length(raw, 1)"
      ],
      "metadata": {
        "id": "Z63dqW86mtJU"
      },
      "execution_count": 164,
      "outputs": []
    },
    {
      "cell_type": "code",
      "source": [
        "# 긴 문장(길이 1500이상) 추출\n",
        "\n",
        "for idx, _sum in enumerate(sentence_length):\n",
        "    if _sum > 1500:\n",
        "        print(\"Outlier Index:\", idx+1)"
      ],
      "metadata": {
        "id": "8g76jAK0ncBM"
      },
      "execution_count": 165,
      "outputs": []
    },
    {
      "cell_type": "code",
      "source": [
        "# 긴 문장 확인(index:11)\n",
        "\n",
        "check_sentence_with_length(raw, 11)"
      ],
      "metadata": {
        "colab": {
          "base_uri": "https://localhost:8080/"
        },
        "id": "Mc0hgevLosjR",
        "outputId": "73524533-7d16-485d-9d50-b7087c7df07c"
      },
      "execution_count": 166,
      "outputs": [
        {
          "output_type": "stream",
          "name": "stdout",
          "text": [
            "지하철 타기 겁난다.\n",
            "- 네, 보이는군요.\n",
            "(정당의) 원내 총무\n",
            "산 위를 나는 느낌.\n",
            "로그인 Korea사전\n",
            "경유 1200원대로…\n",
            "levee 제방, 둑\n",
            "standard 표준\n",
            "9. 몇 분간의 명상\n",
            "그녀의 아름다운 눈.\n",
            "남한의 객관적 평가?\n",
            "전유를 넣은 카페라떼\n",
            "아기가 숨을 멈출 때\n",
            "raft 다수, 다량\n",
            "의자는 비어 있었다.\n",
            "라고 조던이 말했다.\n",
            "조금은 새침한 샬롯？\n",
            "건물 전체 무너져내려\n",
            "디즈니사만이 아니다.\n",
            "를 외치며 기뻐했다.\n",
            "그 이유는 간단하다.\n",
            "좀 더 말씀해주시죠.\n",
            "키스를 잘 하는 방법\n",
            "제발 답변을 주세요!\n",
            "meantime 한편\n",
            "천재 소녀의 '부활'\n",
            "처음에는 장난이었다.\n",
            "대통령 후보자의 지명\n",
            "외교통상부 이슬람교도\n",
            "고 소식통이 전했다.\n",
            "작은 못이 아닙니다.\n",
            "pledge 서약하다\n",
            "끌어내다, 철수시키다\n",
            "미래의 최첨단 사무실\n",
            "이력서와 자기 소개서\n",
            "원문기사 원문기사보기\n",
            "(아직 읽고있습니까?\n",
            "\"사과할 것이 없다.\n",
            "폭탄테러가 공포 유발\n",
            "이 일은 계속됩니다.\n",
            "brisk 활기를 띤\n",
            "hearing 청문회\n",
            "스피어스가 뚱뚱한가?\n",
            "케냐 야생동물 고아원\n",
            "우리는 운이 좋았다.\n",
            "- 모르고 있습니다.\n",
            "본서, 본부, 사령부\n",
            "tribunal 법정\n",
            "resign 사퇴하다\n",
            "세 시간쯤 걸었을까?\n",
            "큰 파티는 아니지요.\n",
            "하와이, 빅 아일랜드\n",
            "대답은 다음과 같다.\n",
            "Congress 의회\n",
            "나는 크게 실망했다.\n",
            "미래 동맹 정책 구상\n",
            "사업의) 합병, 합동\n",
            "크라이슬러. 조업중단\n",
            "정권을 잡다[장악하다\n",
            "비관적인, 염세주의의\n",
            "그는 \"잘 모르겠다.\n",
            "시대가 변하고 있다.\n",
            "원화 강세 언제까지?\n",
            "는 돌발질문을 했다.\n",
            "더 내려야 하는 이유\n",
            "이전 보기 다음 보기\n",
            "그들은 신중했습니다.\n"
          ]
        }
      ]
    },
    {
      "cell_type": "code",
      "source": [
        "# 중복 제거 + 문장 길이 분포 시각화\n",
        "\n",
        "min_len = 999\n",
        "max_len = 0\n",
        "sum_len = 0\n",
        "\n",
        "cleaned_corpus = list(set(raw))\n",
        "print(\"Data Size:\", len(cleaned_corpus))\n",
        "\n",
        "for sen in cleaned_corpus:\n",
        "    length = len(sen)\n",
        "    if min_len > length: min_len = length\n",
        "    if max_len < length: max_len = length\n",
        "    sum_len += length\n",
        "\n",
        "print(\"문장의 최단 길이:\", min_len)\n",
        "print(\"문장의 최장 길이:\", max_len)\n",
        "print(\"문장의 평균 길이:\", sum_len // len(cleaned_corpus))\n",
        "\n",
        "sentence_length = np.zeros((max_len), dtype=np.int)\n",
        "\n",
        "for sen in cleaned_corpus:   # 중복이 제거된 코퍼스 기준\n",
        "    sentence_length[len(sen)-1] += 1\n",
        "\n",
        "plt.bar(range(max_len), sentence_length, width=1.0)\n",
        "plt.title(\"Sentence Length Distribution\")\n",
        "plt.show()"
      ],
      "metadata": {
        "colab": {
          "base_uri": "https://localhost:8080/",
          "height": 0
        },
        "id": "seJkhANio_lQ",
        "outputId": "3accce4c-1fdc-4952-dfab-274894dde736"
      },
      "execution_count": 167,
      "outputs": [
        {
          "output_type": "stream",
          "name": "stdout",
          "text": [
            "Data Size: 76908\n",
            "문장의 최단 길이: 10\n",
            "문장의 최장 길이: 149\n",
            "문장의 평균 길이: 64\n"
          ]
        },
        {
          "output_type": "stream",
          "name": "stderr",
          "text": [
            "/usr/local/lib/python3.7/dist-packages/ipykernel_launcher.py:20: DeprecationWarning: `np.int` is a deprecated alias for the builtin `int`. To silence this warning, use `int` by itself. Doing this will not modify any behavior and is safe. When replacing `np.int`, you may wish to use e.g. `np.int64` or `np.int32` to specify the precision. If you wish to review your current use, check the release note link for additional information.\n",
            "Deprecated in NumPy 1.20; for more details and guidance: https://numpy.org/devdocs/release/1.20.0-notes.html#deprecations\n"
          ]
        },
        {
          "output_type": "display_data",
          "data": {
            "text/plain": [
              "<Figure size 432x288 with 1 Axes>"
            ],
            "image/png": "[encoded data removed]"
          },
          "metadata": {
            "needs_background": "light"
          }
        }
      ]
    },
    {
      "cell_type": "code",
      "source": [
        "# 긴 문장(길이 150이상) 및 짧은 문장(길이 10이하) 제거\n",
        "\n",
        "max_len = 150\n",
        "min_len = 10\n",
        "\n",
        "# 길이 조건에 맞는 문장 선택\n",
        "filtered_corpus = [s for s in cleaned_corpus if (len(s) < max_len) & (len(s) >= min_len)]\n",
        "\n",
        "# 분포도 그리기\n",
        "sentence_length = np.zeros((max_len), dtype=np.int)\n",
        "\n",
        "for sen in filtered_corpus:\n",
        "    sentence_length[len(sen)-1] += 1\n",
        "\n",
        "plt.bar(range(max_len), sentence_length, width=1.0)\n",
        "plt.title(\"Sentence Length Distribution\")\n",
        "plt.show()"
      ],
      "metadata": {
        "colab": {
          "base_uri": "https://localhost:8080/",
          "height": 0
        },
        "id": "_XH5v6vxp67k",
        "outputId": "e74c902e-0626-4bd9-d8cd-35d1435f2e4d"
      },
      "execution_count": 168,
      "outputs": [
        {
          "output_type": "stream",
          "name": "stderr",
          "text": [
            "/usr/local/lib/python3.7/dist-packages/ipykernel_launcher.py:10: DeprecationWarning: `np.int` is a deprecated alias for the builtin `int`. To silence this warning, use `int` by itself. Doing this will not modify any behavior and is safe. When replacing `np.int`, you may wish to use e.g. `np.int64` or `np.int32` to specify the precision. If you wish to review your current use, check the release note link for additional information.\n",
            "Deprecated in NumPy 1.20; for more details and guidance: https://numpy.org/devdocs/release/1.20.0-notes.html#deprecations\n",
            "  # Remove the CWD from sys.path while we load stuff.\n"
          ]
        },
        {
          "output_type": "display_data",
          "data": {
            "text/plain": [
              "<Figure size 432x288 with 1 Axes>"
            ],
            "image/png": "[encoded data removed]"
          },
          "metadata": {
            "needs_background": "light"
          }
        }
      ]
    },
    {
      "cell_type": "markdown",
      "source": [
        "# 3.공백 기반 토큰화\n"
      ],
      "metadata": {
        "id": "ej7jk857s-TG"
      }
    },
    {
      "cell_type": "code",
      "source": [
        "# tokenize 함수 생성: 단어사전과 Tensor 데이터 추출\n",
        "\n",
        "def tokenize(corpus):  # corpus: Tokenized Sentence's List\n",
        "    tokenizer = tf.keras.preprocessing.text.Tokenizer(filters='')\n",
        "    tokenizer.fit_on_texts(corpus)\n",
        "\n",
        "    tensor = tokenizer.texts_to_sequences(corpus)\n",
        "\n",
        "    tensor = tf.keras.preprocessing.sequence.pad_sequences(tensor, padding='post')\n",
        "\n",
        "    return tensor, tokenizer"
      ],
      "metadata": {
        "id": "8OCT2YQetE6r"
      },
      "execution_count": 169,
      "outputs": []
    },
    {
      "cell_type": "code",
      "source": [
        "# 공백 기준으로 corpus 분리\n",
        "\n",
        "split_corpus = []\n",
        "\n",
        "for kor in filtered_corpus:\n",
        "    split_corpus.append(kor.split())\n"
      ],
      "metadata": {
        "id": "NkBLO6RmuHFo"
      },
      "execution_count": 170,
      "outputs": []
    },
    {
      "cell_type": "code",
      "source": [
        "# 단어 사전 길이 확인\n",
        "import tensorflow as tf\n",
        "\n",
        "split_tensor, split_tokenizer = tokenize(split_corpus)\n",
        "\n",
        "print(\"Split Vocab Size:\", len(split_tokenizer.index_word))"
      ],
      "metadata": {
        "colab": {
          "base_uri": "https://localhost:8080/"
        },
        "id": "4rT5gkPluYCj",
        "outputId": "8c46a675-06f3-4d4c-88d8-950ec1fe584e"
      },
      "execution_count": 171,
      "outputs": [
        {
          "output_type": "stream",
          "name": "stdout",
          "text": [
            "Split Vocab Size: 237435\n"
          ]
        }
      ]
    },
    {
      "cell_type": "code",
      "source": [
        "# 단어 사전 확인\n",
        "  # 불필요하게 큰 단어사전을 가지게되는 단점 발생\n",
        "\n",
        "for idx, word in enumerate(split_tokenizer.word_index):\n",
        "    print(idx, \":\", word)\n",
        "\n",
        "    if idx > 10: break"
      ],
      "metadata": {
        "colab": {
          "base_uri": "https://localhost:8080/"
        },
        "id": "zHEQXzQDv3PW",
        "outputId": "da94beaa-a001-4a9e-e09e-7c10bcc621b2"
      },
      "execution_count": 172,
      "outputs": [
        {
          "output_type": "stream",
          "name": "stdout",
          "text": [
            "0 : 이\n",
            "1 : 밝혔다.\n",
            "2 : 있다.\n",
            "3 : 말했다.\n",
            "4 : 수\n",
            "5 : 있는\n",
            "6 : 그는\n",
            "7 : 대한\n",
            "8 : 위해\n",
            "9 : 전했다.\n",
            "10 : 지난\n",
            "11 : 이번\n"
          ]
        }
      ]
    },
    {
      "cell_type": "markdown",
      "source": [
        "# 4.형태소 기반 토큰화"
      ],
      "metadata": {
        "id": "LqPzmTORwjHq"
      }
    },
    {
      "cell_type": "code",
      "source": [
        "# MeCab 기반 단어사전 및 Tensor 데이터 추출\n",
        "\n",
        "def mecab_split(sentence):\n",
        "    return mecab.morphs(sentence)\n",
        "\n",
        "mecab_corpus = []\n",
        "\n",
        "for kor in filtered_corpus:\n",
        "    mecab_corpus.append(mecab_split(kor))"
      ],
      "metadata": {
        "id": "Ktz0vucxwqnv"
      },
      "execution_count": 173,
      "outputs": []
    },
    {
      "cell_type": "code",
      "source": [
        "# 형태소 기반 토큰화 진행 + 단어 사전 길이 확인\n",
        "\n",
        "mecab_tensor, mecab_tokenizer = tokenize(mecab_corpus)\n",
        "\n",
        "print(\"meCab vocab Size:\", len(mecab_tokenizer.index_word))"
      ],
      "metadata": {
        "colab": {
          "base_uri": "https://localhost:8080/"
        },
        "id": "k0mIdLGixOmL",
        "outputId": "8e33c4be-b3f2-4f80-d65a-4cb5b028b5f4"
      },
      "execution_count": 174,
      "outputs": [
        {
          "output_type": "stream",
          "name": "stdout",
          "text": [
            "meCab vocab Size: 52279\n"
          ]
        }
      ]
    },
    {
      "cell_type": "code",
      "source": [
        "# Tensor를 문장으로 Decoding하기: 1. tokenizer.sequences_to_test() 함수 사용\n",
        "\n",
        "texts = mecab_tokenizer.sequences_to_texts([mecab_tensor[100]])\n",
        "\n",
        "print(texts[0])"
      ],
      "metadata": {
        "colab": {
          "base_uri": "https://localhost:8080/"
        },
        "id": "gUk0sVEWyLXz",
        "outputId": "ec9976e9-563e-47f3-e7ee-7ed78ce36788"
      },
      "execution_count": 175,
      "outputs": [
        {
          "output_type": "stream",
          "name": "stdout",
          "text": [
            "실종 되 기 전 데이비스 는 13 일 마지막 으로 목격 됐으며 , 출산 예정일 은 7 월 초 였 던 것 으로 알려졌 다 .\n"
          ]
        }
      ]
    },
    {
      "cell_type": "code",
      "source": [
        "# Tensor를 문장으로 Decoding하기: 2. tokenizer.index_word를 사용\n",
        "\n",
        "sentence = \"\"\n",
        "\n",
        "for w in mecab_tensor[100]:\n",
        "    if w == 0: continue\n",
        "    sentence += mecab_tokenizer.index_word[w] + \" \"\n",
        "\n",
        "print(sentence)"
      ],
      "metadata": {
        "colab": {
          "base_uri": "https://localhost:8080/"
        },
        "id": "LCBFYcPEyv6w",
        "outputId": "84d7a639-95c1-4cbe-e4b2-e9f29e883ebb"
      },
      "execution_count": 176,
      "outputs": [
        {
          "output_type": "stream",
          "name": "stdout",
          "text": [
            "실종 되 기 전 데이비스 는 13 일 마지막 으로 목격 됐으며 , 출산 예정일 은 7 월 초 였 던 것 으로 알려졌 다 . \n"
          ]
        }
      ]
    },
    {
      "cell_type": "markdown",
      "source": [
        "# 프로젝트: SentencePiece 사용하기"
      ],
      "metadata": {
        "id": "l5lS3E6_0beV"
      }
    },
    {
      "cell_type": "markdown",
      "source": [
        "## 0. 모듈 임포트"
      ],
      "metadata": {
        "id": "r5damCEc3lbS"
      }
    },
    {
      "cell_type": "code",
      "source": [
        "# 0. 모듈 임포트\n",
        "\n",
        "import tensorflow as tf\n",
        "import numpy as np\n",
        "import matplotlib.pyplot as plt\n",
        "import konlpy\n",
        "\n"
      ],
      "metadata": {
        "id": "K6po1tNl0cwS"
      },
      "execution_count": 177,
      "outputs": []
    },
    {
      "cell_type": "markdown",
      "source": [
        "## 1. SentencePiece 설치"
      ],
      "metadata": {
        "id": "d3xSZ9_Y3nvb"
      }
    },
    {
      "cell_type": "code",
      "source": [
        "# 1. SentencePiece 설치\n",
        "\n",
        "! pip install sentencepiece"
      ],
      "metadata": {
        "colab": {
          "base_uri": "https://localhost:8080/"
        },
        "id": "BxOvGYk_0rKw",
        "outputId": "798d5889-6772-43fb-e922-41b39acdbcae"
      },
      "execution_count": 178,
      "outputs": [
        {
          "output_type": "stream",
          "name": "stdout",
          "text": [
            "Requirement already satisfied: sentencepiece in /usr/local/lib/python3.7/dist-packages (0.1.96)\n"
          ]
        }
      ]
    },
    {
      "cell_type": "markdown",
      "source": [
        "## 2. SentencePiece 모델 학습"
      ],
      "metadata": {
        "id": "yq3_hllN3vG0"
      }
    },
    {
      "cell_type": "code",
      "source": [
        "# 예시 - tokenize() 함수\n",
        "\n",
        "def tokenize(corpus):  # corpus: Tokenized Sentence's List\n",
        "    tokenizer = tf.keras.preprocessing.text.Tokenizer(filters='')\n",
        "    tokenizer.fit_on_texts(corpus)\n",
        "\n",
        "    tensor = tokenizer.texts_to_sequences(corpus)\n",
        "\n",
        "    tensor = tf.keras.preprocessing.sequence.pad_sequences(tensor, padding='post')\n",
        "\n",
        "    return tensor, tokenizer\n"
      ],
      "metadata": {
        "id": "K3usQfoQ1KvM"
      },
      "execution_count": 179,
      "outputs": []
    },
    {
      "cell_type": "code",
      "source": [
        "# SentencePiece 모델 학습\n",
        "\n",
        "import sentencepiece as spm\n",
        "\n",
        "temp_file = \"/content/drive/MyDrive/아이펠/GoingDeeper/2/korean-english-park.train/korean-english-park.train.ko\"\n",
        "\n",
        "vocab_size = 8000\n",
        "\n",
        "with open(temp_file, 'w') as f:\n",
        "    for row in filtered_corpus:        # 이전 스텝에서 정제한 corpus 활용\n",
        "        f.write(str(row) + '\\n')\n",
        "\n",
        "spm.SentencePieceTrainer.Train(\n",
        "    '--input={} --model_prefix=korean_spm --vocab_size={}'.format(temp_file, vocab_size)\n",
        ")\n",
        "#위 Train에서  --model_type = 'unigram'이 디폴트 적용되어 있습니다. --model_type = 'bpe' 로 옵션을 주어 변경할 수 있습니다.\n",
        "\n",
        "!ls -l korean_spm*"
      ],
      "metadata": {
        "colab": {
          "base_uri": "https://localhost:8080/"
        },
        "id": "jbD32s4D1gKB",
        "outputId": "f0873294-ab4a-4737-fcc0-4d93b0b050f4"
      },
      "execution_count": 180,
      "outputs": [
        {
          "output_type": "stream",
          "name": "stdout",
          "text": [
            "-rw-r--r-- 1 root root 376864 Mar 16 10:01 korean_spm.model\n",
            "-rw-r--r-- 1 root root 146213 Mar 16 10:01 korean_spm.vocab\n"
          ]
        }
      ]
    },
    {
      "cell_type": "code",
      "source": [
        "# Sentencepiece모델 활용\n",
        "\n",
        "s = spm.SentencePieceProcessor()\n",
        "s.Load('korean_spm.model')\n",
        "\n",
        "  # SentencePiece를 활용한 sentence -> encoding\n",
        "tokensIDs = s.EncodeAsIds('아버지가방에들어가신다.')\n",
        "print(tokensIDs)\n",
        "\n",
        "  # SentencePiece를 활용한 sentence -> encoded pieces\n",
        "print(s.SampleEncodeAsPieces('아버지가방에들어가신다.', 1, 0.0))\n",
        "\n",
        "  # SentencePiece를 활용한 encoding -> sentence 복원\n",
        "print(s.DecodeIds(tokensIDs))"
      ],
      "metadata": {
        "colab": {
          "base_uri": "https://localhost:8080/"
        },
        "id": "Tn1tVw2J2xjA",
        "outputId": "42c47601-7224-475f-9f12-653626410c16"
      },
      "execution_count": 181,
      "outputs": [
        {
          "output_type": "stream",
          "name": "stdout",
          "text": [
            "[1243, 11, 302, 7, 3608, 11, 287, 38, 3]\n",
            "['▁아버지', '가', '방', '에', '들어', '가', '신', '다', '.']\n",
            "아버지가방에들어가신다.\n"
          ]
        }
      ]
    },
    {
      "cell_type": "markdown",
      "source": [
        "## 3. Tokenizer 함수 작성"
      ],
      "metadata": {
        "id": "oTy8rxGI3IDE"
      }
    },
    {
      "cell_type": "code",
      "source": [
        "def sp_tokenize(s, corpus):\n",
        "\n",
        "    tensor = []\n",
        "\n",
        "    for sen in corpus:\n",
        "        tensor.append(s.EncodeAsIds(sen))\n",
        "\n",
        "    with open(\"./korean_spm.vocab\", 'r') as f:\n",
        "        vocab = f.readlines()\n",
        "\n",
        "    word_index = {}\n",
        "    index_word = {}\n",
        "\n",
        "    for idx, line in enumerate(vocab):\n",
        "        word = line.split(\"\\t\")[0]\n",
        "\n",
        "        word_index.update({idx:word})\n",
        "        index_word.update({word:idx})\n",
        "\n",
        "    tensor = tf.keras.preprocessing.sequence.pad_sequences(tensor, padding='post')\n",
        "\n",
        "    return tensor, word_index, index_word"
      ],
      "metadata": {
        "id": "zBOncHqD4Xcb"
      },
      "execution_count": 182,
      "outputs": []
    },
    {
      "cell_type": "code",
      "source": [
        "# sp_tokenize(s, corpus) 사용 예제\n",
        "\n",
        "my_corpus = ['나는 밥을 먹었습니다.', '그러나 여전히 ㅠㅠ 배가 고픕니다...']\n",
        "tensor, word_index, index_word = sp_tokenize(s, my_corpus)\n",
        "print(tensor)"
      ],
      "metadata": {
        "colab": {
          "base_uri": "https://localhost:8080/"
        },
        "id": "6d5t9vr-5V1b",
        "outputId": "962d1ebc-4234-4bad-c753-939386928742"
      },
      "execution_count": 183,
      "outputs": [
        {
          "output_type": "stream",
          "name": "stdout",
          "text": [
            "[[1956 5665    5    4 7975 1990    3    0    0    0    0    0    0    0]\n",
            " [ 107 1641  101    4    0  417   11    4   14    0 1976    3    3    3]]\n"
          ]
        }
      ]
    },
    {
      "cell_type": "markdown",
      "source": [
        "# 프로젝트: 영화 리뷰 텍스트 감성 분석"
      ],
      "metadata": {
        "id": "HSDopWSlAzhK"
      }
    },
    {
      "cell_type": "markdown",
      "source": [
        "## 1. 데이터 로드\n"
      ],
      "metadata": {
        "id": "-xyH9L71A9p0"
      }
    },
    {
      "cell_type": "code",
      "source": [
        "!git clone https://github.com/e9t/nsmc.git\n",
        "  "
      ],
      "metadata": {
        "colab": {
          "base_uri": "https://localhost:8080/"
        },
        "id": "TilEQA7WCZSE",
        "outputId": "0ee27329-566b-4115-b1b0-7457e6222cf3"
      },
      "execution_count": 184,
      "outputs": [
        {
          "output_type": "stream",
          "name": "stdout",
          "text": [
            "fatal: destination path 'nsmc' already exists and is not an empty directory.\n"
          ]
        }
      ]
    },
    {
      "cell_type": "code",
      "source": [
        "import os\n",
        "os.listdir('nsmc')"
      ],
      "metadata": {
        "colab": {
          "base_uri": "https://localhost:8080/"
        },
        "id": "LqcaRRykChDf",
        "outputId": "47fae722-eb2b-46b4-c66f-7a597f405dff"
      },
      "execution_count": 185,
      "outputs": [
        {
          "output_type": "execute_result",
          "data": {
            "text/plain": [
              "['raw',\n",
              " 'code',\n",
              " '.git',\n",
              " 'README.md',\n",
              " 'ratings_test.txt',\n",
              " 'synopses.json',\n",
              " 'ratings_train.txt',\n",
              " 'ratings.txt']"
            ]
          },
          "metadata": {},
          "execution_count": 185
        }
      ]
    },
    {
      "cell_type": "code",
      "source": [
        "import pandas as pd\n",
        "\n",
        "train = pd.read_table(\"nsmc/\"+\"ratings_train.txt\")\n",
        "test = pd.read_table(\"nsmc/\"+\"ratings_test.txt\")\n",
        "\n",
        "print(len(train))\n",
        "print(len(test))\n",
        "print(train.head())\n",
        "print(test.head())"
      ],
      "metadata": {
        "colab": {
          "base_uri": "https://localhost:8080/"
        },
        "id": "XmC6TfB5A_av",
        "outputId": "82966c0b-472a-44c7-bad8-b854f00e1e3d"
      },
      "execution_count": 186,
      "outputs": [
        {
          "output_type": "stream",
          "name": "stdout",
          "text": [
            "150000\n",
            "50000\n",
            "         id                                           document  label\n",
            "0   9976970                                아 더빙.. 진짜 짜증나네요 목소리      0\n",
            "1   3819312                  흠...포스터보고 초딩영화줄....오버연기조차 가볍지 않구나      1\n",
            "2  10265843                                  너무재밓었다그래서보는것을추천한다      0\n",
            "3   9045019                      교도소 이야기구먼 ..솔직히 재미는 없다..평점 조정      0\n",
            "4   6483659  사이몬페그의 익살스런 연기가 돋보였던 영화!스파이더맨에서 늙어보이기만 했던 커스틴 ...      1\n",
            "        id                                           document  label\n",
            "0  6270596                                                굳 ㅋ      1\n",
            "1  9274899                               GDNTOPCLASSINTHECLUB      0\n",
            "2  8544678             뭐야 이 평점들은.... 나쁘진 않지만 10점 짜리는 더더욱 아니잖아      0\n",
            "3  6825595                   지루하지는 않은데 완전 막장임... 돈주고 보기에는....      0\n",
            "4  6723715  3D만 아니었어도 별 다섯 개 줬을텐데.. 왜 3D로 나와서 제 심기를 불편하게 하죠??      0\n"
          ]
        }
      ]
    },
    {
      "cell_type": "markdown",
      "source": [
        "## 2. 데이터 전처리"
      ],
      "metadata": {
        "id": "yS267ukNCHTk"
      }
    },
    {
      "cell_type": "code",
      "source": [
        "# 중복 데이터 제거\n",
        "\n",
        "train.drop_duplicates(subset=['document'], inplace=True)\n",
        "print(len(train))\n"
      ],
      "metadata": {
        "colab": {
          "base_uri": "https://localhost:8080/"
        },
        "id": "I0yh30OgDoe9",
        "outputId": "c3295b0d-1fd5-44d9-bd9a-2c8e5996e5a7"
      },
      "execution_count": 187,
      "outputs": [
        {
          "output_type": "stream",
          "name": "stdout",
          "text": [
            "146183\n"
          ]
        }
      ]
    },
    {
      "cell_type": "code",
      "source": [
        "# null값 제거\n",
        "\n",
        "print(train.loc[train.document.isnull()])\n",
        "\n",
        "train = train.dropna(how='any')\n",
        "\n"
      ],
      "metadata": {
        "colab": {
          "base_uri": "https://localhost:8080/"
        },
        "id": "7wdn1j4LERVT",
        "outputId": "5e486c74-23e1-4174-8bcf-b9bff415a8b0"
      },
      "execution_count": 188,
      "outputs": [
        {
          "output_type": "stream",
          "name": "stdout",
          "text": [
            "            id document  label\n",
            "25857  2172111      NaN      1\n"
          ]
        }
      ]
    },
    {
      "cell_type": "code",
      "source": [
        "# 데이터 전처리 : 한글 및 공백을 제외한 나머지 제거\n",
        "train['document'] = train['document'].str.replace(\"[^ㄱ-ㅎㅏ-ㅣ가-힣 ]\",\"\")\n",
        "\n",
        "train.head()"
      ],
      "metadata": {
        "colab": {
          "base_uri": "https://localhost:8080/",
          "height": 0
        },
        "id": "pCUJmNg4EvMM",
        "outputId": "5b59c95b-9b28-4d05-bb38-5a5162fda051"
      },
      "execution_count": 189,
      "outputs": [
        {
          "output_type": "stream",
          "name": "stderr",
          "text": [
            "/usr/local/lib/python3.7/dist-packages/ipykernel_launcher.py:2: FutureWarning: The default value of regex will change from True to False in a future version.\n",
            "  \n"
          ]
        },
        {
          "output_type": "execute_result",
          "data": {
            "text/plain": [
              "         id                                           document  label\n",
              "0   9976970                                  아 더빙 진짜 짜증나네요 목소리      0\n",
              "1   3819312                         흠포스터보고 초딩영화줄오버연기조차 가볍지 않구나      1\n",
              "2  10265843                                  너무재밓었다그래서보는것을추천한다      0\n",
              "3   9045019                          교도소 이야기구먼 솔직히 재미는 없다평점 조정      0\n",
              "4   6483659  사이몬페그의 익살스런 연기가 돋보였던 영화스파이더맨에서 늙어보이기만 했던 커스틴 던...      1"
            ],
            "text/html": [
              "\n",
              "  <div id=\"df-d4564c2f-7373-43ea-8405-98f1525352b0\">\n",
              "    <div class=\"colab-df-container\">\n",
              "      <div>\n",
              "<style scoped>\n",
              "    .dataframe tbody tr th:only-of-type {\n",
              "        vertical-align: middle;\n",
              "    }\n",
              "\n",
              "    .dataframe tbody tr th {\n",
              "        vertical-align: top;\n",
              "    }\n",
              "\n",
              "    .dataframe thead th {\n",
              "        text-align: right;\n",
              "    }\n",
              "</style>\n",
              "<table border=\"1\" class=\"dataframe\">\n",
              "  <thead>\n",
              "    <tr style=\"text-align: right;\">\n",
              "      <th></th>\n",
              "      <th>id</th>\n",
              "      <th>document</th>\n",
              "      <th>label</th>\n",
              "    </tr>\n",
              "  </thead>\n",
              "  <tbody>\n",
              "    <tr>\n",
              "      <th>0</th>\n",
              "      <td>9976970</td>\n",
              "      <td>아 더빙 진짜 짜증나네요 목소리</td>\n",
              "      <td>0</td>\n",
              "    </tr>\n",
              "    <tr>\n",
              "      <th>1</th>\n",
              "      <td>3819312</td>\n",
              "      <td>흠포스터보고 초딩영화줄오버연기조차 가볍지 않구나</td>\n",
              "      <td>1</td>\n",
              "    </tr>\n",
              "    <tr>\n",
              "      <th>2</th>\n",
              "      <td>10265843</td>\n",
              "      <td>너무재밓었다그래서보는것을추천한다</td>\n",
              "      <td>0</td>\n",
              "    </tr>\n",
              "    <tr>\n",
              "      <th>3</th>\n",
              "      <td>9045019</td>\n",
              "      <td>교도소 이야기구먼 솔직히 재미는 없다평점 조정</td>\n",
              "      <td>0</td>\n",
              "    </tr>\n",
              "    <tr>\n",
              "      <th>4</th>\n",
              "      <td>6483659</td>\n",
              "      <td>사이몬페그의 익살스런 연기가 돋보였던 영화스파이더맨에서 늙어보이기만 했던 커스틴 던...</td>\n",
              "      <td>1</td>\n",
              "    </tr>\n",
              "  </tbody>\n",
              "</table>\n",
              "</div>\n",
              "      <button class=\"colab-df-convert\" onclick=\"convertToInteractive('df-d4564c2f-7373-43ea-8405-98f1525352b0')\"\n",
              "              title=\"Convert this dataframe to an interactive table.\"\n",
              "              style=\"display:none;\">\n",
              "        \n",
              "  <svg xmlns=\"http://www.w3.org/2000/svg\" height=\"24px\"viewBox=\"0 0 24 24\"\n",
              "       width=\"24px\">\n",
              "    <path d=\"M0 0h24v24H0V0z\" fill=\"none\"/>\n",
              "    <path d=\"M18.56 5.44l.94 2.06.94-2.06 2.06-.94-2.06-.94-.94-2.06-.94 2.06-2.06.94zm-11 1L8.5 8.5l.94-2.06 2.06-.94-2.06-.94L8.5 2.5l-.94 2.06-2.06.94zm10 10l.94 2.06.94-2.06 2.06-.94-2.06-.94-.94-2.06-.94 2.06-2.06.94z\"/><path d=\"M17.41 7.96l-1.37-1.37c-.4-.4-.92-.59-1.43-.59-.52 0-1.04.2-1.43.59L10.3 9.45l-7.72 7.72c-.78.78-.78 2.05 0 2.83L4 21.41c.39.39.9.59 1.41.59.51 0 1.02-.2 1.41-.59l7.78-7.78 2.81-2.81c.8-.78.8-2.07 0-2.86zM5.41 20L4 18.59l7.72-7.72 1.47 1.35L5.41 20z\"/>\n",
              "  </svg>\n",
              "      </button>\n",
              "      \n",
              "  <style>\n",
              "    .colab-df-container {\n",
              "      display:flex;\n",
              "      flex-wrap:wrap;\n",
              "      gap: 12px;\n",
              "    }\n",
              "\n",
              "    .colab-df-convert {\n",
              "      background-color: #E8F0FE;\n",
              "      border: none;\n",
              "      border-radius: 50%;\n",
              "      cursor: pointer;\n",
              "      display: none;\n",
              "      fill: #1967D2;\n",
              "      height: 32px;\n",
              "      padding: 0 0 0 0;\n",
              "      width: 32px;\n",
              "    }\n",
              "\n",
              "    .colab-df-convert:hover {\n",
              "      background-color: #E2EBFA;\n",
              "      box-shadow: 0px 1px 2px rgba(60, 64, 67, 0.3), 0px 1px 3px 1px rgba(60, 64, 67, 0.15);\n",
              "      fill: #174EA6;\n",
              "    }\n",
              "\n",
              "    [theme=dark] .colab-df-convert {\n",
              "      background-color: #3B4455;\n",
              "      fill: #D2E3FC;\n",
              "    }\n",
              "\n",
              "    [theme=dark] .colab-df-convert:hover {\n",
              "      background-color: #434B5C;\n",
              "      box-shadow: 0px 1px 3px 1px rgba(0, 0, 0, 0.15);\n",
              "      filter: drop-shadow(0px 1px 2px rgba(0, 0, 0, 0.3));\n",
              "      fill: #FFFFFF;\n",
              "    }\n",
              "  </style>\n",
              "\n",
              "      <script>\n",
              "        const buttonEl =\n",
              "          document.querySelector('#df-d4564c2f-7373-43ea-8405-98f1525352b0 button.colab-df-convert');\n",
              "        buttonEl.style.display =\n",
              "          google.colab.kernel.accessAllowed ? 'block' : 'none';\n",
              "\n",
              "        async function convertToInteractive(key) {\n",
              "          const element = document.querySelector('#df-d4564c2f-7373-43ea-8405-98f1525352b0');\n",
              "          const dataTable =\n",
              "            await google.colab.kernel.invokeFunction('convertToInteractive',\n",
              "                                                     [key], {});\n",
              "          if (!dataTable) return;\n",
              "\n",
              "          const docLinkHtml = 'Like what you see? Visit the ' +\n",
              "            '<a target=\"_blank\" href=https://colab.research.google.com/notebooks/data_table.ipynb>data table notebook</a>'\n",
              "            + ' to learn more about interactive tables.';\n",
              "          element.innerHTML = '';\n",
              "          dataTable['output_type'] = 'display_data';\n",
              "          await google.colab.output.renderOutput(dataTable, element);\n",
              "          const docLink = document.createElement('div');\n",
              "          docLink.innerHTML = docLinkHtml;\n",
              "          element.appendChild(docLink);\n",
              "        }\n",
              "      </script>\n",
              "    </div>\n",
              "  </div>\n",
              "  "
            ]
          },
          "metadata": {},
          "execution_count": 189
        }
      ]
    },
    {
      "cell_type": "code",
      "source": [
        "# null값 제거: 데이터 전처리 후 새로 생긴 null 대상\n",
        "\n",
        "train['document'] = train['document'].str.replace('^ +', \"\")\n",
        "train_ = train.dropna(how='any')"
      ],
      "metadata": {
        "colab": {
          "base_uri": "https://localhost:8080/"
        },
        "id": "1n4UJZSNF40d",
        "outputId": "2dcda2fd-935e-49d1-96ca-d74e734eb68f"
      },
      "execution_count": 190,
      "outputs": [
        {
          "output_type": "stream",
          "name": "stderr",
          "text": [
            "/usr/local/lib/python3.7/dist-packages/ipykernel_launcher.py:3: FutureWarning: The default value of regex will change from True to False in a future version.\n",
            "  This is separate from the ipykernel package so we can avoid doing imports until\n"
          ]
        }
      ]
    },
    {
      "cell_type": "code",
      "source": [
        "# 테스트 데이터 전처리: 이전 과정 반복\n",
        "\n",
        "  # 중복 제거\n",
        "test.drop_duplicates(subset=['document'], inplace=True)\n",
        "  # 데이터 전처리\n",
        "test['document'] = test['document'].str.replace(\"[^ㄱ-ㅎㅏ-ㅣ가-힣 ]\", \"\")\n",
        "  # null값 제거\n",
        "test['document'] = test['document'].str.replace('^ +', \"\")\n",
        "test = test.dropna(how='any')\n"
      ],
      "metadata": {
        "colab": {
          "base_uri": "https://localhost:8080/"
        },
        "id": "qKIU7MAbGF8S",
        "outputId": "17ce5d09-470f-4f34-eba7-3a7e95141990"
      },
      "execution_count": 191,
      "outputs": [
        {
          "output_type": "stream",
          "name": "stderr",
          "text": [
            "/usr/local/lib/python3.7/dist-packages/ipykernel_launcher.py:6: FutureWarning: The default value of regex will change from True to False in a future version.\n",
            "  \n",
            "/usr/local/lib/python3.7/dist-packages/ipykernel_launcher.py:8: FutureWarning: The default value of regex will change from True to False in a future version.\n",
            "  \n"
          ]
        }
      ]
    },
    {
      "cell_type": "code",
      "source": [
        "# 전체 데이터 개수 확인\n",
        "print(len(train))\n",
        "print(len(test))"
      ],
      "metadata": {
        "colab": {
          "base_uri": "https://localhost:8080/"
        },
        "id": "6Y_eST2dHMDR",
        "outputId": "f4427d79-bad7-42dc-eb6b-dac04ccb5325"
      },
      "execution_count": 192,
      "outputs": [
        {
          "output_type": "stream",
          "name": "stdout",
          "text": [
            "146182\n",
            "49157\n"
          ]
        }
      ]
    },
    {
      "cell_type": "markdown",
      "source": [
        "## 3. 데이터 길이 정제"
      ],
      "metadata": {
        "id": "rcgoA0urHh7y"
      }
    },
    {
      "cell_type": "code",
      "source": [
        "min_len = 999\n",
        "max_len = 0\n",
        "sum_len = 0\n",
        "\n",
        "for sen in train['document']:\n",
        "    length = len(sen)\n",
        "\n",
        "    if min_len > length:\n",
        "        min_len = length\n",
        "\n",
        "    if max_len < length:\n",
        "        max_len = length\n",
        "\n",
        "    sum_len += length\n",
        "\n",
        "print(\"maxlen:\", max_len)\n",
        "print(\"minlen:\", min_len)\n",
        "print(\"avelen:\", sum_len//len(train))\n",
        "\n",
        "sentence_length = np.zeros((max_len), dtype=np.int)\n",
        "\n",
        "for sen in train['document']:\n",
        "    sentence_length[len(sen)-1] += 1\n",
        "\n",
        "plt.bar(range(max_len), sentence_length, width=1.0)\n",
        "plt.title(\"Sentence Length\")\n",
        "plt.show"
      ],
      "metadata": {
        "colab": {
          "base_uri": "https://localhost:8080/",
          "height": 408
        },
        "id": "zk_5jttaHoga",
        "outputId": "360d3359-e4ec-443c-c24f-56c5b9437005"
      },
      "execution_count": 193,
      "outputs": [
        {
          "output_type": "stream",
          "name": "stderr",
          "text": [
            "/usr/local/lib/python3.7/dist-packages/ipykernel_launcher.py:20: DeprecationWarning: `np.int` is a deprecated alias for the builtin `int`. To silence this warning, use `int` by itself. Doing this will not modify any behavior and is safe. When replacing `np.int`, you may wish to use e.g. `np.int64` or `np.int32` to specify the precision. If you wish to review your current use, check the release note link for additional information.\n",
            "Deprecated in NumPy 1.20; for more details and guidance: https://numpy.org/devdocs/release/1.20.0-notes.html#deprecations\n"
          ]
        },
        {
          "output_type": "stream",
          "name": "stdout",
          "text": [
            "maxlen: 140\n",
            "minlen: 0\n",
            "avelen: 32\n"
          ]
        },
        {
          "output_type": "execute_result",
          "data": {
            "text/plain": [
              "<function matplotlib.pyplot.show>"
            ]
          },
          "metadata": {},
          "execution_count": 193
        },
        {
          "output_type": "display_data",
          "data": {
            "text/plain": [
              "<Figure size 432x288 with 1 Axes>"
            ],
            "image/png": "[encoded data removed]"
          },
          "metadata": {
            "needs_background": "light"
          }
        }
      ]
    },
    {
      "cell_type": "code",
      "source": [
        "# 긴 문장(길이 40이상) 제외\n",
        "\n",
        "train_list = [s for s in train['document'] if len(s) <= 40]\n",
        "test_list = [s for s in test['document'] if len(s) <= 40]\n",
        "\n",
        "train_list = list(set(train_list))\n",
        "test_list = list(set(test_list))\n",
        "\n",
        "train_df = pd.DataFrame(train_list)\n",
        "test_df = pd.DataFrame(test_list)\n",
        "\n"
      ],
      "metadata": {
        "id": "yfPYOaq2KEPz"
      },
      "execution_count": 241,
      "outputs": []
    },
    {
      "cell_type": "code",
      "source": [
        "# 기존 데이터와 병합 후 출력\n",
        "\n",
        "new_train_df = pd.merge(train, train_df, how='inner', left_on='document', right_on=0)\n",
        "new_test_df = pd.merge(test, test_df, how='inner', left_on='document', right_on=0)\n",
        "\n",
        "train = new_train_df[['id', 'document', 'label']]\n",
        "test = new_test_df[['id', 'document', 'label']]\n",
        "\n",
        "print(train.head())\n",
        "print(test.head())"
      ],
      "metadata": {
        "colab": {
          "base_uri": "https://localhost:8080/"
        },
        "id": "0QQT9MWOL6Iv",
        "outputId": "5088b23d-e970-4c3a-85c4-0b37318e87a8"
      },
      "execution_count": 242,
      "outputs": [
        {
          "output_type": "stream",
          "name": "stdout",
          "text": [
            "         id                               document  label\n",
            "0   9976970                      아 더빙 진짜 짜증나네요 목소리      0\n",
            "1   3819312             흠포스터보고 초딩영화줄오버연기조차 가볍지 않구나      1\n",
            "2  10265843                      너무재밓었다그래서보는것을추천한다      0\n",
            "3   9045019              교도소 이야기구먼 솔직히 재미는 없다평점 조정      0\n",
            "4   5403919  막 걸음마 뗀 세부터 초등학교 학년생인 살용영화ㅋㅋㅋ별반개도 아까움      0\n",
            "        id                                  document  label\n",
            "0  8544678          뭐야 이 평점들은 나쁘진 않지만 점 짜리는 더더욱 아니잖아      0\n",
            "1  6825595                 지루하지는 않은데 완전 막장임 돈주고 보기에는      0\n",
            "2  7898805                         음악이 주가 된 최고의 음악영화      1\n",
            "3  6097171   마치 미국애니에서 튀어나온듯한 창의력없는 로봇디자인부터가고개를 젖게한다      0\n",
            "4  6242223  이별의 아픔뒤에 찾아오는 새로운 인연의 기쁨  모든 사람이 그렇지는 않네      1\n"
          ]
        }
      ]
    },
    {
      "cell_type": "markdown",
      "source": [
        "## 4. 토큰화"
      ],
      "metadata": {
        "id": "5Cy9EyUFOIH_"
      }
    },
    {
      "cell_type": "code",
      "source": [
        "# input 및 target 데이터 분리\n",
        "\n",
        "  # 데이터 인코딩\n",
        "X_train = []\n",
        "for sentence in train['document']:\n",
        "    temp_X = s.EncodeAsIds(sentence)\n",
        "    X_train.append(temp_X)\n",
        "\n",
        "X_test = []\n",
        "for sentence in test['document']:\n",
        "    temp_X = s.EncodeAsIds(sentence)\n",
        "    X_test.append(temp_X)\n",
        "\n",
        "X_train, X_train_word_index, X_train_index_word = sp_tokenize(s, train['document'])\n",
        "X_test, X_test_word_index, X_test_index_word = sp_tokenize(s, test['document'])"
      ],
      "metadata": {
        "id": "sS_Yp2MCNanZ"
      },
      "execution_count": 257,
      "outputs": []
    },
    {
      "cell_type": "code",
      "source": [
        "# 타겟값 추출\n",
        "y_train = np.array(list(train['label']))\n",
        "y_test = np.array(list(test['label']))"
      ],
      "metadata": {
        "id": "BLYxWe1fNmDf"
      },
      "execution_count": 258,
      "outputs": []
    },
    {
      "cell_type": "code",
      "source": [
        "print(X_train[:5], y_train[:5])"
      ],
      "metadata": {
        "colab": {
          "base_uri": "https://localhost:8080/"
        },
        "id": "Tv0XqdEiN3LV",
        "outputId": "3c577a23-1c9f-4fad-f107-ddeefabf0a04"
      },
      "execution_count": 259,
      "outputs": [
        {
          "output_type": "stream",
          "name": "stdout",
          "text": [
            "[[ 141  106 2611  912 4856    4 4856  752   69  554  514 2648    0    0\n",
            "     0    0    0    0    0    0    0    0    0    0    0    0    0    0\n",
            "     0    0    0    0    0    0    0    0    0    0    0    0]\n",
            " [   4 7663  466 1756  146   14  439 3174 2766 1791  175  408  381   41\n",
            "  4189    4   11 7570   29 1311  230   69    0    0    0    0    0    0\n",
            "     0    0    0    0    0    0    0    0    0    0    0    0]\n",
            " [1328  437    0  266  254  591   95  146   10 1960    5 1011  703  249\n",
            "     0    0    0    0    0    0    0    0    0    0    0    0    0    0\n",
            "     0    0    0    0    0    0    0    0    0    0    0    0]\n",
            " [2226 1162  230  995 3501  312  101  295  136   10  305 1389  344 3261\n",
            "     0    0    0    0    0    0    0    0    0    0    0    0    0    0\n",
            "     0    0    0    0    0    0    0    0    0    0    0    0]\n",
            " [ 933 1033 1082  151    4    0  348  502  439  993 2905 2359   37  667\n",
            "    19  730  255 2766    0 1427  571  187   30  141 2097 1898    0    0\n",
            "     0    0    0    0    0    0    0    0    0    0    0    0]] [0 1 0 0 0]\n"
          ]
        }
      ]
    },
    {
      "cell_type": "markdown",
      "source": [
        "## 5. 모델 훈련 및 평가\n",
        "- loss: 0.44 / accuracy: 0.8"
      ],
      "metadata": {
        "id": "uFml71MzOPxw"
      }
    },
    {
      "cell_type": "code",
      "source": [
        "# 훈련데이터 및 검증데이터 분리\n",
        "\n",
        "from sklearn.model_selection import train_test_split\n",
        "train_input, val_input, train_target, val_target = train_test_split(X_train, y_train, test_size=0.2, random_state=42)\n"
      ],
      "metadata": {
        "id": "mlX_hF2HORHh"
      },
      "execution_count": 260,
      "outputs": []
    },
    {
      "cell_type": "code",
      "source": [
        "# 패딩 맞추기\n",
        "\n",
        "from tensorflow.keras.preprocessing.sequence import pad_sequences\n",
        "train_seq = pad_sequences(train_input, maxlen=40, padding='post')\n",
        "val_seq = pad_sequences(val_input, maxlen=40, padding='post')"
      ],
      "metadata": {
        "id": "-KInuxXMOYL1"
      },
      "execution_count": 261,
      "outputs": []
    },
    {
      "cell_type": "code",
      "source": [
        "# LSTM 모델 생성\n",
        "\n",
        "from tensorflow import keras\n",
        "\n",
        "model = keras.Sequential()\n",
        "model.add(keras.layers.Embedding(10000, 16))\n",
        "model.add(keras.layers.LSTM(16))\n",
        "model.add(keras.layers.Dense(16, activation='relu'))\n",
        "model.add(keras.layers.Dense(1, activation='sigmoid'))\n",
        "\n"
      ],
      "metadata": {
        "id": "2nK0_IYSO0p9"
      },
      "execution_count": 262,
      "outputs": []
    },
    {
      "cell_type": "code",
      "source": [
        "# 모델 훈련\n",
        "\n",
        "model.compile(optimizer='adam', loss='binary_crossentropy', metrics=['accuracy'])\n",
        "model.fit(train_input, train_target, epochs=10, validation_data=(val_input, val_target))"
      ],
      "metadata": {
        "colab": {
          "base_uri": "https://localhost:8080/"
        },
        "id": "JeanjqeNPnBX",
        "outputId": "a381c244-9043-4111-b56b-d5bf44b4b725"
      },
      "execution_count": 264,
      "outputs": [
        {
          "output_type": "stream",
          "name": "stdout",
          "text": [
            "Epoch 1/10\n",
            "2399/2399 [==============================] - 19s 7ms/step - loss: 0.5408 - accuracy: 0.6994 - val_loss: 0.4536 - val_accuracy: 0.7931\n",
            "Epoch 2/10\n",
            "2399/2399 [==============================] - 14s 6ms/step - loss: 0.4121 - accuracy: 0.8128 - val_loss: 0.4221 - val_accuracy: 0.8026\n",
            "Epoch 3/10\n",
            "2399/2399 [==============================] - 14s 6ms/step - loss: 0.3836 - accuracy: 0.8262 - val_loss: 0.4062 - val_accuracy: 0.8123\n",
            "Epoch 4/10\n",
            "2399/2399 [==============================] - 14s 6ms/step - loss: 0.3591 - accuracy: 0.8370 - val_loss: 0.3993 - val_accuracy: 0.8178\n",
            "Epoch 5/10\n",
            "2399/2399 [==============================] - 15s 6ms/step - loss: 0.3387 - accuracy: 0.8478 - val_loss: 0.4001 - val_accuracy: 0.8182\n",
            "Epoch 6/10\n",
            "2399/2399 [==============================] - 15s 6ms/step - loss: 0.3210 - accuracy: 0.8577 - val_loss: 0.4119 - val_accuracy: 0.8157\n",
            "Epoch 7/10\n",
            "2399/2399 [==============================] - 15s 6ms/step - loss: 0.3043 - accuracy: 0.8663 - val_loss: 0.4235 - val_accuracy: 0.8172\n",
            "Epoch 8/10\n",
            "2399/2399 [==============================] - 14s 6ms/step - loss: 0.2900 - accuracy: 0.8742 - val_loss: 0.4276 - val_accuracy: 0.8111\n",
            "Epoch 9/10\n",
            "2399/2399 [==============================] - 15s 6ms/step - loss: 0.2782 - accuracy: 0.8801 - val_loss: 0.4482 - val_accuracy: 0.8152\n",
            "Epoch 10/10\n",
            "2399/2399 [==============================] - 15s 6ms/step - loss: 0.2666 - accuracy: 0.8879 - val_loss: 0.4400 - val_accuracy: 0.8092\n"
          ]
        },
        {
          "output_type": "execute_result",
          "data": {
            "text/plain": [
              "<keras.callbacks.History at 0x7f6b553283d0>"
            ]
          },
          "metadata": {},
          "execution_count": 264
        }
      ]
    },
    {
      "cell_type": "code",
      "source": [
        "evaluate = model.evaluate(X_test, y_test, verbose=2)\n",
        "print(evaluate)"
      ],
      "metadata": {
        "colab": {
          "base_uri": "https://localhost:8080/"
        },
        "id": "o-mbLg3LSKC2",
        "outputId": "f4cd946e-a61c-4c07-fc41-7c8364667d93"
      },
      "execution_count": 265,
      "outputs": [
        {
          "output_type": "stream",
          "name": "stdout",
          "text": [
            "1003/1003 - 2s - loss: 0.4462 - accuracy: 0.8089 - 2s/epoch - 2ms/step\n",
            "[0.4462137520313263, 0.808919370174408]\n"
          ]
        }
      ]
    }
  ],
  "metadata": {
    "accelerator": "GPU",
    "colab": {
      "name": "(GD2)멋진 단어사전 만들기.ipynb",
      "provenance": []
    },
    "kernelspec": {
      "display_name": "Python 3",
      "name": "python3"
    },
    "language_info": {
      "name": "python"
    }
  },
  "nbformat": 4,
  "nbformat_minor": 0
}